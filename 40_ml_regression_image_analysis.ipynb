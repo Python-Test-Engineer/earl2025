{
 "cells": [
  {
   "cell_type": "markdown",
   "id": "05e91a98",
   "metadata": {},
   "source": [
    "### *see ml_regression folder*\n",
    "\n",
    "Here having used prompts to create the ML_Regression_solution.ipynb notebook, we use Claude to analyse one of the matplotlib images and we aske some questions on it.\n",
    "\n",
    "We also ask for it to create code to run a range of ML and create ml_suggestion.py which we can then run.\n",
    "\n",
    "The conversation is included in the ipynb file."
   ]
  }
 ],
 "metadata": {
  "language_info": {
   "name": "python"
  }
 },
 "nbformat": 4,
 "nbformat_minor": 5
}
