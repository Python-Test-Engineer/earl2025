{
 "cells": [
  {
   "cell_type": "markdown",
   "metadata": {
    "id": "2I6agy8kkgG6"
   },
   "source": [
    "https://mcpservers.org/remote-mcp-servers\n"
   ]
  },
  {
   "cell_type": "markdown",
   "metadata": {
    "id": "pY9ulTcBk0fk"
   },
   "source": [
    "https://mcpservers.org/servers/modelcontextprotocol/fetch\n"
   ]
  },
  {
   "cell_type": "code",
   "execution_count": 1,
   "metadata": {
    "executionInfo": {
     "elapsed": 787,
     "status": "ok",
     "timestamp": 1748943346027,
     "user": {
      "displayName": "Diogo Resende",
      "userId": "05706604408624562002"
     },
     "user_tz": -120
    },
    "id": "WyBPZedGVUEn"
   },
   "outputs": [],
   "source": [
    "import os\n",
    "from dotenv import load_dotenv, find_dotenv\n",
    "\n",
    "load_dotenv(find_dotenv(), override=True)\n",
    "OPENAI_API_KEY = os.getenv(\"OPENAI_API_KEY\")"
   ]
  },
  {
   "cell_type": "code",
   "execution_count": 2,
   "metadata": {
    "executionInfo": {
     "elapsed": 8980,
     "status": "ok",
     "timestamp": 1748943355012,
     "user": {
      "displayName": "Diogo Resende",
      "userId": "05706604408624562002"
     },
     "user_tz": -120
    },
    "id": "-kfo9cy8Whmg"
   },
   "outputs": [],
   "source": [
    "from openai import OpenAI\n",
    "from IPython.display import Markdown\n",
    "\n",
    "client = OpenAI()"
   ]
  },
  {
   "cell_type": "code",
   "execution_count": 3,
   "metadata": {},
   "outputs": [],
   "source": [
    "question = \"\"\"Find information about the Hotel Metropole in Brighton, UK\"\"\"\n",
    "MODEL = \"gpt-4o-mini\""
   ]
  },
  {
   "cell_type": "markdown",
   "metadata": {
    "id": "HG83UxrRKoJz"
   },
   "source": [
    "# MCP Fetch\n"
   ]
  },
  {
   "cell_type": "code",
   "execution_count": 4,
   "metadata": {
    "executionInfo": {
     "elapsed": 20877,
     "status": "ok",
     "timestamp": 1748944248622,
     "user": {
      "displayName": "Diogo Resende",
      "userId": "05706604408624562002"
     },
     "user_tz": -120
    },
    "id": "9C43ZzI9KrSG"
   },
   "outputs": [],
   "source": [
    "# Call the OpenAI API with the responses endpoint\n",
    "response1 = client.responses.create(\n",
    "    model=MODEL,\n",
    "    input=question,\n",
    "    tools=[\n",
    "        {\n",
    "            \"type\": \"mcp\",\n",
    "            \"server_label\": \"fetch\",\n",
    "            \"server_url\": \"https://remote.mcpservers.org/fetch/mcp\",\n",
    "            \"require_approval\": \"never\",\n",
    "        }\n",
    "    ],\n",
    ")"
   ]
  },
  {
   "cell_type": "code",
   "execution_count": null,
   "metadata": {},
   "outputs": [
    {
     "name": "stdout",
     "output_type": "stream",
     "text": [
      "Response(id='resp_689b701d9e2c8197a546c2d6281c3d640c4cf5c372ad7eae', created_at=1755017245.0, error=None, incomplete_details=None, instructions=None, metadata={}, model='gpt-4o-mini-2024-07-18', object='response', output=[McpListTools(id='mcpl_689b701db07c8197a6ce831d945335350c4cf5c372ad7eae', server_label='fetch', tools=[McpListToolsTool(input_schema={'type': 'object', 'properties': {'url': {'type': 'string'}, 'max_length': {'type': 'number', 'default': 5000}, 'start_index': {'type': 'number', 'default': 0}, 'raw': {'type': 'boolean', 'default': False}}, 'required': ['url'], 'additionalProperties': False, '$schema': 'http://json-schema.org/draft-07/schema#'}, name='fetch', annotations=None, description='')], type='mcp_list_tools', error=None), McpCall(id='mcp_689b702cd8808197a53aba7c7a75ce630c4cf5c372ad7eae', arguments='{\"url\":\"https://www.metropolehotelbrighton.com\",\"max_length\":5000,\"start_index\":0,\"raw\":false}', name='fetch', server_label='fetch', type='mcp_call', error=None, output='---\\n---\\n\\nerror code: 1016', approval_request_id=None), ResponseOutputMessage(id='msg_689b703057248197a9ed631f03c81d4e0c4cf5c372ad7eae', content=[ResponseOutputText(annotations=[], text=\"I wasn't able to access the specific website for the Hotel Metropole in Brighton. However, I can provide some general information about the hotel.\\n\\n### Hotel Metropole, Brighton\\n\\n- **Location**: Situated on the seafront, the Metropole offers stunning views of the sea and is close to many local attractions.\\n- **History**: The hotel has a rich history and has been a prominent fixture in Brighton for many years. Its architecture reflects the Victorian era mixed with modern amenities.\\n- **Accommodations**: The Hotel Metropole typically features a variety of room types, including standard rooms, suites, and family accommodations, often equipped with modern comforts.\\n- **Amenities**: Common amenities may include:\\n  - Restaurant and bar\\n  - Spa and wellness center\\n  - Indoor swimming pool\\n  - Conference and event facilities\\n  - Fitness center\\n- **Dining**: The hotel likely offers dining options that feature local cuisine, often with a focus on fresh, seasonal ingredients.\\n\\n### Nearby Attractions\\n- **Brighton Palace Pier**: A traditional British pier with amusement rides and entertainment.\\n- **Royal Pavilion**: A historic palace with exotic architecture and beautiful gardens.\\n- **Brighton Marina**: A waterfront area with shops, restaurants, and water sports.\\n\\nFor the most accurate and detailed information, it’s best to check the hotel’s official website or contact them directly. If there's something specific you're interested in, let me know!\", type='output_text', logprobs=[])], role='assistant', status='completed', type='message')], parallel_tool_calls=True, temperature=1.0, tool_choice='auto', tools=[Mcp(server_label='fetch', server_url='https://remote.mcpservers.org/<redacted>', type='mcp', allowed_tools=None, headers=None, require_approval='never', server_description=None)], top_p=1.0, background=False, max_output_tokens=None, max_tool_calls=None, previous_response_id=None, prompt=None, prompt_cache_key=None, reasoning=Reasoning(effort=None, generate_summary=None, summary=None), safety_identifier=None, service_tier='default', status='completed', text=ResponseTextConfig(format=ResponseFormatText(type='text'), verbosity='medium'), top_logprobs=0, truncation='disabled', usage=ResponseUsage(input_tokens=221, input_tokens_details=InputTokensDetails(cached_tokens=0), output_tokens=332, output_tokens_details=OutputTokensDetails(reasoning_tokens=0), total_tokens=553), user=None, store=True)\n"
     ]
    }
   ],
   "source": [
    "print(response1.out)"
   ]
  },
  {
   "cell_type": "code",
   "execution_count": 9,
   "metadata": {
    "colab": {
     "base_uri": "https://localhost:8080/",
     "height": 528
    },
    "executionInfo": {
     "elapsed": 11,
     "status": "ok",
     "timestamp": 1748944248637,
     "user": {
      "displayName": "Diogo Resende",
      "userId": "05706604408624562002"
     },
     "user_tz": -120
    },
    "id": "J-MObDPDMBoU",
    "outputId": "9d9194e1-8508-4d2d-80d2-59c5a1f92787"
   },
   "outputs": [
    {
     "ename": "AttributeError",
     "evalue": "'Response' object has no attribute 'content'",
     "output_type": "error",
     "traceback": [
      "\u001b[31m---------------------------------------------------------------------------\u001b[39m",
      "\u001b[31mKeyError\u001b[39m                                  Traceback (most recent call last)",
      "\u001b[36mFile \u001b[39m\u001b[32mc:\\Users\\owner\\Desktop\\earl2025\\.venv\\Lib\\site-packages\\pydantic\\main.py:983\u001b[39m, in \u001b[36mBaseModel.__getattr__\u001b[39m\u001b[34m(self, item)\u001b[39m\n\u001b[32m    982\u001b[39m \u001b[38;5;28;01mtry\u001b[39;00m:\n\u001b[32m--> \u001b[39m\u001b[32m983\u001b[39m     \u001b[38;5;28;01mreturn\u001b[39;00m \u001b[43mpydantic_extra\u001b[49m\u001b[43m[\u001b[49m\u001b[43mitem\u001b[49m\u001b[43m]\u001b[49m\n\u001b[32m    984\u001b[39m \u001b[38;5;28;01mexcept\u001b[39;00m \u001b[38;5;167;01mKeyError\u001b[39;00m \u001b[38;5;28;01mas\u001b[39;00m exc:\n",
      "\u001b[31mKeyError\u001b[39m: 'content'",
      "\nThe above exception was the direct cause of the following exception:\n",
      "\u001b[31mAttributeError\u001b[39m                            Traceback (most recent call last)",
      "\u001b[36mCell\u001b[39m\u001b[36m \u001b[39m\u001b[32mIn[9]\u001b[39m\u001b[32m, line 2\u001b[39m\n\u001b[32m      1\u001b[39m \u001b[38;5;66;03m# Display the output\u001b[39;00m\n\u001b[32m----> \u001b[39m\u001b[32m2\u001b[39m Markdown(\u001b[43mresponse1\u001b[49m\u001b[43m.\u001b[49m\u001b[43mcontent\u001b[49m)\n",
      "\u001b[36mFile \u001b[39m\u001b[32mc:\\Users\\owner\\Desktop\\earl2025\\.venv\\Lib\\site-packages\\pydantic\\main.py:985\u001b[39m, in \u001b[36mBaseModel.__getattr__\u001b[39m\u001b[34m(self, item)\u001b[39m\n\u001b[32m    983\u001b[39m         \u001b[38;5;28;01mreturn\u001b[39;00m pydantic_extra[item]\n\u001b[32m    984\u001b[39m     \u001b[38;5;28;01mexcept\u001b[39;00m \u001b[38;5;167;01mKeyError\u001b[39;00m \u001b[38;5;28;01mas\u001b[39;00m exc:\n\u001b[32m--> \u001b[39m\u001b[32m985\u001b[39m         \u001b[38;5;28;01mraise\u001b[39;00m \u001b[38;5;167;01mAttributeError\u001b[39;00m(\u001b[33mf\u001b[39m\u001b[33m'\u001b[39m\u001b[38;5;132;01m{\u001b[39;00m\u001b[38;5;28mtype\u001b[39m(\u001b[38;5;28mself\u001b[39m).\u001b[34m__name__\u001b[39m\u001b[38;5;132;01m!r}\u001b[39;00m\u001b[33m object has no attribute \u001b[39m\u001b[38;5;132;01m{\u001b[39;00mitem\u001b[38;5;132;01m!r}\u001b[39;00m\u001b[33m'\u001b[39m) \u001b[38;5;28;01mfrom\u001b[39;00m\u001b[38;5;250m \u001b[39m\u001b[34;01mexc\u001b[39;00m\n\u001b[32m    986\u001b[39m \u001b[38;5;28;01melse\u001b[39;00m:\n\u001b[32m    987\u001b[39m     \u001b[38;5;28;01mif\u001b[39;00m \u001b[38;5;28mhasattr\u001b[39m(\u001b[38;5;28mself\u001b[39m.\u001b[34m__class__\u001b[39m, item):\n",
      "\u001b[31mAttributeError\u001b[39m: 'Response' object has no attribute 'content'"
     ]
    }
   ],
   "source": [
    "# Display the output\n",
    "Markdown(response1.content)"
   ]
  },
  {
   "cell_type": "code",
   "execution_count": null,
   "metadata": {
    "colab": {
     "base_uri": "https://localhost:8080/"
    },
    "executionInfo": {
     "elapsed": 7,
     "status": "ok",
     "timestamp": 1748944341542,
     "user": {
      "displayName": "Diogo Resende",
      "userId": "05706604408624562002"
     },
     "user_tz": -120
    },
    "id": "54R4OQ3QNKZ9",
    "outputId": "c269b237-e181-4635-a6a2-9b1b4925f3ad"
   },
   "outputs": [],
   "source": [
    "# What tools were used\n",
    "response1.tools"
   ]
  }
 ],
 "metadata": {
  "colab": {
   "authorship_tag": "ABX9TyMxTRb+a2MrbVo2rw9XwYvw",
   "provenance": []
  },
  "kernelspec": {
   "display_name": "earl2025",
   "language": "python",
   "name": "python3"
  },
  "language_info": {
   "codemirror_mode": {
    "name": "ipython",
    "version": 3
   },
   "file_extension": ".py",
   "mimetype": "text/x-python",
   "name": "python",
   "nbconvert_exporter": "python",
   "pygments_lexer": "ipython3",
   "version": "3.12.1"
  }
 },
 "nbformat": 4,
 "nbformat_minor": 0
}
