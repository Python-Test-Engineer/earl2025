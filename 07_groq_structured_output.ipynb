{
 "cells": [
  {
   "cell_type": "code",
   "execution_count": 1,
   "metadata": {},
   "outputs": [],
   "source": [
    "# https://github.com/groq/groq-api-cookbook/blob/main/tutorials/structured-output-instructor/structured_output_instructor.ipynb"
   ]
  },
  {
   "cell_type": "code",
   "execution_count": 2,
   "metadata": {},
   "outputs": [
    {
     "name": "stdout",
     "output_type": "stream",
     "text": [
      "GROQ API Key exists and begins gsk_0yKDCuUXkz...\n"
     ]
    }
   ],
   "source": [
    "import os\n",
    "import instructor\n",
    "from dotenv import load_dotenv\n",
    "from pydantic import BaseModel, Field\n",
    "from groq import Groq\n",
    "from pprint import pprint\n",
    "\n",
    "model = \"llama-3.3-70b-versatile\"\n",
    "\n",
    "# Load the Groq API key from .env file\n",
    "load_dotenv()\n",
    "GROQ_API_KEY = os.environ.get(\"GROQ_API_KEY\")\n",
    "print(f\"GROQ API Key exists and begins {GROQ_API_KEY[:14]}...\")"
   ]
  },
  {
   "cell_type": "code",
   "execution_count": 3,
   "metadata": {},
   "outputs": [
    {
     "name": "stdout",
     "output_type": "stream",
     "text": [
      "<class '__main__.UserInfo'>\n",
      "Name: John Doe\n",
      "Age: 42\n",
      "Email: john.doe@example.com\n",
      "Location: Southampton\n"
     ]
    }
   ],
   "source": [
    "# Describe the desired output schema using pydantic models\n",
    "# Pydantic is a coercion and validation library and we will ber able to gracefully handle the output knowing its structure.\n",
    "class UserInfo(BaseModel):\n",
    "    name: str = Field(\n",
    "        default=\"Unknown\", description=\"User's name, default is 'Unknown'\"\n",
    "    )\n",
    "    age: int = Field(default=0, description=\"User's age, default is 0 if not specified\")\n",
    "    email: str = Field(\n",
    "        default=\"Unknown\", description=\"User's email, default is 'Unknown'\"\n",
    "    )\n",
    "\n",
    "    location: str = Field(\n",
    "        default=\"Unknown\", description=\"User's location, default is 'Unknown'\"\n",
    "    )\n",
    "\n",
    "\n",
    "# The text to extract data from\n",
    "text = \"\"\"\n",
    "John Doe, a 42-year-old software engineer from Southampton, has been working with large language models for several years.\n",
    "\n",
    "john.doe@example.com\n",
    "\n",
    "\"\"\"\n",
    "\n",
    "# Patch Groq() with instructor, this is where the magic happens!\n",
    "client = instructor.from_groq(Groq(), mode=instructor.Mode.JSON)\n",
    "\n",
    "# Call the API\n",
    "user_info = client.chat.completions.create(\n",
    "    model=model,\n",
    "    response_model=UserInfo,  # Specify the response model\n",
    "    messages=[\n",
    "        {\n",
    "            \"role\": \"system\",\n",
    "            \"content\": \"Your job is to extract user information from the given text to populate the UserInfo model - if you don't knwo any field, leave it blank.\",\n",
    "        },\n",
    "        {\"role\": \"user\", \"content\": text},\n",
    "    ],\n",
    "    temperature=0.0,\n",
    ")\n",
    "print(type(user_info))\n",
    "print(f\"Name: {user_info.name}\")\n",
    "print(f\"Age: {user_info.age}\")\n",
    "print(f\"Email: {user_info.email}\")\n",
    "print(f\"Location: {user_info.location}\")"
   ]
  },
  {
   "cell_type": "markdown",
   "metadata": {},
   "source": [
    "In the example above, we've defined a simple pydantic model `UserInfo` that specifies a person's name (as a string), age (as an integer), and email (as a string). The `instructor` library ensures that the Groq model's output adheres to this schema. The great thing here is that the `instructor` library ensures the response is valid according to the schema you provided. This eliminates the need for manual validation and reduces the likelihood of errors creeping into your data."
   ]
  }
 ],
 "metadata": {
  "kernelspec": {
   "display_name": "venv",
   "language": "python",
   "name": "python3"
  },
  "language_info": {
   "codemirror_mode": {
    "name": "ipython",
    "version": 3
   },
   "file_extension": ".py",
   "mimetype": "text/x-python",
   "name": "python",
   "nbconvert_exporter": "python",
   "pygments_lexer": "ipython3",
   "version": "3.12.1"
  }
 },
 "nbformat": 4,
 "nbformat_minor": 2
}
