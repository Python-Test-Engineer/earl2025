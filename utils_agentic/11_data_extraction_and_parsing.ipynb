{
 "cells": [
  {
   "cell_type": "markdown",
   "metadata": {},
   "source": [
    "# Data Parsing and Extraction\n",
    "\n",
    "## Table of Contents\n",
    "\n",
    "1. Introduction\n",
    "2. Examples\n",
    "3. References and Further Reading\n"
   ]
  },
  {
   "cell_type": "markdown",
   "metadata": {},
   "source": [
    "<a id='0'></a>\n",
    "\n",
    "## 1. Introduction\n"
   ]
  },
  {
   "cell_type": "markdown",
   "metadata": {},
   "source": [
    "Generative AI, particularly large language models like GPT-4, can be incredibly useful for data generation and augmentation:\n",
    "\n",
    "1. **Data Extraction**: Extracting data from contracts (structured and unstructured).\n",
    "2. **Structure Recognition**: Understanding the structure of documents and identifying relevant sections.\n",
    "3. **Data Standardization**: Converting extracted data into a consistent format.\n",
    "4. **Contextual Understanding**: Interpreting complex clauses and conditions in contracts.\n",
    "5. **Anomaly Detection**: Identifying unusual terms or discrepancies in documents.\n",
    "6. **HTML Parsing**: Gen AI can analyze HTML structure and extract relevant information.\n",
    "7. **Natural Language Understanding**: It can interpret and extract data from unstructured text.\n",
    "8. **Data Cleaning**: Gen AI can clean and format extracted data.\n",
    "9. **Adaptive Scraping**: It can adjust to different website layouts and structures.\n",
    "10. **Data Transformation**: Gen AI can convert extracted data into structured formats like JSON or CSV.\n",
    "\n",
    "### Key Terminology:\n",
    "\n",
    "- **Document Parsing**: The process of extracting structured information from unstructured or semi-structured documents.\n",
    "- **Named Entity Recognition (NER)**: Identifying and classifying key information in text into predefined categories.\n",
    "- **Information Extraction**: The task of automatically extracting structured information from unstructured or semi-structured documents.\n",
    "- **Entity**: A real-world object, such as a person, location, or organization, mentioned in text.\n",
    "- **Named Entity Recognition (NER)**: The process of identifying and classifying named entities in text.\n",
    "- **Unstructured Data**: Data that doesn't have a predefined data model or organization.\n",
    "\n",
    "For a data engineer, this capability is invaluable as it automates the tedious process of manual data entry and standardization, allowing for quicker analysis and insights generation.\n"
   ]
  },
  {
   "cell_type": "code",
   "execution_count": 1,
   "metadata": {},
   "outputs": [],
   "source": [
    "import openai\n",
    "import os\n",
    "import json\n",
    "import pandas as pd\n",
    "from openai import OpenAI\n",
    "from dotenv import load_dotenv, find_dotenv\n",
    "from rich.console import Console"
   ]
  },
  {
   "cell_type": "code",
   "execution_count": 2,
   "metadata": {},
   "outputs": [
    {
     "data": {
      "text/html": [
       "<pre style=\"white-space:pre;overflow-x:auto;line-height:normal;font-family:Menlo,'DejaVu Sans Mono',consolas,'Courier New',monospace\"><span style=\"color: #ff8700; text-decoration-color: #ff8700\">Using OpenAI API key: sk-proj-BXA7</span>\n",
       "</pre>\n"
      ],
      "text/plain": [
       "\u001b[38;5;208mUsing OpenAI API key: sk-proj-BXA7\u001b[0m\n"
      ]
     },
     "metadata": {},
     "output_type": "display_data"
    }
   ],
   "source": [
    "console = Console()\n",
    "\n",
    "load_dotenv(find_dotenv())\n",
    "OPENAI_API_KEY = os.environ.get(\"OPENAI_API_KEY\")\n",
    "console.print(f\"[dark_orange]Using OpenAI API key: {OPENAI_API_KEY[:12]}[/]\")\n",
    "# Set up OpenAI API key\n",
    "client = OpenAI(api_key=OPENAI_API_KEY)"
   ]
  },
  {
   "cell_type": "code",
   "execution_count": 3,
   "metadata": {},
   "outputs": [],
   "source": [
    "def get_first_value(dict_variable):\n",
    "    \"\"\"The function clean takes a dictionary (dict_variable) as input and returns the value of the first key-value pair in the dictionary.\n",
    "\n",
    "    Here's a breakdown:\n",
    "\n",
    "    iter(dict_variable.values()) creates an iterator over the dictionary's values.\n",
    "    next(...) retrieves the first value from the iterator.\n",
    "    So, if you have a dictionary like {'a': 1, 'b': 2, 'c': 3}, calling clean on it would return 1, which is the value associated with the first key 'a'.\n",
    "\n",
    "    Note that this function assumes the dictionary is not empty. If the dictionary is empty, next will raise a StopIteration exception.\n",
    "    \"\"\"\n",
    "    return next(iter(dict_variable.values()))"
   ]
  },
  {
   "cell_type": "markdown",
   "metadata": {},
   "source": [
    "<a id='2'></a>\n",
    "\n",
    "## 2. Example 1: Parsing a Simple Invoice\n"
   ]
  },
  {
   "cell_type": "code",
   "execution_count": 4,
   "metadata": {},
   "outputs": [
    {
     "name": "stdout",
     "output_type": "stream",
     "text": [
      "{\n",
      "  \"invoice\": {\n",
      "    \"date\": \"5/15/23\",\n",
      "    \"recipient\": \"John Doe\",\n",
      "    \"invoice_number\": \"INV-2023-001\",\n",
      "    \"items\": [\n",
      "      {\n",
      "        \"description\": \"Website Design\",\n",
      "        \"amount\": 1000.0\n",
      "      },\n",
      "      {\n",
      "        \"description\": \"Logo Creation\",\n",
      "        \"amount\": 500.0\n",
      "      },\n",
      "      {\n",
      "        \"description\": \"SEO Services\",\n",
      "        \"amount\": 750.0\n",
      "      }\n",
      "    ],\n",
      "    \"total\": 2250.0\n",
      "  }\n",
      "}\n"
     ]
    }
   ],
   "source": [
    "# Sample invoice text\n",
    "invoice_text = \"\"\"\n",
    "Date: 5/15/23\n",
    "John Doe\n",
    "Invoice #: INV-2023-001\n",
    "Items:\n",
    "Website Design - $1000\n",
    "Logo Creation - $500.00\n",
    "SEO Services - $750\n",
    "Total: $2250\n",
    "\"\"\"\n",
    "\n",
    "# Make API call\n",
    "response = client.chat.completions.create(\n",
    "    model=\"gpt-4o-mini\",\n",
    "    messages=[\n",
    "        {\n",
    "            \"role\": \"user\",\n",
    "            \"content\": f\"Parse the following invoice and output in JSON form: {invoice_text}\",\n",
    "        }\n",
    "    ],\n",
    "    response_format={\"type\": \"json_object\"},\n",
    ")\n",
    "\n",
    "# Extract and parse the JSON response\n",
    "parsed_invoice = json.loads(response.choices[0].message.content)\n",
    "\n",
    "print(json.dumps(parsed_invoice, indent=2))"
   ]
  },
  {
   "cell_type": "code",
   "execution_count": 5,
   "metadata": {},
   "outputs": [
    {
     "name": "stdout",
     "output_type": "stream",
     "text": [
      "{'Invoice Number': 'INV-2023-001', 'Invoice Date': '5/15/23', 'Total': 2250, 'Number of Products': 3}\n"
     ]
    }
   ],
   "source": [
    "response = client.chat.completions.create(\n",
    "    model=\"gpt-4o-mini\",\n",
    "    messages=[\n",
    "        {\n",
    "            \"role\": \"user\",\n",
    "            \"content\": f\"Parse the following invoice and output in JSON form: {invoice_text}. The columns should be Invoice Number, Invoice Date, Total, and Number of Products. The JSON should be able to go into a \\\n",
    "        Pandas dataframe.\",\n",
    "        }\n",
    "    ],\n",
    "    response_format={\"type\": \"json_object\"},\n",
    ")\n",
    "\n",
    "# Extract and parse the JSON response\n",
    "parsed_invoice = json.loads(response.choices[0].message.content)\n",
    "print(parsed_invoice)"
   ]
  },
  {
   "cell_type": "code",
   "execution_count": 6,
   "metadata": {},
   "outputs": [
    {
     "name": "stdout",
     "output_type": "stream",
     "text": [
      "{'Invoice Number': 'INV-2023-001', 'Invoice Date': '2023-05-15', 'Total': 2250, 'Number of Products': 3}\n"
     ]
    }
   ],
   "source": [
    "response = client.chat.completions.create(\n",
    "    model=\"gpt-4o-mini\",\n",
    "    messages=[\n",
    "        {\n",
    "            \"role\": \"user\",\n",
    "            \"content\": f\"Parse the following invoice and output in JSON form: {invoice_text}. The columns should be Invoice Number, Invoice Date, Total, and Number of Products. The JSON should be able to go into a \\\n",
    "        Pandas dataframe.\",\n",
    "        }\n",
    "    ],\n",
    "    response_format={\"type\": \"json_object\"},\n",
    ")\n",
    "\n",
    "# Extract and parse the JSON response\n",
    "parsed_invoice = json.loads(response.choices[0].message.content)\n",
    "print(parsed_invoice)"
   ]
  },
  {
   "cell_type": "code",
   "execution_count": 7,
   "metadata": {},
   "outputs": [
    {
     "data": {
      "text/plain": [
       "{'Invoice Number': 'INV-2023-001',\n",
       " 'Invoice Date': '2023-05-15',\n",
       " 'Total': 2250,\n",
       " 'Number of Products': 3}"
      ]
     },
     "execution_count": 7,
     "metadata": {},
     "output_type": "execute_result"
    }
   ],
   "source": [
    "json.loads(response.choices[0].message.content)"
   ]
  },
  {
   "cell_type": "markdown",
   "metadata": {},
   "source": [
    "<a id='3'></a>\n",
    "\n",
    "## 2. Example 2: Extracting Data from a Complex Contract\n"
   ]
  },
  {
   "cell_type": "code",
   "execution_count": 8,
   "metadata": {},
   "outputs": [
    {
     "name": "stdout",
     "output_type": "stream",
     "text": [
      "{\n",
      "  \"contracts\": [\n",
      "    {\n",
      "      \"agreement_number\": \"1\",\n",
      "      \"effective_date\": \"2023-06-01\",\n",
      "      \"service_provider\": {\n",
      "        \"name\": \"ABC Corp.\",\n",
      "        \"corporate_status\": \"corporation\",\n",
      "        \"state_of_incorporation\": \"Delaware\",\n",
      "        \"address\": \"123 Main St, Anytown, USA\"\n",
      "      },\n",
      "      \"client\": {\n",
      "        \"name\": \"XYZ Inc.\",\n",
      "        \"corporate_status\": \"corporation\",\n",
      "        \"state_of_incorporation\": \"California\",\n",
      "        \"address\": \"456 Oak Ave, Otherville, USA\"\n",
      "      },\n",
      "      \"services\": [\n",
      "        \"Software development\",\n",
      "        \"System maintenance\",\n",
      "        \"Technical support\"\n",
      "      ],\n",
      "      \"term\": {\n",
      "        \"duration_months\": 24\n",
      "      },\n",
      "      \"compensation\": {\n",
      "        \"monthly_fee\": 10000\n",
      "      },\n",
      "      \"termination\": {\n",
      "        \"notice_period_days\": 30\n",
      "      }\n",
      "    },\n",
      "    {\n",
      "      \"agreement_number\": \"2\",\n",
      "      \"effective_date\": \"2023-04-01\",\n",
      "      \"service_provider\": {\n",
      "        \"name\": \"Henry Cookies.\",\n",
      "        \"corporate_status\": \"corporation\",\n",
      "        \"state_of_incorporation\": \"Delaware\",\n",
      "        \"address\": \"123 Main St, Anytown, USA\"\n",
      "      },\n",
      "      \"client\": {\n",
      "        \"name\": \"XYZ Inc.\",\n",
      "        \"corporate_status\": \"corporation\",\n",
      "        \"state_of_incorporation\": \"California\",\n",
      "        \"address\": \"456 Oak Ave, Otherville, USA\"\n",
      "      },\n",
      "      \"services\": [\n",
      "        \"Software development\",\n",
      "        \"System maintenance\",\n",
      "        \"Technical support\"\n",
      "      ],\n",
      "      \"term\": {\n",
      "        \"duration_months\": 8\n",
      "      },\n",
      "      \"compensation\": {\n",
      "        \"monthly_fee\": 50000\n",
      "      },\n",
      "      \"termination\": {\n",
      "        \"notice_period_days\": 30\n",
      "      }\n",
      "    }\n",
      "  ]\n",
      "}\n"
     ]
    }
   ],
   "source": [
    "contract_text = \"\"\"\n",
    "SERVICE AGREEMENT #1\n",
    "\n",
    "This Service Agreement (the \"Agreement\") is entered into on June 1, 2023 (the \"Effective Date\") by and between:\n",
    "\n",
    "ABC Corp., a corporation organized under the laws of Delaware, with its principal place of business at 123 Main St, Anytown, USA (\"Service Provider\")\n",
    "\n",
    "and\n",
    "\n",
    "XYZ Inc., a corporation organized under the laws of California, with its principal place of business at 456 Oak Ave, Otherville, USA (\"Client\")\n",
    "\n",
    "1. SERVICES\n",
    "   Service Provider agrees to provide the following services to Client:\n",
    "   a) Software development\n",
    "   b) System maintenance\n",
    "   c) Technical support\n",
    "\n",
    "2. TERM\n",
    "   This Agreement shall commence on the Effective Date and continue for a period of 24 months.\n",
    "\n",
    "3. COMPENSATION\n",
    "   Client agrees to pay Service Provider a monthly fee of $10,000 for the services provided.\n",
    "\n",
    "4. TERMINATION\n",
    "   Either party may terminate this Agreement with 30 days written notice.\n",
    "\n",
    "\n",
    "SERVICE AGREEMENT #2\n",
    "\n",
    "This Service Agreement (the \"Agreement\") is entered into on April 1, 2023 (the \"Effective Date\") by and between:\n",
    "\n",
    "Henry Cookies., a corporation organized under the laws of Delaware, with its principal place of business at 123 Main St, Anytown, USA (\"Service Provider\")\n",
    "\n",
    "and\n",
    "\n",
    "XYZ Inc., a corporation organized under the laws of California, with its principal place of business at 456 Oak Ave, Otherville, USA (\"Client\")\n",
    "\n",
    "1. SERVICES\n",
    "   Service Provider agrees to provide the following services to Client:\n",
    "   a) Software development\n",
    "   b) System maintenance\n",
    "   c) Technical support\n",
    "\n",
    "2. TERM\n",
    "   This Agreement shall commence on the Effective Date and continue for a period of 8 months.\n",
    "\n",
    "3. COMPENSATION\n",
    "   Client agrees to pay Service Provider a monthly fee of $50,000 for the services provided.\n",
    "\n",
    "4. TERMINATION\n",
    "   Either party may terminate this Agreement with 30 days written notice.\n",
    "\n",
    "   \n",
    "\"\"\"\n",
    "\n",
    "response = client.chat.completions.create(\n",
    "    model=\"gpt-4o-mini\",\n",
    "    messages=[\n",
    "        {\n",
    "            \"role\": \"user\",\n",
    "            \"content\": f\"Extract key information from the following contract and output in JSON form: {contract_text}\",\n",
    "        }\n",
    "    ],\n",
    "    response_format={\"type\": \"json_object\"},\n",
    ")\n",
    "\n",
    "parsed_contract = json.loads(response.choices[0].message.content)\n",
    "print(json.dumps(parsed_contract, indent=2))"
   ]
  },
  {
   "cell_type": "code",
   "execution_count": 9,
   "metadata": {},
   "outputs": [
    {
     "name": "stdout",
     "output_type": "stream",
     "text": [
      "{\n",
      "  \"contracts\": [\n",
      "    {\n",
      "      \"company_name\": \"ABC Corp.\",\n",
      "      \"date\": \"June 1, 2023\",\n",
      "      \"compensation\": \"$10,000\",\n",
      "      \"term\": \"24 months\"\n",
      "    },\n",
      "    {\n",
      "      \"company_name\": \"Henry Cookies.\",\n",
      "      \"date\": \"April 1, 2023\",\n",
      "      \"compensation\": \"$50,000\",\n",
      "      \"term\": \"8 months\"\n",
      "    }\n",
      "  ]\n",
      "}\n"
     ]
    }
   ],
   "source": [
    "response = client.chat.completions.create(\n",
    "    model=\"gpt-4o-mini\",\n",
    "    messages=[\n",
    "        {\n",
    "            \"role\": \"user\",\n",
    "            \"content\": f\"Extract key information from the following contract and output in JSON form, and extract columns company name, date, compensation, term: {contract_text}\",\n",
    "        }\n",
    "    ],\n",
    "    response_format={\"type\": \"json_object\"},\n",
    ")\n",
    "\n",
    "parsed_contract = json.loads(response.choices[0].message.content)\n",
    "print(json.dumps(parsed_contract, indent=2))"
   ]
  },
  {
   "cell_type": "code",
   "execution_count": 10,
   "metadata": {},
   "outputs": [
    {
     "name": "stdout",
     "output_type": "stream",
     "text": [
      "     company_name           date compensation       term\n",
      "0       ABC Corp.   June 1, 2023      $10,000  24 months\n",
      "1  Henry Cookies.  April 1, 2023      $50,000   8 months\n"
     ]
    }
   ],
   "source": [
    "# Convert to DataFrame\n",
    "df_contract = pd.DataFrame(get_first_value(parsed_contract))\n",
    "print(df_contract)"
   ]
  },
  {
   "cell_type": "markdown",
   "metadata": {},
   "source": [
    "<a id='4'></a>\n",
    "\n",
    "## 2. Example 3: Batch Processing of Multiple Documents\n"
   ]
  },
  {
   "cell_type": "code",
   "execution_count": 11,
   "metadata": {},
   "outputs": [
    {
     "name": "stdout",
     "output_type": "stream",
     "text": [
      "[\n",
      "  {\n",
      "    \"Invoice Number\": \"INV-2023-002\",\n",
      "    \"Invoice Date\": \"June 1, 2023\",\n",
      "    \"Total\": \"$7000\",\n",
      "    \"Number of Products\": 2\n",
      "  },\n",
      "  {\n",
      "    \"Invoice Number\": \"INV-2023-003\",\n",
      "    \"Invoice Date\": \"June 15, 2023\",\n",
      "    \"Total\": \"$17500\",\n",
      "    \"Number of Products\": 3\n",
      "  }\n",
      "]\n"
     ]
    }
   ],
   "source": [
    "documents = [\n",
    "    \"\"\"\n",
    "    Invoice #: INV-2023-002\n",
    "    Date: June 1, 2023\n",
    "    Bill To: Jane Smith\n",
    "    Items:\n",
    "    1. Mobile App Development - $5000\n",
    "    2. UI/UX Design - $2000\n",
    "    Total: $7000\n",
    "    \"\"\",\n",
    "    \"\"\"\n",
    "    Invoice #: INV-2023-003\n",
    "    Date: June 15, 2023\n",
    "    Bill To: Acme Corp\n",
    "    Items:\n",
    "    1. Cloud Migration Services - $10000\n",
    "    2. Staff Training - $3000\n",
    "    3. Ongoing Support (3 months) - $4500\n",
    "    Total: $17500\n",
    "    \"\"\",\n",
    "]\n",
    "\n",
    "parsed_documents = []\n",
    "\n",
    "for doc in documents:\n",
    "    response = client.chat.completions.create(\n",
    "        model=\"gpt-4-0125-preview\",\n",
    "        messages=[\n",
    "            {\n",
    "                \"role\": \"user\",\n",
    "                \"content\": f\"Parse the following invoice and output in JSON form: The columns should be Invoice Number, Invoice Date, Total, and Number of Products. The JSON should be able to go into a  {doc}\",\n",
    "            }\n",
    "        ],\n",
    "        response_format={\"type\": \"json_object\"},\n",
    "    )\n",
    "    parsed_documents.append(json.loads(response.choices[0].message.content))\n",
    "\n",
    "print(json.dumps(parsed_documents, indent=2))"
   ]
  },
  {
   "cell_type": "code",
   "execution_count": 12,
   "metadata": {},
   "outputs": [
    {
     "name": "stdout",
     "output_type": "stream",
     "text": [
      "  Invoice Number   Invoice Date   Total  Number of Products\n",
      "0   INV-2023-002   June 1, 2023   $7000                   2\n",
      "1   INV-2023-003  June 15, 2023  $17500                   3\n"
     ]
    }
   ],
   "source": [
    "# Convert to DataFrame\n",
    "df_batch = pd.DataFrame(parsed_documents)\n",
    "print(df_batch)"
   ]
  },
  {
   "cell_type": "markdown",
   "metadata": {},
   "source": [
    "## 2. Example 4: Extracting Product Information\n"
   ]
  },
  {
   "cell_type": "code",
   "execution_count": 13,
   "metadata": {},
   "outputs": [
    {
     "name": "stdout",
     "output_type": "stream",
     "text": [
      "{\n",
      "  \"product_name\": \"Super Comfy Chair\",\n",
      "  \"price\": \"$199.99\",\n",
      "  \"features\": [\n",
      "    \"Ergonomic design\",\n",
      "    \"Adjustable height\",\n",
      "    \"360-degree swivel\"\n",
      "  ],\n",
      "  \"availability\": \"In stock\"\n",
      "}\n"
     ]
    }
   ],
   "source": [
    "import openai\n",
    "import requests\n",
    "import json\n",
    "\n",
    "# Sample product page HTML (simplified)\n",
    "sample_html = \"\"\"\n",
    "<div class=\"product-updated\">\n",
    "  <h3>Super Comfy Chair</h3>\n",
    "  <p class=\"price\">$199.99</p>\n",
    "  <ul class=\"features\">\n",
    "    <li>Ergonomic design</li>\n",
    "    <li>Adjustable height</li>\n",
    "    <li>360-degree swivel</li>\n",
    "  </ul>\n",
    "  <p class=\"availability\">In stock</p>\n",
    "</div>\n",
    "\"\"\"\n",
    "\n",
    "# OpenAI API call\n",
    "response = client.chat.completions.create(\n",
    "    model=\"gpt-4o-mini\",\n",
    "    messages=[\n",
    "        {\n",
    "            \"role\": \"system\",\n",
    "            \"content\": \"You are a helpful assistant that extracts product information from HTML.\",\n",
    "        },\n",
    "        {\n",
    "            \"role\": \"user\",\n",
    "            \"content\": f\"Extract the product name, price, features, and availability from this HTML. Output in JSON form:\\n{sample_html}\",\n",
    "        },\n",
    "    ],\n",
    "    response_format={\"type\": \"json_object\"},\n",
    ")\n",
    "\n",
    "# Print the extracted data\n",
    "print(json.dumps(json.loads(response.choices[0].message.content), indent=2))"
   ]
  },
  {
   "cell_type": "markdown",
   "metadata": {},
   "source": [
    "## 2. Example 5: Parsing News Articles\n"
   ]
  },
  {
   "cell_type": "code",
   "execution_count": 14,
   "metadata": {},
   "outputs": [
    {
     "name": "stdout",
     "output_type": "stream",
     "text": [
      "{\n",
      "  \"products\": []\n",
      "}\n"
     ]
    }
   ],
   "source": [
    "import requests\n",
    "from bs4 import BeautifulSoup\n",
    "\n",
    "# Fetch a sample news article\n",
    "url = \"https://craig-west.netlify.app/\"\n",
    "response = requests.get(url)\n",
    "soup = BeautifulSoup(response.text, \"html.parser\")\n",
    "\n",
    "# OpenAI API call\n",
    "response = client.chat.completions.create(\n",
    "    model=\"gpt-4o-mini\",\n",
    "    messages=[\n",
    "        {\n",
    "            \"role\": \"system\",\n",
    "            \"content\": \"You are a helpful assistant that extracts key information from news articles.\",\n",
    "        },\n",
    "        {\n",
    "            \"role\": \"user\",\n",
    "            \"content\": f\"Extract the product name, price, and product description. Output in JSON form:\\n{str(response.text)}...\",\n",
    "        },\n",
    "    ],\n",
    "    response_format={\"type\": \"json_object\"},\n",
    ")\n",
    "\n",
    "# Print the extracted data\n",
    "print(json.dumps(json.loads(response.choices[0].message.content), indent=2))"
   ]
  },
  {
   "cell_type": "markdown",
   "metadata": {},
   "source": [
    "## 2. Example 6: Extracting Tabular Data from HTML\n"
   ]
  },
  {
   "cell_type": "code",
   "execution_count": 16,
   "metadata": {
    "scrolled": true
   },
   "outputs": [
    {
     "name": "stdout",
     "output_type": "stream",
     "text": [
      "          Name  Age      City\n",
      "0     John Doe   30  New York\n",
      "1   Jane Smith   25    London\n",
      "2  Bob Johnson   35     Paris\n"
     ]
    }
   ],
   "source": [
    "import pandas as pd\n",
    "\n",
    "# Sample HTML table\n",
    "html_table = \"\"\"\n",
    "<table>\n",
    "  <tr>\n",
    "    <th>Name</th>\n",
    "    <th>Age</th>\n",
    "    <th>City</th>\n",
    "  </tr>\n",
    "  <tr>\n",
    "    <td>John Doe</td>\n",
    "    <td>30</td>\n",
    "    <td>New York</td>\n",
    "  </tr>\n",
    "  <tr>\n",
    "    <td>Jane Smith</td>\n",
    "    <td>25</td>\n",
    "    <td>London</td>\n",
    "  </tr>\n",
    "  <tr>\n",
    "    <td>Bob Johnson</td>\n",
    "    <td>35</td>\n",
    "    <td>Paris</td>\n",
    "  </tr>\n",
    "</table>\n",
    "\"\"\"\n",
    "\n",
    "# OpenAI API call\n",
    "response = client.chat.completions.create(\n",
    "    model=\"gpt-4o-mini\",\n",
    "    messages=[\n",
    "        {\n",
    "            \"role\": \"system\",\n",
    "            \"content\": \"You are a helpful assistant that extracts tabular data from HTML.\",\n",
    "        },\n",
    "        {\n",
    "            \"role\": \"user\",\n",
    "            \"content\": f\"Extract the data from this HTML table into a JSON format. Output in JSON form:\\n{html_table}\",\n",
    "        },\n",
    "    ],\n",
    "    response_format={\"type\": \"json_object\"},\n",
    ")\n",
    "\n",
    "# Convert JSON to DataFrame\n",
    "data = json.loads(response.choices[0].message.content)\n",
    "df = pd.DataFrame(get_first_value(data))\n",
    "\n",
    "# Display the DataFrame\n",
    "print(df)"
   ]
  },
  {
   "cell_type": "markdown",
   "metadata": {},
   "source": [
    "## 2. 7 - Gen AI for getting information out of pictures (e.g., receipts)\n"
   ]
  },
  {
   "cell_type": "code",
   "execution_count": null,
   "metadata": {},
   "outputs": [],
   "source": [
    "response = client.chat.completions.create(\n",
    "    model=\"gpt-4o-mini\",\n",
    "    messages=[\n",
    "        {\n",
    "            \"role\": \"user\",\n",
    "            \"content\": [\n",
    "                {\n",
    "                    \"type\": \"text\",\n",
    "                    \"text\": \"Extract the store name, date, and total. Put the results in a JSON, with keys 'store_name', 'date', and 'total'\",\n",
    "                },\n",
    "                {\n",
    "                    \"type\": \"image_url\",\n",
    "                    \"image_url\": {\n",
    "                        \"url\": \"https://craig-west.netlify.app/receipt.jpg\",\n",
    "                    },\n",
    "                },\n",
    "            ],\n",
    "        }\n",
    "    ],\n",
    "    max_tokens=300,\n",
    ")"
   ]
  },
  {
   "cell_type": "code",
   "execution_count": null,
   "metadata": {},
   "outputs": [],
   "source": [
    "print(response.choices[0].message.content)"
   ]
  },
  {
   "cell_type": "markdown",
   "metadata": {},
   "source": [
    "## 2. 8 - Examples of Gen AI for Entity Recognition <a name=\"examples\"></a>\n"
   ]
  },
  {
   "cell_type": "code",
   "execution_count": 17,
   "metadata": {},
   "outputs": [
    {
     "name": "stdout",
     "output_type": "stream",
     "text": [
      "{\n",
      "  \"entities\": [\n",
      "    {\n",
      "      \"name\": \"John Smith\",\n",
      "      \"type\": \"PERSON\"\n",
      "    },\n",
      "    {\n",
      "      \"name\": \"New York City\",\n",
      "      \"type\": \"LOCATION\"\n",
      "    },\n",
      "    {\n",
      "      \"name\": \"July 4, 2023\",\n",
      "      \"type\": \"DATE\"\n",
      "    },\n",
      "    {\n",
      "      \"name\": \"TechCorp\",\n",
      "      \"type\": \"ORGANIZATION\"\n",
      "    },\n",
      "    {\n",
      "      \"name\": \"CEO\",\n",
      "      \"type\": \"TITLE\"\n",
      "    }\n",
      "  ]\n",
      "}\n"
     ]
    }
   ],
   "source": [
    "from openai import OpenAI\n",
    "\n",
    "# Example 1: Basic Entity Recognition\n",
    "text = \"John Smith visited New York City on July 4, 2023, and met with the CEO of TechCorp.\"\n",
    "\n",
    "response = client.chat.completions.create(\n",
    "    model=\"gpt-4o-mini\",\n",
    "    messages=[\n",
    "        {\n",
    "            \"role\": \"system\",\n",
    "            \"content\": \"You are an AI assistant skilled in entity recognition.\",\n",
    "        },\n",
    "        {\n",
    "            \"role\": \"user\",\n",
    "            \"content\": f\"Identify and categorize the named entities in the following text. Output in JSON form: {text}\",\n",
    "        },\n",
    "    ],\n",
    "    response_format={\"type\": \"json_object\"},\n",
    ")\n",
    "\n",
    "print(response.choices[0].message.content)"
   ]
  },
  {
   "cell_type": "code",
   "execution_count": 18,
   "metadata": {},
   "outputs": [
    {
     "name": "stdout",
     "output_type": "stream",
     "text": [
      "{\n",
      "  \"entities\": [\n",
      "    {\n",
      "      \"name\": \"September 15, 2023\",\n",
      "      \"category\": \"DATE\"\n",
      "    },\n",
      "    {\n",
      "      \"name\": \"Apple Inc.\",\n",
      "      \"category\": \"ORGANIZATION\"\n",
      "    },\n",
      "    {\n",
      "      \"name\": \"Cupertino\",\n",
      "      \"category\": \"LOCATION\"\n",
      "    },\n",
      "    {\n",
      "      \"name\": \"California\",\n",
      "      \"category\": \"LOCATION\"\n",
      "    },\n",
      "    {\n",
      "      \"name\": \"Tim Cook\",\n",
      "      \"category\": \"PERSON\"\n",
      "    },\n",
      "    {\n",
      "      \"name\": \"The New York Times\",\n",
      "      \"category\": \"ORGANIZATION\"\n",
      "    },\n",
      "    {\n",
      "      \"name\": \"TechCrunch\",\n",
      "      \"category\": \"ORGANIZATION\"\n",
      "    }\n",
      "  ]\n",
      "}\n"
     ]
    }
   ],
   "source": [
    "# Example 2: Entity Recognition in a News Article\n",
    "news_article = \"\"\"\n",
    "On September 15, 2023, Apple Inc. unveiled its latest iPhone models at its headquarters in Cupertino, California. \n",
    "CEO Tim Cook presented the new devices, highlighting their advanced features. The event was attended by tech journalists from various publications, including The New York Times and TechCrunch.\n",
    "\"\"\"\n",
    "\n",
    "response = client.chat.completions.create(\n",
    "    model=\"gpt-4o-mini\",\n",
    "    messages=[\n",
    "        {\n",
    "            \"role\": \"system\",\n",
    "            \"content\": \"You are an AI assistant skilled in entity recognition.\",\n",
    "        },\n",
    "        {\n",
    "            \"role\": \"user\",\n",
    "            \"content\": f\"Extract and categorize all named entities from this news article. Include categories such as PERSON, ORGANIZATION, DATE, LOCATION, and PRODUCT. Output in JSON form: {news_article}\",\n",
    "        },\n",
    "    ],\n",
    "    response_format={\"type\": \"json_object\"},\n",
    ")\n",
    "\n",
    "print(response.choices[0].message.content)"
   ]
  },
  {
   "cell_type": "code",
   "execution_count": 19,
   "metadata": {},
   "outputs": [
    {
     "name": "stdout",
     "output_type": "stream",
     "text": [
      "{\n",
      "  \"entities\": {\n",
      "    \"locations\": [\n",
      "      \"Paris\",\n",
      "      \"Seine river\",\n",
      "      \"Champs-Élysées\"\n",
      "    ],\n",
      "    \"landmarks\": [\n",
      "      \"Eiffel Tower\",\n",
      "      \"Louvre\"\n",
      "    ],\n",
      "    \"usernames\": [\n",
      "      \"@JaneDoeTravels\"\n",
      "    ],\n",
      "    \"hashtags\": [\n",
      "      \"#Paris\",\n",
      "      \"#TravelBlog\",\n",
      "      \"#ParisAdventures\"\n",
      "    ]\n",
      "  }\n",
      "}\n"
     ]
    }
   ],
   "source": [
    "# Example 3: Entity Recognition in Social Media Post\n",
    "social_media_post = \"\"\"\n",
    "Just landed in #Paris! 😍 Can't wait to visit the Eiffel Tower and the Louvre. \n",
    "Meeting up with @JaneDoeTravels tomorrow for a Seine river cruise. \n",
    "Any recommendations for the best cafes near Champs-Élysées? #TravelBlog #ParisAdventures\n",
    "\"\"\"\n",
    "\n",
    "response = client.chat.completions.create(\n",
    "    model=\"gpt-4o-mini\",\n",
    "    messages=[\n",
    "        {\n",
    "            \"role\": \"system\",\n",
    "            \"content\": \"You are an AI assistant skilled in entity recognition, especially in social media contexts.\",\n",
    "        },\n",
    "        {\n",
    "            \"role\": \"user\",\n",
    "            \"content\": f\"Identify and categorize entities in this social media post, including locations, landmarks, usernames, and hashtags. Output in JSON form: {social_media_post}\",\n",
    "        },\n",
    "    ],\n",
    "    response_format={\"type\": \"json_object\"},\n",
    ")\n",
    "\n",
    "print(response.choices[0].message.content)"
   ]
  },
  {
   "cell_type": "markdown",
   "metadata": {},
   "source": [
    "<a id='6'></a>\n",
    "\n",
    "## 3. References and Further Reading\n",
    "\n",
    "1. OpenAI API Documentation: https://platform.openai.com/docs/\n",
    "2. \"Natural Language Processing with Transformers\" by Lewis Tunstall, Leandro von Werra, and Thomas Wolf\n",
    "3. \"Information Extraction: Algorithms and Prospects in a Retrieval Context\" by Marie-Francine Moens\n",
    "4. \"Named Entity Recognition: A Literature Survey\" by David Nadeau and Satoshi Sekine\n",
    "5. \"Data Science for Business\" by Foster Provost and Tom Fawcett\n"
   ]
  },
  {
   "cell_type": "code",
   "execution_count": null,
   "metadata": {},
   "outputs": [],
   "source": []
  }
 ],
 "metadata": {
  "kernelspec": {
   "display_name": "venv",
   "language": "python",
   "name": "python3"
  },
  "language_info": {
   "codemirror_mode": {
    "name": "ipython",
    "version": 3
   },
   "file_extension": ".py",
   "mimetype": "text/x-python",
   "name": "python",
   "nbconvert_exporter": "python",
   "pygments_lexer": "ipython3",
   "version": "3.12.1"
  }
 },
 "nbformat": 4,
 "nbformat_minor": 4
}
