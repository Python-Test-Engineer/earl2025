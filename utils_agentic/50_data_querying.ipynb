{
 "cells": [
  {
   "cell_type": "markdown",
   "metadata": {},
   "source": [
    "# Data Querying and Analysis\n",
    "\n",
    "## Table of Contents\n",
    "\n",
    "1. Introduction\n",
    "2. Examples\n",
    "3. References and Further Reading\n"
   ]
  },
  {
   "cell_type": "markdown",
   "metadata": {},
   "source": [
    "<a id='2'></a>\n",
    "\n",
    "## 1. Introduction\n",
    "\n",
    "Generative AI can be used in various ways for Natural Language Querying, specifically for converting English to SQL:\n",
    "\n",
    "1. **Direct Translation**: Converting natural language questions into SQL queries.\n",
    "2. **Query Optimization**: Improving existing SQL queries based on natural language descriptions.\n",
    "3. **Schema Understanding**: Interpreting database schemas from natural language descriptions.\n",
    "4. **Error Correction**: Identifying and fixing errors in SQL queries based on natural language feedback.\n",
    "5. 1. Query Translation: Converting natural language questions into formal query languages like SQL.\n",
    "6. Query Generation: Creating complex queries based on high-level descriptions of data needs.\n",
    "7. Result Interpretation: Translating query results into human-readable explanations.\n",
    "8. Schema Understanding: Analyzing database schemas to inform query generation.\n",
    "9. Error Handling: Identifying and explaining errors in queries or results.\n",
    "\n",
    "Using Gen AI for this task offers several benefits:\n",
    "\n",
    "- Increased accessibility for non-technical users\n",
    "- Faster query development\n",
    "- Reduced errors in complex queries\n",
    "- Improved data exploration capabilities\n",
    "\n",
    "**Key Terminology**:\n",
    "\n",
    "- **Natural Language Processing (NLP)**: The branch of AI that deals with the interaction between computers and humans using natural language.\n",
    "- **SQL (Structured Query Language)**: A standard language for managing and manipulating relational databases.\n",
    "- **Schema**: The structure of a database, defining tables, fields, relationships, and constraints.\n"
   ]
  },
  {
   "cell_type": "code",
   "execution_count": 1,
   "metadata": {},
   "outputs": [
    {
     "data": {
      "text/html": [
       "<pre style=\"white-space:pre;overflow-x:auto;line-height:normal;font-family:Menlo,'DejaVu Sans Mono',consolas,'Courier New',monospace\"><span style=\"color: #ff8700; text-decoration-color: #ff8700\">Using OpenAI API key: sk-proj-BXA7</span>\n",
       "</pre>\n"
      ],
      "text/plain": [
       "\u001b[38;5;208mUsing OpenAI API key: sk-proj-BXA7\u001b[0m\n"
      ]
     },
     "metadata": {},
     "output_type": "display_data"
    }
   ],
   "source": [
    "import os\n",
    "from openai import OpenAI\n",
    "from dotenv import load_dotenv, find_dotenv\n",
    "from rich.console import Console\n",
    "import json\n",
    "console = Console()\n",
    "\n",
    "load_dotenv(find_dotenv())\n",
    "OPENAI_API_KEY = os.environ.get(\"OPENAI_API_KEY\")\n",
    "console.print(f\"[dark_orange]Using OpenAI API key: {OPENAI_API_KEY[:12]}[/]\")\n",
    "# Set up OpenAI API key\n",
    "client = OpenAI(api_key=OPENAI_API_KEY)\n",
    "\n"
   ]
  },
  {
   "cell_type": "code",
   "execution_count": 2,
   "metadata": {},
   "outputs": [],
   "source": [
    "def get_first_value(dict_variable):\n",
    "    \"\"\"The function clean takes a dictionary (dict_variable) as input and returns the value of the first key-value pair in the dictionary.\n",
    "\n",
    "    Here's a breakdown:\n",
    "\n",
    "    iter(dict_variable.values()) creates an iterator over the dictionary's values.\n",
    "    next(...) retrieves the first value from the iterator.\n",
    "    So, if you have a dictionary like {'a': 1, 'b': 2, 'c': 3}, calling clean on it would return 1, which is the value associated with the first key 'a'.\n",
    "\n",
    "    Note that this function assumes the dictionary is not empty. If the dictionary is empty, next will raise a StopIteration exception.\n",
    "    \"\"\"\n",
    "    return next(iter(dict_variable.values()))"
   ]
  },
  {
   "cell_type": "markdown",
   "metadata": {},
   "source": [
    "<a id='3'></a>\n",
    "\n",
    "## 2. Example 1: Simple Query Conversion\n"
   ]
  },
  {
   "cell_type": "code",
   "execution_count": 3,
   "metadata": {},
   "outputs": [
    {
     "name": "stdout",
     "output_type": "stream",
     "text": [
      "\n",
      "{\"query\": \"SELECT customer_id, SUM(revenue) AS total_revenue FROM customers GROUP BY customer_id ORDER BY total_revenue DESC LIMIT 5;\"}\n"
     ]
    }
   ],
   "source": [
    "response = client.chat.completions.create(\n",
    "    model=\"gpt-4o-mini\",\n",
    "    messages=[\n",
    "        {\n",
    "            \"role\": \"system\",\n",
    "            \"content\": \"You are a SQL expert. Convert English queries to SQL.\",\n",
    "        },\n",
    "        {\n",
    "            \"role\": \"user\",\n",
    "            \"content\": \"Convert this English query to SQL and output in JSON form: Find top 5 customers by revenue.\",\n",
    "        },\n",
    "    ],\n",
    "    response_format={\"type\": \"json_object\"},\n",
    ")\n",
    "\n",
    "print(response.choices[0].message.content)"
   ]
  },
  {
   "cell_type": "code",
   "execution_count": 4,
   "metadata": {},
   "outputs": [
    {
     "name": "stdout",
     "output_type": "stream",
     "text": [
      "\n",
      "{\n",
      "  \"sql\": \"SELECT c.customer_name FROM customer c JOIN sales s ON c.customer_code = s.customer_id GROUP BY c.customer_name ORDER BY SUM(s.sales) DESC LIMIT 5;\"\n",
      "}\n"
     ]
    }
   ],
   "source": [
    "schema = \"\"\"\n",
    "\n",
    "sales\n",
    "order_id\n",
    "customer_id\n",
    "sales\n",
    "\n",
    "customer\n",
    "customer_code\n",
    "customer_name\n",
    "\n",
    "\"\"\"\n",
    "\n",
    "\n",
    "response = client.chat.completions.create(\n",
    "    model=\"gpt-4o-mini\",\n",
    "    messages=[\n",
    "        {\n",
    "            \"role\": \"system\",\n",
    "            \"content\": \"You are a SQL expert. Convert English queries to SQL.\",\n",
    "        },\n",
    "        {\n",
    "            \"role\": \"user\",\n",
    "            \"content\": \"Convert this English query to SQL and output in JSON form: Find top 5 customers (customer names) by sales. The schema of this database is: {}\".format(\n",
    "                schema\n",
    "            ),\n",
    "        },\n",
    "    ],\n",
    "    response_format={\"type\": \"json_object\"},\n",
    ")\n",
    "\n",
    "print(response.choices[0].message.content)"
   ]
  },
  {
   "cell_type": "markdown",
   "metadata": {},
   "source": [
    "This example demonstrates how Gen AI can convert a simple English query into SQL. The JSON output makes it easy for data engineers to parse and integrate the result into their workflows.\n"
   ]
  },
  {
   "cell_type": "markdown",
   "metadata": {},
   "source": [
    "<a id='5'></a>\n",
    "\n",
    "## 2. Example 2: Query Optimization and Cleaning\n"
   ]
  },
  {
   "cell_type": "code",
   "execution_count": 5,
   "metadata": {},
   "outputs": [
    {
     "name": "stdout",
     "output_type": "stream",
     "text": [
      "{'optimized_query': \"SELECT o.* FROM orders o JOIN customers c ON o.customer_id = c.customer_id WHERE o.order_date > '2023-01-01' AND c.country = 'USA'\"}\n"
     ]
    }
   ],
   "source": [
    "bad_query = \"\"\"\n",
    "SELECT * FROM orders WHERE order_date > '2023-01-01' AND customer_id IN (SELECT customer_id FROM customers WHERE country = 'USA')\n",
    "\"\"\"\n",
    "\n",
    "response = client.chat.completions.create(\n",
    "    model=\"gpt-4o-mini\",\n",
    "    messages=[\n",
    "        {\n",
    "            \"role\": \"system\",\n",
    "            \"content\": \"You are a SQL expert. Optimize SQL queries based on natural language descriptions.\",\n",
    "        },\n",
    "        {\n",
    "            \"role\": \"user\",\n",
    "            \"content\": \"Optimize this SQL query and output in JSON form: {} Optimization goal: Improve performance for a large dataset.\".format(\n",
    "                bad_query\n",
    "            ),\n",
    "        },\n",
    "    ],\n",
    "    response_format={\"type\": \"json_object\"},\n",
    ")\n",
    "\n",
    "print(json.loads(response.choices[0].message.content))"
   ]
  },
  {
   "cell_type": "code",
   "execution_count": 7,
   "metadata": {},
   "outputs": [],
   "source": [
    "bad_query = \"\"\"\n",
    "SELECT *\n",
    "FROM (\n",
    "    SELECT c3.id, c3.date, c3.amt, c3.prod_name, c3.region, e.emp_name\n",
    "    FROM region c3\n",
    "    JOIN employees e ON c3.id = e.id\n",
    "    WHERE e.active = 1\n",
    ") AS subquery\n",
    "JOIN (\n",
    "    SELECT AVG(s.amt) AS avg_amt\n",
    "    FROM sales s\n",
    ") AS subquery2 ON subquery.amt > subquery2.avg_amt;\n",
    "\"\"\"\n",
    "\n",
    "response = client.chat.completions.create(\n",
    "    model=\"gpt-4o-mini\",\n",
    "    messages=[\n",
    "        {\n",
    "            \"role\": \"system\",\n",
    "            \"content\": \"You are a SQL expert. Given a SQL query, make it more readable. You may split the query into multiple steps with temp tables, and add naming conventions / column names. \\\n",
    "            Avoid complex joins and nested CTEs.\",\n",
    "        },\n",
    "        {\n",
    "            \"role\": \"user\",\n",
    "            \"content\": \"make it more readable. You may split the query into multiple steps with temp tables, and add naming conventions / column names. \\\n",
    "            Avoid complex joins and nested CTEs. Output in JSON form: {}\".format(\n",
    "                bad_query\n",
    "            ),\n",
    "        },\n",
    "    ],\n",
    "    response_format={\"type\": \"json_object\"},\n",
    ")\n",
    "\n",
    "good_query = get_first_value(json.loads(response.choices[0].message.content))"
   ]
  },
  {
   "cell_type": "code",
   "execution_count": null,
   "metadata": {},
   "outputs": [],
   "source": [
    "good_query"
   ]
  },
  {
   "cell_type": "code",
   "execution_count": null,
   "metadata": {},
   "outputs": [],
   "source": [
    "for g in good_query:\n",
    "    print(g)\n",
    "    print(\"----\")"
   ]
  },
  {
   "cell_type": "markdown",
   "metadata": {},
   "source": [
    "## 2. Example 3: Query Result Interpretation\n"
   ]
  },
  {
   "cell_type": "code",
   "execution_count": 8,
   "metadata": {},
   "outputs": [
    {
     "name": "stdout",
     "output_type": "stream",
     "text": [
      "The query result provides a summary of total sales across different product categories. Here’s an interpretation of the results along with insights:\n",
      "\n",
      "### Overview of Sales by Category\n",
      "\n",
      "1. **Electronics**: \n",
      "   - **Total Sales**: $1,500,000\n",
      "   - **Insight**: This category significantly outperforms all others, indicating a strong consumer demand for electronic products. This could be attributed to advancements in technology, seasonal promotions, or a trend towards smart products.\n",
      "\n",
      "2. **Clothing**: \n",
      "   - **Total Sales**: $980,000\n",
      "   - **Insight**: While clothing sales are robust, they are only about two-thirds of electronic sales. This suggests that while clothing is a staple category, it may not be experiencing the same growth or consumer interest as electronics. There may be opportunities to enhance marketing strategies or diversify offerings in this category.\n",
      "\n",
      "3. **Home & Garden**: \n",
      "   - **Total Sales**: $750,000\n",
      "   - **Insight**: This category has solid sales, possibly reflecting consumers' investment in their living spaces. The numbers are less than apparel but indicate a market of considerable interest, especially around seasonal events or home improvement trends.\n",
      "\n",
      "4. **Books**: \n",
      "   - **Total Sales**: $320,000\n",
      "   - **Insight**: Book sales are the lowest among the categories presented. This may indicate a shift in consumer habits towards digital content or reduced interest in physical books. Strategies could include targeting specific niches (like educational literature or bestsellers) or enhancing e-commerce options for digital formats.\n",
      "\n",
      "5. **Toys**: \n",
      "   - **Total Sales**: $280,000\n",
      "   - **Insight**: Similar to books, the toy category has lower sales figures. This could be related to seasonal sales patterns, particularly around holidays. Marketing efforts may benefit from timing promotions with back-to-school periods or festive seasons to boost sales.\n",
      "\n",
      "### General Insights\n",
      "- **Market Dominance by Electronics**: The electronic category is a clear market leader. Businesses could consider realigning resources, such as enhancing stock levels, investing in marketing for this segment, and exploring new product lines or technological innovations to further capitalize on consumer interest.\n",
      "\n",
      "- **Potential for Cross-Promotion**: Given the variance in sales, cross-promotional marketing could be advantageous. For example, promoting electronics alongside clothing could leverage the high engagement the former receives.\n",
      "\n",
      "- **Opportunities for Improvement in Lower-Performing Categories**: Books and toys appear to be underperforming relative to their potential. Analyzing market trends, demographic targeting, and perhaps executing localized marketing strategies could help enhance performance in these areas.\n",
      "\n",
      "- **Long-Term Trends Consideration**: It would be prudent to analyze these trends over a longer period to understand if they reflect permanent changes in consumer behavior or temporary fluctuations due to external events (like economic shifts or major trends).\n",
      "\n",
      "In conclusion, while the sales data shows strong performance in electronics, there are various strategic opportunities to improve sales in other categories, especially through targeted marketing efforts and an understanding of consumer trends.\n"
     ]
    }
   ],
   "source": [
    "# Simulated query result\n",
    "query_result = \"\"\"\n",
    "| product_category | total_sales |\n",
    "|-------------------|-------------|\n",
    "| Electronics      | 1500000     |\n",
    "| Clothing         | 980000      |\n",
    "| Home & Garden    | 750000      |\n",
    "| Books            | 320000      |\n",
    "| Toys             | 280000      |\n",
    "\"\"\"\n",
    "\n",
    "prompt = f\"Interpret the following query result and provide insights. Here's the result:\\n{query_result}\"\n",
    "\n",
    "response = client.chat.completions.create(\n",
    "    model=\"gpt-4o-mini\", messages=[{\"role\": \"user\", \"content\": prompt}]\n",
    ")\n",
    "\n",
    "print(response.choices[0].message.content)"
   ]
  },
  {
   "cell_type": "markdown",
   "metadata": {},
   "source": [
    "<a id='4'></a>\n",
    "\n",
    "## 2. Example 4: Generating Insights from Query Results\n"
   ]
  },
  {
   "cell_type": "code",
   "execution_count": 9,
   "metadata": {},
   "outputs": [
    {
     "name": "stdout",
     "output_type": "stream",
     "text": [
      "Based on the provided query result, here are three relevant follow-up questions for further analysis:\n",
      "\n",
      "1. **What are the sales trends over the past few months for each category?** \n",
      "   - This question aims to analyze how sales have changed over time within each category, which can help identify seasonal patterns or the impact of marketing campaigns.\n",
      "\n",
      "2. **What are the demographics of the customers purchasing products in each category?** \n",
      "   - Understanding customer demographics can provide insights into target audiences for marketing strategies and product development.\n",
      "\n",
      "3. **How do the total sales compare to previous periods or against competitors in each category?**\n",
      "   - This question seeks to evaluate performance relative to historical data and market position, helping to assess the growth or decline in each category’s sales.\n"
     ]
    }
   ],
   "source": [
    "prompt = \"\"\"Based on the following query result, suggest 3 relevant follow-up questions for further analysis:\n",
    "{\n",
    "  \"category\": [\"Electronics\", \"Clothing\", \"Books\"],\n",
    "  \"total_sales\": [500000, 300000, 100000]\n",
    "}\"\"\"\n",
    "\n",
    "response = client.chat.completions.create(\n",
    "    model=\"gpt-4o-mini\", messages=[{\"role\": \"user\", \"content\": prompt}]\n",
    ")\n",
    "\n",
    "print(response.choices[0].message.content)"
   ]
  },
  {
   "cell_type": "markdown",
   "metadata": {},
   "source": [
    "This example demonstrates how Gen AI can assist in query optimization, a crucial skill for data engineers working with large datasets and complex database structures.\n"
   ]
  },
  {
   "cell_type": "markdown",
   "metadata": {},
   "source": [
    "<a id='7'></a>\n",
    "\n",
    "## 3. References and Further Reading\n",
    "\n",
    "1. OpenAI API Documentation: https://platform.openai.com/docs/\n",
    "2. \"Natural Language to SQL: A Survey\" by Xu et al. (2022): https://arxiv.org/abs/2201.00307\n",
    "3. \"Improving Text-to-SQL Evaluation Methodology\" by Zhong et al. (2020): https://arxiv.org/abs/1806.09029\n",
    "4. SQL Performance Tuning by Peter Gulutzan and Trudy Pelzer\n",
    "5. \"Fundamentals of Database Systems\" by Ramez Elmasri and Shamkant Navathe\n"
   ]
  }
 ],
 "metadata": {
  "kernelspec": {
   "display_name": "venv",
   "language": "python",
   "name": "python3"
  },
  "language_info": {
   "codemirror_mode": {
    "name": "ipython",
    "version": 3
   },
   "file_extension": ".py",
   "mimetype": "text/x-python",
   "name": "python",
   "nbconvert_exporter": "python",
   "pygments_lexer": "ipython3",
   "version": "3.12.1"
  }
 },
 "nbformat": 4,
 "nbformat_minor": 4
}
