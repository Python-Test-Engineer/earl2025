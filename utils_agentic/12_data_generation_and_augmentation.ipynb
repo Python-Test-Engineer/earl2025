{
 "cells": [
  {
   "cell_type": "markdown",
   "metadata": {},
   "source": [
    "# Data Generation and Augmentation\n",
    "\n",
    "## Table of Contents\n",
    "\n",
    "1. Introduction\n",
    "2. Examples\n",
    "3. References and Further Reading\n"
   ]
  },
  {
   "cell_type": "markdown",
   "metadata": {},
   "source": [
    "<a id='introduction'></a>\n",
    "\n",
    "## 1. Introduction\n",
    "\n",
    "Generative AI can be used for data generation and augmentation in several ways, particularly in creating realistic synthetic data based on specific situations:\n",
    "\n",
    "1. Creating realistic synthetic datasets\n",
    "2. Augmenting existing data with additional attributes\n",
    "3. Generating data patterns based on given prompts\n",
    "4. Filling in missing data points\n",
    "5. Simulating various scenarios for testing and analysis\n",
    "6. Creating diverse datasets: Gen AI can generate a wide range of data points that mimic real-world scenarios.\n",
    "7. Augmenting existing datasets: It can add variations to existing data, increasing dataset size and diversity.\n",
    "8. Generating rare or edge cases: AI can create data for uncommon scenarios that are hard to collect naturally.\n",
    "9. Preserving privacy: Synthetic data can be used instead of sensitive real data for testing and development.\n",
    "10. Balancing datasets: Gen AI can create additional samples for underrepresented classes in imbalanced datasets.\n",
    "\n",
    "Using Gen AI for synthetic data creation offers several benefits:\n",
    "\n",
    "- Overcoming data scarcity\n",
    "- Protecting privacy by avoiding real user data\n",
    "- Creating diverse datasets for robust model training\n",
    "- Simulating rare events or edge cases\n",
    "- Rapid prototyping and testing of data-driven systems\n",
    "- Increases dataset size, improving model performance.\n",
    "- Enhances dataset diversity, reducing bias.\n",
    "- Saves time compared to manual data collection.\n",
    "- Allows exploration of 'what-if' scenarios.\n",
    "\n",
    "Key terminology:\n",
    "\n",
    "- Synthetic Data: Artificially generated data that mimics real-world data\n",
    "- Data Augmentation: Techniques to increase the amount and diversity of data\n",
    "- Prompt: A text input that guides the AI in generating specific types of data\n",
    "- Pattern: A repeating structure or trend in the data that the AI can learn and replicate\n",
    "\n",
    "For data engineers, Gen AI-based synthetic data creation can be particularly helpful in:\n",
    "\n",
    "- Testing data pipelines with diverse and large-scale datasets\n",
    "- Developing and validating data models without risking real, sensitive data\n",
    "- Creating representative datasets for machine learning model training\n",
    "- Simulating various data scenarios for system stress testing\n"
   ]
  },
  {
   "cell_type": "code",
   "execution_count": 1,
   "metadata": {},
   "outputs": [],
   "source": [
    "import pandas as pd\n",
    "import json\n",
    "import os\n",
    "from openai import OpenAI\n",
    "import numpy as np\n",
    "import matplotlib.pyplot as plt\n",
    "from pprint import pprint\n",
    "from dotenv import load_dotenv, find_dotenv\n",
    "from rich.console import Console"
   ]
  },
  {
   "cell_type": "code",
   "execution_count": 2,
   "metadata": {},
   "outputs": [
    {
     "data": {
      "text/html": [
       "<pre style=\"white-space:pre;overflow-x:auto;line-height:normal;font-family:Menlo,'DejaVu Sans Mono',consolas,'Courier New',monospace\"><span style=\"color: #ff8700; text-decoration-color: #ff8700\">Using OpenAI API key: sk-proj-LRO5</span>\n",
       "</pre>\n"
      ],
      "text/plain": [
       "\u001b[38;5;208mUsing OpenAI API key: sk-proj-LRO5\u001b[0m\n"
      ]
     },
     "metadata": {},
     "output_type": "display_data"
    }
   ],
   "source": [
    "console = Console()\n",
    "\n",
    "load_dotenv(find_dotenv())\n",
    "OPENAI_API_KEY = os.environ.get(\"OPENAI_API_KEY\")\n",
    "console.print(f\"[dark_orange]Using OpenAI API key: {OPENAI_API_KEY[:12]}[/]\")\n",
    "# Set up OpenAI API key\n",
    "client = OpenAI(api_key=OPENAI_API_KEY)"
   ]
  },
  {
   "cell_type": "code",
   "execution_count": 3,
   "metadata": {},
   "outputs": [],
   "source": [
    "def get_first_value(dict_variable):\n",
    "    \"\"\"The function clean takes a dictionary (dict_variable) as input and returns the value of the first key-value pair in the dictionary.\n",
    "\n",
    "    Here's a breakdown:\n",
    "\n",
    "    iter(dict_variable.values()) creates an iterator over the dictionary's values.\n",
    "    next(...) retrieves the first value from the iterator.\n",
    "    So, if you have a dictionary like {'a': 1, 'b': 2, 'c': 3}, calling clean on it would return 1, which is the value associated with the first key 'a'.\n",
    "\n",
    "    Note that this function assumes the dictionary is not empty. If the dictionary is empty, next will raise a StopIteration exception.\n",
    "    \"\"\"\n",
    "    return next(iter(dict_variable.values()))"
   ]
  },
  {
   "cell_type": "code",
   "execution_count": 4,
   "metadata": {},
   "outputs": [],
   "source": [
    "# test our API call\n",
    "completion = client.chat.completions.create(\n",
    "    model=\"gpt-4o-mini\",\n",
    "    messages=[\n",
    "        {\n",
    "            \"role\": \"user\",\n",
    "            \"content\": \"tell me a slogan for an ice cream company. Return as a JSON object.\",\n",
    "        },\n",
    "    ],\n",
    "    response_format={\"type\": \"json_object\"},\n",
    ")"
   ]
  },
  {
   "cell_type": "code",
   "execution_count": 5,
   "metadata": {},
   "outputs": [],
   "source": [
    "n = json.loads(completion.choices[0].message.content)"
   ]
  },
  {
   "cell_type": "code",
   "execution_count": 6,
   "metadata": {},
   "outputs": [
    {
     "data": {
      "text/plain": [
       "'Scoop into Happiness!'"
      ]
     },
     "execution_count": 6,
     "metadata": {},
     "output_type": "execute_result"
    }
   ],
   "source": [
    "get_first_value(n)"
   ]
  },
  {
   "cell_type": "markdown",
   "metadata": {},
   "source": [
    "<a id='example1'></a>\n",
    "\n",
    "## 2. Example 1: Generating Synthetic Data\n"
   ]
  },
  {
   "cell_type": "code",
   "execution_count": 7,
   "metadata": {
    "scrolled": true
   },
   "outputs": [
    {
     "name": "stdout",
     "output_type": "stream",
     "text": [
      "{\n",
      "  \"sales_data\": [\n",
      "    {\n",
      "      \"date\": \"2023-01-01\",\n",
      "      \"customer_id\": \"Customer 001\",\n",
      "      \"order_total\": 150.75\n",
      "    },\n",
      "    {\n",
      "      \"date\": \"2023-01-02\",\n",
      "      \"customer_id\": \"Customer 002\",\n",
      "      \"order_total\": 200.5\n",
      "    },\n",
      "    {\n",
      "      \"date\": \"2023-01-03\",\n",
      "      \"customer_id\": \"Customer 003\",\n",
      "      \"order_total\": -25.0\n",
      "    },\n",
      "    {\n",
      "      \"date\": \"2023-01-04\",\n",
      "      \"customer_id\": \"Customer 004\",\n",
      "      \"order_total\": 75.0\n",
      "    },\n",
      "    {\n",
      "      \"date\": \"2023-01-05\",\n",
      "      \"customer_id\": \"Customer 005\",\n",
      "      \"order_total\": 300.99\n",
      "    },\n",
      "    {\n",
      "      \"date\": \"2023-01-06\",\n",
      "      \"customer_id\": \"Customer 006\",\n",
      "      \"order_total\": -10.99\n",
      "    },\n",
      "    {\n",
      "      \"date\": \"2023-01-07\",\n",
      "      \"customer_id\": \"Customer 007\",\n",
      "      \"order_total\": 950.0\n",
      "    },\n",
      "    {\n",
      "      \"date\": \"2023-01-08\",\n",
      "      \"customer_id\": \"Customer 008\",\n",
      "      \"order_total\": 125.25\n",
      "    },\n",
      "    {\n",
      "      \"date\": \"2023-01-09\",\n",
      "      \"customer_id\": \"Customer 009\",\n",
      "      \"order_total\": 50.0\n",
      "    },\n",
      "    {\n",
      "      \"date\": \"2023-01-10\",\n",
      "      \"customer_id\": \"Customer 010\",\n",
      "      \"order_total\": -5.5\n",
      "    },\n",
      "    {\n",
      "      \"date\": \"2023-01-11\",\n",
      "      \"customer_id\": \"Customer 001\",\n",
      "      \"order_total\": 200.0\n",
      "    },\n",
      "    {\n",
      "      \"date\": \"2023-01-12\",\n",
      "      \"customer_id\": \"Customer 002\",\n",
      "      \"order_total\": 150.25\n",
      "    },\n",
      "    {\n",
      "      \"date\": \"2023-01-13\",\n",
      "      \"customer_id\": \"Customer 003\",\n",
      "      \"order_total\": 320.5\n",
      "    },\n",
      "    {\n",
      "      \"date\": \"2023-01-14\",\n",
      "      \"customer_id\": \"Customer 004\",\n",
      "      \"order_total\": -9.99\n",
      "    },\n",
      "    {\n",
      "      \"date\": \"2023-01-15\",\n",
      "      \"customer_id\": \"Customer 005\",\n",
      "      \"order_total\": 75.0\n",
      "    },\n",
      "    {\n",
      "      \"date\": \"2023-01-16\",\n",
      "      \"customer_id\": \"Customer 006\",\n",
      "      \"order_total\": 180.0\n",
      "    },\n",
      "    {\n",
      "      \"date\": \"2023-01-17\",\n",
      "      \"customer_id\": \"Customer 007\",\n",
      "      \"order_total\": 120.75\n",
      "    },\n",
      "    {\n",
      "      \"date\": \"2023-01-18\",\n",
      "      \"customer_id\": \"Customer 008\",\n",
      "      \"order_total\": 300.0\n",
      "    },\n",
      "    {\n",
      "      \"date\": \"2023-01-19\",\n",
      "      \"customer_id\": \"Customer 009\",\n",
      "      \"order_total\": 400.0\n",
      "    },\n",
      "    {\n",
      "      \"date\": \"2023-01-20\",\n",
      "      \"customer_id\": \"Customer 010\",\n",
      "      \"order_total\": -15.0\n",
      "    },\n",
      "    {\n",
      "      \"date\": \"2023-01-21\",\n",
      "      \"customer_id\": \"Customer 001\",\n",
      "      \"order_total\": 250.1\n",
      "    },\n",
      "    {\n",
      "      \"date\": \"2023-01-22\",\n",
      "      \"customer_id\": \"Customer 002\",\n",
      "      \"order_total\": 80.0\n",
      "    },\n",
      "    {\n",
      "      \"date\": \"2023-01-23\",\n",
      "      \"customer_id\": \"Customer 003\",\n",
      "      \"order_total\": -5.0\n",
      "    },\n",
      "    {\n",
      "      \"date\": \"2023-01-24\",\n",
      "      \"customer_id\": \"Customer 004\",\n",
      "      \"order_total\": 90.0\n",
      "    },\n",
      "    {\n",
      "      \"date\": \"2023-01-25\",\n",
      "      \"customer_id\": \"Customer 005\",\n",
      "      \"order_total\": 650.0\n",
      "    },\n",
      "    {\n",
      "      \"date\": \"2023-01-26\",\n",
      "      \"customer_id\": \"Customer 006\",\n",
      "      \"order_total\": 20.0\n",
      "    },\n",
      "    {\n",
      "      \"date\": \"2023-01-27\",\n",
      "      \"customer_id\": \"Customer 007\",\n",
      "      \"order_total\": -45.0\n",
      "    },\n",
      "    {\n",
      "      \"date\": \"2023-01-28\",\n",
      "      \"customer_id\": \"Customer 008\",\n",
      "      \"order_total\": 1100.75\n",
      "    },\n",
      "    {\n",
      "      \"date\": \"2023-01-29\",\n",
      "      \"customer_id\": \"Customer 009\",\n",
      "      \"order_total\": 60.25\n",
      "    },\n",
      "    {\n",
      "      \"date\": \"2023-01-30\",\n",
      "      \"customer_id\": \"Customer 010\",\n",
      "      \"order_total\": 200.0\n",
      "    }\n",
      "  ]\n",
      "}\n"
     ]
    }
   ],
   "source": [
    "prompt = \"Generate synthetic sales data for an e-commerce platform. Include fields for date, customer_id (Customer ###), order total (in $USD). For certain orders, the order total should be negative. Create data for 10 customers. Output in JSON form.\"\n",
    "\n",
    "response = client.chat.completions.create(\n",
    "    model=\"gpt-4o-mini\",\n",
    "    messages=[{\"role\": \"user\", \"content\": prompt}],\n",
    "    response_format={\"type\": \"json_object\"},\n",
    ")\n",
    "\n",
    "customer_data = json.loads(response.choices[0].message.content)\n",
    "print(json.dumps(customer_data, indent=2))"
   ]
  },
  {
   "cell_type": "code",
   "execution_count": 8,
   "metadata": {},
   "outputs": [
    {
     "name": "stdout",
     "output_type": "stream",
     "text": [
      "          date   customer_id  order_total\n",
      "0   2023-01-01  Customer 001       150.75\n",
      "1   2023-01-02  Customer 002       200.50\n",
      "2   2023-01-03  Customer 003       -25.00\n",
      "3   2023-01-04  Customer 004        75.00\n",
      "4   2023-01-05  Customer 005       300.99\n",
      "5   2023-01-06  Customer 006       -10.99\n",
      "6   2023-01-07  Customer 007       950.00\n",
      "7   2023-01-08  Customer 008       125.25\n",
      "8   2023-01-09  Customer 009        50.00\n",
      "9   2023-01-10  Customer 010        -5.50\n",
      "10  2023-01-11  Customer 001       200.00\n",
      "11  2023-01-12  Customer 002       150.25\n",
      "12  2023-01-13  Customer 003       320.50\n",
      "13  2023-01-14  Customer 004        -9.99\n",
      "14  2023-01-15  Customer 005        75.00\n",
      "15  2023-01-16  Customer 006       180.00\n",
      "16  2023-01-17  Customer 007       120.75\n",
      "17  2023-01-18  Customer 008       300.00\n",
      "18  2023-01-19  Customer 009       400.00\n",
      "19  2023-01-20  Customer 010       -15.00\n",
      "20  2023-01-21  Customer 001       250.10\n",
      "21  2023-01-22  Customer 002        80.00\n",
      "22  2023-01-23  Customer 003        -5.00\n",
      "23  2023-01-24  Customer 004        90.00\n",
      "24  2023-01-25  Customer 005       650.00\n",
      "25  2023-01-26  Customer 006        20.00\n",
      "26  2023-01-27  Customer 007       -45.00\n",
      "27  2023-01-28  Customer 008      1100.75\n",
      "28  2023-01-29  Customer 009        60.25\n",
      "29  2023-01-30  Customer 010       200.00\n"
     ]
    }
   ],
   "source": [
    "# Convert to DataFrame\n",
    "df_customers = pd.DataFrame(get_first_value(customer_data))\n",
    "print(df_customers)"
   ]
  },
  {
   "cell_type": "code",
   "execution_count": 9,
   "metadata": {},
   "outputs": [
    {
     "name": "stdout",
     "output_type": "stream",
     "text": [
      "{\n",
      "  \"reviews\": [\n",
      "    {\n",
      "      \"review_id\": \"001\",\n",
      "      \"rating\": 5,\n",
      "      \"review_text\": \"I've been using this smartphone for a month now, and I absolutely love it! The camera quality is outstanding, capturing vibrant colors and sharp details. The battery life lasts all day, and the performance is lightning fast. Highly recommended!\"\n",
      "    },\n",
      "    {\n",
      "      \"review_id\": \"002\",\n",
      "      \"rating\": 3,\n",
      "      \"review_text\": \"The smartphone has a sleek design and a nice display, but I've encountered some issues with the software. It tends to lag occasionally, and some apps crash. It's a decent phone, but I expected better performance for the price.\"\n",
      "    },\n",
      "    {\n",
      "      \"review_id\": \"003\",\n",
      "      \"rating\": 4,\n",
      "      \"review_text\": \"Great phone overall! The fingerprint sensor works perfectly, and the overall build quality feels premium. The only downside is that the charging speed could be improved. Otherwise, a solid choice for anyone looking for a reliable smartphone.\"\n",
      "    },\n",
      "    {\n",
      "      \"review_id\": \"004\",\n",
      "      \"rating\": 1,\n",
      "      \"review_text\": \"I'm really disappointed with this smartphone. After just a few weeks, the screen developed some dead pixels, and customer service has been unhelpful. I expected much better quality from such a reputable brand.\"\n",
      "    },\n",
      "    {\n",
      "      \"review_id\": \"005\",\n",
      "      \"rating\": 2,\n",
      "      \"review_text\": \"The design of the phone is nice, but the battery drains too quickly, and the camera doesn't perform well in low light. I was hoping for more versatility, but unfortunately, it hasn't met my expectations.\"\n",
      "    }\n",
      "  ]\n",
      "}\n"
     ]
    }
   ],
   "source": [
    "prompt = \"\"\"Generate 5 synthetic product reviews for a smartphone. Include fields for review_id, rating (1-5), and review_text. Output in JSON form.\"\"\"\n",
    "\n",
    "response = client.chat.completions.create(\n",
    "    model=\"gpt-4o-mini\",\n",
    "    messages=[{\"role\": \"user\", \"content\": prompt}],\n",
    "    response_format={\"type\": \"json_object\"},\n",
    ")\n",
    "\n",
    "review_data = json.loads(response.choices[0].message.content)\n",
    "print(json.dumps(review_data, indent=2))"
   ]
  },
  {
   "cell_type": "code",
   "execution_count": 10,
   "metadata": {},
   "outputs": [
    {
     "name": "stdout",
     "output_type": "stream",
     "text": [
      "  review_id  rating                                        review_text\n",
      "0       001       5  I've been using this smartphone for a month no...\n",
      "1       002       3  The smartphone has a sleek design and a nice d...\n",
      "2       003       4  Great phone overall! The fingerprint sensor wo...\n",
      "3       004       1  I'm really disappointed with this smartphone. ...\n",
      "4       005       2  The design of the phone is nice, but the batte...\n"
     ]
    }
   ],
   "source": [
    "# Convert to DataFrame\n",
    "df_reviews = pd.DataFrame(get_first_value(review_data))\n",
    "print(df_reviews)"
   ]
  },
  {
   "cell_type": "markdown",
   "metadata": {},
   "source": [
    "<a id='example2'></a>\n",
    "\n",
    "## 2. Example 2: Augmenting Existing Data\n"
   ]
  },
  {
   "cell_type": "code",
   "execution_count": 11,
   "metadata": {
    "scrolled": true
   },
   "outputs": [
    {
     "name": "stdout",
     "output_type": "stream",
     "text": [
      "Existing Data:\n",
      "      product  price     category\n",
      "0      Laptop   1200  Electronics\n",
      "1  Smartphone    800  Electronics\n",
      "\n",
      "Generated New Products:\n",
      "[\n",
      "  {\n",
      "    \"product\": \"Tablet\",\n",
      "    \"price\": 600,\n",
      "    \"category\": \"Electronics\"\n",
      "  },\n",
      "  {\n",
      "    \"product\": \"Smartwatch\",\n",
      "    \"price\": 300,\n",
      "    \"category\": \"Electronics\"\n",
      "  },\n",
      "  {\n",
      "    \"product\": \"Headphones\",\n",
      "    \"price\": 150,\n",
      "    \"category\": \"Electronics\"\n",
      "  }\n",
      "]\n"
     ]
    }
   ],
   "source": [
    "# Assuming we have an existing dataset\n",
    "existing_data = pd.DataFrame(\n",
    "    {\n",
    "        \"product\": [\"Laptop\", \"Smartphone\"],\n",
    "        \"price\": [1200, 800],\n",
    "        \"category\": [\"Electronics\", \"Electronics\"],\n",
    "    }\n",
    ")\n",
    "print(\"Existing Data:\")\n",
    "print(existing_data)\n",
    "\n",
    "prompt = f\"\"\"Given this product data: {existing_data.to_dict('records')}, \n",
    "generate 3 additional products in the same format, maintaining similar patterns but with different values. Output in JSON form.\"\"\"\n",
    "\n",
    "response = client.chat.completions.create(\n",
    "    model=\"gpt-4o-mini\",\n",
    "    messages=[{\"role\": \"user\", \"content\": prompt}],\n",
    "    response_format={\"type\": \"json_object\"},\n",
    ")\n",
    "\n",
    "new_products = get_first_value(json.loads(response.choices[0].message.content))\n",
    "print(\"\\nGenerated New Products:\")\n",
    "print(json.dumps(new_products, indent=2))"
   ]
  },
  {
   "cell_type": "code",
   "execution_count": 12,
   "metadata": {},
   "outputs": [
    {
     "name": "stdout",
     "output_type": "stream",
     "text": [
      "      product  price     category\n",
      "0      Tablet    600  Electronics\n",
      "1  Smartwatch    300  Electronics\n",
      "2  Headphones    150  Electronics\n"
     ]
    }
   ],
   "source": [
    "print(pd.DataFrame(data=new_products))"
   ]
  },
  {
   "cell_type": "code",
   "execution_count": 13,
   "metadata": {},
   "outputs": [
    {
     "name": "stdout",
     "output_type": "stream",
     "text": [
      "Original data:\n",
      "[\n",
      "  {\n",
      "    \"id\": 1,\n",
      "    \"age\": 25,\n",
      "    \"income\": 50000\n",
      "  },\n",
      "  {\n",
      "    \"id\": 2,\n",
      "    \"age\": 40,\n",
      "    \"income\": 75000\n",
      "  }\n",
      "]\n"
     ]
    }
   ],
   "source": [
    "# Original dataset\n",
    "original_data = [\n",
    "    {\"id\": 1, \"age\": 25, \"income\": 50000},\n",
    "    {\"id\": 2, \"age\": 40, \"income\": 75000},\n",
    "]\n",
    "\n",
    "print(\"Original data:\")\n",
    "print(json.dumps(original_data, indent=2))"
   ]
  },
  {
   "cell_type": "code",
   "execution_count": 14,
   "metadata": {},
   "outputs": [
    {
     "name": "stdout",
     "output_type": "stream",
     "text": [
      "Augmented data:\n",
      "[\n",
      "  {\n",
      "    \"id\": 1,\n",
      "    \"age\": 25,\n",
      "    \"income\": 50000\n",
      "  },\n",
      "  {\n",
      "    \"id\": 2,\n",
      "    \"age\": 40,\n",
      "    \"income\": 75000\n",
      "  },\n",
      "  {\n",
      "    \"id\": 3,\n",
      "    \"age\": 30,\n",
      "    \"income\": 60000\n",
      "  },\n",
      "  {\n",
      "    \"id\": 4,\n",
      "    \"age\": 45,\n",
      "    \"income\": 90000\n",
      "  },\n",
      "  {\n",
      "    \"id\": 5,\n",
      "    \"age\": 35,\n",
      "    \"income\": 70000\n",
      "  }\n",
      "]\n"
     ]
    }
   ],
   "source": [
    "prompt = f\"Generate 3 new data points similar to these, maintaining realistic relationships between age and income. Output in JSON form: {json.dumps(original_data)}\"\n",
    "\n",
    "response = client.chat.completions.create(\n",
    "    model=\"gpt-4o-mini\",\n",
    "    messages=[{\"role\": \"user\", \"content\": prompt}],\n",
    "    response_format={\"type\": \"json_object\"},\n",
    ")\n",
    "\n",
    "new_data = json.loads(response.choices[0].message.content)\n",
    "\n",
    "augmented_data = original_data + get_first_value(new_data)\n",
    "\n",
    "print(\"Augmented data:\")\n",
    "print(json.dumps(augmented_data, indent=2))"
   ]
  },
  {
   "cell_type": "code",
   "execution_count": 15,
   "metadata": {},
   "outputs": [
    {
     "data": {
      "application/vnd.microsoft.datawrangler.viewer.v0+json": {
       "columns": [
        {
         "name": "index",
         "rawType": "int64",
         "type": "integer"
        },
        {
         "name": "id",
         "rawType": "int64",
         "type": "integer"
        },
        {
         "name": "age",
         "rawType": "int64",
         "type": "integer"
        },
        {
         "name": "income",
         "rawType": "int64",
         "type": "integer"
        }
       ],
       "ref": "9155e98f-43a5-4d5a-8cb0-2e1b4c8b318f",
       "rows": [
        [
         "0",
         "1",
         "25",
         "50000"
        ],
        [
         "2",
         "3",
         "30",
         "60000"
        ],
        [
         "4",
         "5",
         "35",
         "70000"
        ],
        [
         "1",
         "2",
         "40",
         "75000"
        ],
        [
         "3",
         "4",
         "45",
         "90000"
        ]
       ],
       "shape": {
        "columns": 3,
        "rows": 5
       }
      },
      "text/html": [
       "<div>\n",
       "<style scoped>\n",
       "    .dataframe tbody tr th:only-of-type {\n",
       "        vertical-align: middle;\n",
       "    }\n",
       "\n",
       "    .dataframe tbody tr th {\n",
       "        vertical-align: top;\n",
       "    }\n",
       "\n",
       "    .dataframe thead th {\n",
       "        text-align: right;\n",
       "    }\n",
       "</style>\n",
       "<table border=\"1\" class=\"dataframe\">\n",
       "  <thead>\n",
       "    <tr style=\"text-align: right;\">\n",
       "      <th></th>\n",
       "      <th>id</th>\n",
       "      <th>age</th>\n",
       "      <th>income</th>\n",
       "    </tr>\n",
       "  </thead>\n",
       "  <tbody>\n",
       "    <tr>\n",
       "      <th>0</th>\n",
       "      <td>1</td>\n",
       "      <td>25</td>\n",
       "      <td>50000</td>\n",
       "    </tr>\n",
       "    <tr>\n",
       "      <th>2</th>\n",
       "      <td>3</td>\n",
       "      <td>30</td>\n",
       "      <td>60000</td>\n",
       "    </tr>\n",
       "    <tr>\n",
       "      <th>4</th>\n",
       "      <td>5</td>\n",
       "      <td>35</td>\n",
       "      <td>70000</td>\n",
       "    </tr>\n",
       "    <tr>\n",
       "      <th>1</th>\n",
       "      <td>2</td>\n",
       "      <td>40</td>\n",
       "      <td>75000</td>\n",
       "    </tr>\n",
       "    <tr>\n",
       "      <th>3</th>\n",
       "      <td>4</td>\n",
       "      <td>45</td>\n",
       "      <td>90000</td>\n",
       "    </tr>\n",
       "  </tbody>\n",
       "</table>\n",
       "</div>"
      ],
      "text/plain": [
       "   id  age  income\n",
       "0   1   25   50000\n",
       "2   3   30   60000\n",
       "4   5   35   70000\n",
       "1   2   40   75000\n",
       "3   4   45   90000"
      ]
     },
     "execution_count": 15,
     "metadata": {},
     "output_type": "execute_result"
    }
   ],
   "source": [
    "pd.DataFrame(augmented_data).sort_values(\"age\")"
   ]
  },
  {
   "cell_type": "markdown",
   "metadata": {},
   "source": [
    "<a id='example3'></a>\n",
    "\n",
    "## 2. Example 3: Creating Time Series Data\n"
   ]
  },
  {
   "cell_type": "code",
   "execution_count": 16,
   "metadata": {
    "scrolled": true
   },
   "outputs": [
    {
     "name": "stdout",
     "output_type": "stream",
     "text": [
      "{\n",
      "  \"sales_data\": [\n",
      "    {\n",
      "      \"date\": \"2023-10-01\",\n",
      "      \"total_sales\": 450\n",
      "    },\n",
      "    {\n",
      "      \"date\": \"2023-10-02\",\n",
      "      \"total_sales\": 300\n",
      "    },\n",
      "    {\n",
      "      \"date\": \"2023-10-03\",\n",
      "      \"total_sales\": 320\n",
      "    },\n",
      "    {\n",
      "      \"date\": \"2023-10-04\",\n",
      "      \"total_sales\": 340\n",
      "    },\n",
      "    {\n",
      "      \"date\": \"2023-10-05\",\n",
      "      \"total_sales\": 360\n",
      "    },\n",
      "    {\n",
      "      \"date\": \"2023-10-06\",\n",
      "      \"total_sales\": 400\n",
      "    },\n",
      "    {\n",
      "      \"date\": \"2023-10-07\",\n",
      "      \"total_sales\": 500\n",
      "    },\n",
      "    {\n",
      "      \"date\": \"2023-10-08\",\n",
      "      \"total_sales\": 550\n",
      "    },\n",
      "    {\n",
      "      \"date\": \"2023-10-09\",\n",
      "      \"total_sales\": 310\n",
      "    },\n",
      "    {\n",
      "      \"date\": \"2023-10-10\",\n",
      "      \"total_sales\": 330\n",
      "    },\n",
      "    {\n",
      "      \"date\": \"2023-10-11\",\n",
      "      \"total_sales\": 350\n",
      "    },\n",
      "    {\n",
      "      \"date\": \"2023-10-12\",\n",
      "      \"total_sales\": 370\n",
      "    },\n",
      "    {\n",
      "      \"date\": \"2023-10-13\",\n",
      "      \"total_sales\": 420\n",
      "    },\n",
      "    {\n",
      "      \"date\": \"2023-10-14\",\n",
      "      \"total_sales\": 550\n",
      "    },\n",
      "    {\n",
      "      \"date\": \"2023-10-15\",\n",
      "      \"total_sales\": 600\n",
      "    },\n",
      "    {\n",
      "      \"date\": \"2023-10-16\",\n",
      "      \"total_sales\": 340\n",
      "    },\n",
      "    {\n",
      "      \"date\": \"2023-10-17\",\n",
      "      \"total_sales\": 360\n",
      "    },\n",
      "    {\n",
      "      \"date\": \"2023-10-18\",\n",
      "      \"total_sales\": 380\n",
      "    },\n",
      "    {\n",
      "      \"date\": \"2023-10-19\",\n",
      "      \"total_sales\": 400\n",
      "    },\n",
      "    {\n",
      "      \"date\": \"2023-10-20\",\n",
      "      \"total_sales\": 450\n",
      "    },\n",
      "    {\n",
      "      \"date\": \"2023-10-21\",\n",
      "      \"total_sales\": 610\n",
      "    },\n",
      "    {\n",
      "      \"date\": \"2023-10-22\",\n",
      "      \"total_sales\": 620\n",
      "    },\n",
      "    {\n",
      "      \"date\": \"2023-10-23\",\n",
      "      \"total_sales\": 350\n",
      "    },\n",
      "    {\n",
      "      \"date\": \"2023-10-24\",\n",
      "      \"total_sales\": 370\n",
      "    },\n",
      "    {\n",
      "      \"date\": \"2023-10-25\",\n",
      "      \"total_sales\": 390\n",
      "    },\n",
      "    {\n",
      "      \"date\": \"2023-10-26\",\n",
      "      \"total_sales\": 410\n",
      "    },\n",
      "    {\n",
      "      \"date\": \"2023-10-27\",\n",
      "      \"total_sales\": 460\n",
      "    },\n",
      "    {\n",
      "      \"date\": \"2023-10-28\",\n",
      "      \"total_sales\": 630\n",
      "    },\n",
      "    {\n",
      "      \"date\": \"2023-10-29\",\n",
      "      \"total_sales\": 650\n",
      "    },\n",
      "    {\n",
      "      \"date\": \"2023-10-30\",\n",
      "      \"total_sales\": 380\n",
      "    },\n",
      "    {\n",
      "      \"date\": \"2023-10-31\",\n",
      "      \"total_sales\": 400\n",
      "    }\n",
      "  ]\n",
      "}\n"
     ]
    }
   ],
   "source": [
    "prompt = \"Generate synthetic daily sales data for a coffee shop for over 4 weeks, for product. Include date and total_sales. Show a realistic pattern with weekend peaks. Output in JSON form.\"\n",
    "\n",
    "response = client.chat.completions.create(\n",
    "    model=\"gpt-4o-mini\",\n",
    "    messages=[{\"role\": \"user\", \"content\": prompt}],\n",
    "    response_format={\"type\": \"json_object\"},\n",
    ")\n",
    "\n",
    "sales_data = json.loads(response.choices[0].message.content)\n",
    "print(json.dumps(sales_data, indent=2))"
   ]
  },
  {
   "cell_type": "code",
   "execution_count": 17,
   "metadata": {
    "scrolled": true
   },
   "outputs": [
    {
     "name": "stdout",
     "output_type": "stream",
     "text": [
      "         date  total_sales\n",
      "0  2023-10-01          450\n",
      "1  2023-10-02          300\n",
      "2  2023-10-03          320\n",
      "3  2023-10-04          340\n",
      "4  2023-10-05          360\n",
      "5  2023-10-06          400\n",
      "6  2023-10-07          500\n",
      "7  2023-10-08          550\n",
      "8  2023-10-09          310\n",
      "9  2023-10-10          330\n",
      "10 2023-10-11          350\n",
      "11 2023-10-12          370\n",
      "12 2023-10-13          420\n",
      "13 2023-10-14          550\n",
      "14 2023-10-15          600\n",
      "15 2023-10-16          340\n",
      "16 2023-10-17          360\n",
      "17 2023-10-18          380\n",
      "18 2023-10-19          400\n",
      "19 2023-10-20          450\n",
      "20 2023-10-21          610\n",
      "21 2023-10-22          620\n",
      "22 2023-10-23          350\n",
      "23 2023-10-24          370\n",
      "24 2023-10-25          390\n",
      "25 2023-10-26          410\n",
      "26 2023-10-27          460\n",
      "27 2023-10-28          630\n",
      "28 2023-10-29          650\n",
      "29 2023-10-30          380\n",
      "30 2023-10-31          400\n"
     ]
    }
   ],
   "source": [
    "# Convert to DataFrame\n",
    "df_sales = pd.DataFrame(get_first_value(sales_data))\n",
    "df_sales[\"date\"] = pd.to_datetime(df_sales[\"date\"])\n",
    "print(df_sales)"
   ]
  },
  {
   "cell_type": "code",
   "execution_count": 18,
   "metadata": {},
   "outputs": [
    {
     "data": {
      "image/png": "[encoded data removed]",
      "text/plain": [
       "<Figure size 1000x600 with 1 Axes>"
      ]
     },
     "metadata": {},
     "output_type": "display_data"
    }
   ],
   "source": [
    "# visualize it\n",
    "import matplotlib.pyplot as plt\n",
    "\n",
    "# Plotting the data\n",
    "plt.figure(figsize=(10, 6))\n",
    "plt.plot(\n",
    "    df_sales[\"date\"], df_sales[\"total_sales\"], marker=\"o\", linestyle=\"-\", color=\"b\"\n",
    ")\n",
    "\n",
    "plt.title(\"Total Sales Over Time\")\n",
    "plt.xlabel(\"Date\")\n",
    "plt.ylabel(\"Total Sales\")\n",
    "plt.grid(True)\n",
    "plt.xticks(rotation=45)\n",
    "plt.tight_layout()\n",
    "\n",
    "# Show the plot\n",
    "plt.show()"
   ]
  },
  {
   "cell_type": "markdown",
   "metadata": {},
   "source": [
    "<a id='3'></a>\n",
    "\n",
    "## 2. Example 4: Generating Edge Cases for a Weather Dataset\n"
   ]
  },
  {
   "cell_type": "code",
   "execution_count": 19,
   "metadata": {},
   "outputs": [
    {
     "name": "stdout",
     "output_type": "stream",
     "text": [
      "        date  temperature  precipitation  wind_speed\n",
      "0 2023-01-01     5.930144      43.780170   15.935015\n",
      "1 2023-01-02     1.678872      47.966058   16.272120\n",
      "2 2023-01-03     2.153953       4.663496    5.253743\n",
      "3 2023-01-04     9.721707      30.321639    6.922487\n",
      "4 2023-01-05    15.299160      39.659290   13.125180\n",
      "\n",
      "Temperature range: 0.16 to 29.85\n",
      "Precipitation range: 1.93 to 49.81\n",
      "Wind speed range: 0.04 to 19.95\n"
     ]
    }
   ],
   "source": [
    "# Create a standard weather dataset\n",
    "weather_data = pd.DataFrame(\n",
    "    {\n",
    "        \"date\": pd.date_range(start=\"2023-01-01\", periods=100),\n",
    "        \"temperature\": np.random.uniform(0, 30, 100),\n",
    "        \"precipitation\": np.random.uniform(0, 50, 100),\n",
    "        \"wind_speed\": np.random.uniform(0, 20, 100),\n",
    "    }\n",
    ")\n",
    "\n",
    "print(weather_data.head())\n",
    "print(\n",
    "    f\"\\nTemperature range: {weather_data['temperature'].min():.2f} to {weather_data['temperature'].max():.2f}\"\n",
    ")\n",
    "print(\n",
    "    f\"Precipitation range: {weather_data['precipitation'].min():.2f} to {weather_data['precipitation'].max():.2f}\"\n",
    ")\n",
    "print(\n",
    "    f\"Wind speed range: {weather_data['wind_speed'].min():.2f} to {weather_data['wind_speed'].max():.2f}\"\n",
    ")"
   ]
  },
  {
   "cell_type": "code",
   "execution_count": null,
   "metadata": {},
   "outputs": [],
   "source": [
    "# Use Gen AI to generate edge cases for weather data\n",
    "prompt = \"Generate 5 edge cases for a weather dataset with temperature (°C), precipitation (mm), and wind speed (m/s). Include extreme but plausible values. Output in JSON form\"\n",
    "\n",
    "response = client.chat.completions.create(\n",
    "    model=\"gpt-4o-mini\",\n",
    "    messages=[{\"role\": \"user\", \"content\": prompt}],\n",
    "    response_format={\"type\": \"json_object\"},\n",
    ")\n",
    "\n",
    "edge_cases = json.loads(response.choices[0].message.content)\n",
    "pprint(edge_cases)"
   ]
  },
  {
   "cell_type": "code",
   "execution_count": null,
   "metadata": {},
   "outputs": [
    {
     "name": "stdout",
     "output_type": "stream",
     "text": [
      "                          date  temperature  precipitation  wind_speed\n",
      "100 2025-04-26 18:11:17.864989        -50.0            0.0         0.0\n",
      "101 2025-04-26 18:11:17.866988         60.0          200.0        30.0\n",
      "102 2025-04-26 18:11:17.867445         40.0            0.0        50.0\n",
      "103 2025-04-26 18:11:17.867445        -30.0          300.0        20.0\n",
      "104 2025-04-26 18:11:17.867445         25.0          100.0       100.0\n",
      "\n",
      "Updated temperature range: -50.00 to 60.00\n",
      "Updated precipitation range: 0.00 to 300.00\n",
      "Updated wind speed range: 0.00 to 100.00\n"
     ]
    }
   ],
   "source": [
    "# Add edge cases to the weather dataset\n",
    "for case in get_first_value(edge_cases):\n",
    "    new_row = {\n",
    "        \"date\": pd.Timestamp.now(),\n",
    "        \"temperature\": case[\"temperature\"],\n",
    "        \"precipitation\": case[\"precipitation\"],\n",
    "        \"wind_speed\": case[\"wind_speed\"],\n",
    "    }\n",
    "    new_row_df = pd.DataFrame([new_row])\n",
    "    weather_data = pd.concat([weather_data, new_row_df], ignore_index=True)\n",
    "\n",
    "print(weather_data.tail())\n",
    "print(\n",
    "    f\"\\nUpdated temperature range: {weather_data['temperature'].min():.2f} to {weather_data['temperature'].max():.2f}\"\n",
    ")\n",
    "print(\n",
    "    f\"Updated precipitation range: {weather_data['precipitation'].min():.2f} to {weather_data['precipitation'].max():.2f}\"\n",
    ")\n",
    "print(\n",
    "    f\"Updated wind speed range: {weather_data['wind_speed'].min():.2f} to {weather_data['wind_speed'].max():.2f}\"\n",
    ")"
   ]
  },
  {
   "cell_type": "markdown",
   "metadata": {},
   "source": [
    "## 2. Example 5: Creating a Sample DataFrame with PII\n"
   ]
  },
  {
   "cell_type": "code",
   "execution_count": null,
   "metadata": {},
   "outputs": [
    {
     "name": "stdout",
     "output_type": "stream",
     "text": [
      "          Name             Email         Phone  Age  Salary\n",
      "0     John Doe  john@example.com  123-456-7890   30   50000\n",
      "1   Jane Smith  jane@example.com  234-567-8901   25   60000\n",
      "2  Bob Johnson   bob@example.com  345-678-9012   45   75000\n"
     ]
    }
   ],
   "source": [
    "data = {\n",
    "    \"Name\": [\"John Doe\", \"Jane Smith\", \"Bob Johnson\"],\n",
    "    \"Email\": [\"john@example.com\", \"jane@example.com\", \"bob@example.com\"],\n",
    "    \"Phone\": [\"123-456-7890\", \"234-567-8901\", \"345-678-9012\"],\n",
    "    \"Age\": [30, 25, 45],\n",
    "    \"Salary\": [50000, 60000, 75000],\n",
    "}\n",
    "\n",
    "df = pd.DataFrame(data)\n",
    "print(df)"
   ]
  },
  {
   "cell_type": "code",
   "execution_count": null,
   "metadata": {},
   "outputs": [
    {
     "name": "stdout",
     "output_type": "stream",
     "text": [
      "           Name        Email        Phone  Age  Salary\n",
      "0         *****  ***********  ***********   30   50000\n",
      "1     *********  ***********  ***********   25   60000\n",
      "2  ************  ***********  ***********   45   75000\n"
     ]
    }
   ],
   "source": [
    "prompt = f\"\"\"Mask the following PII data. Keep the Age and Salary as is. Output in JSON form.\n",
    "Original data:\n",
    "{df.to_json(orient='records')}\n",
    "\"\"\"\n",
    "\n",
    "response = client.chat.completions.create(\n",
    "    model=\"gpt-4o-mini\",\n",
    "    messages=[{\"role\": \"user\", \"content\": prompt}],\n",
    "    response_format={\"type\": \"json_object\"},\n",
    ")\n",
    "\n",
    "masked_data = json.loads(response.choices[0].message.content)\n",
    "masked_df = pd.DataFrame(get_first_value(masked_data))\n",
    "print(masked_df)"
   ]
  },
  {
   "cell_type": "code",
   "execution_count": null,
   "metadata": {},
   "outputs": [
    {
     "name": "stdout",
     "output_type": "stream",
     "text": [
      "             Name                Email         Phone  Age  Salary\n",
      "0     Alice Brown    alice@example.com  987-654-3210   32   52000\n",
      "1  Michael Wilson  michael@example.com  876-543-2109   28   58000\n",
      "2      Emma Davis     emma@example.com  765-432-1098   47   80000\n"
     ]
    }
   ],
   "source": [
    "prompt = f\"\"\"Generate synthetic data similar to the following, but with different PII. Keep the Age and Salary distributions similar. Output in JSON form.\n",
    "Original data:\n",
    "{df.to_json(orient='records')}\n",
    "\"\"\"\n",
    "\n",
    "response = client.chat.completions.create(\n",
    "    model=\"gpt-4o-mini\",\n",
    "    messages=[{\"role\": \"user\", \"content\": prompt}],\n",
    "    response_format={\"type\": \"json_object\"},\n",
    ")\n",
    "\n",
    "synthetic_data = json.loads(response.choices[0].message.content)\n",
    "synthetic_df = pd.DataFrame(get_first_value(synthetic_data))\n",
    "print(synthetic_df)"
   ]
  },
  {
   "cell_type": "code",
   "execution_count": null,
   "metadata": {},
   "outputs": [
    {
     "name": "stdout",
     "output_type": "stream",
     "text": [
      "My name is * and I live in * and I was having trouble accessing my bank account (account ID: *****). Could you please help me?\n"
     ]
    }
   ],
   "source": [
    "pii_text = \"My name is Henry and I live in Toronto and I was having trouble accessing my bank account (account ID: 125526). \\\n",
    "    Could you please help me?\"\n",
    "\n",
    "response = client.chat.completions.create(\n",
    "    model=\"gpt-4o-mini\",\n",
    "    messages=[\n",
    "        {\n",
    "            \"role\": \"user\",\n",
    "            \"content\": \"Remove any PII from the following text, replace it with *: {}\".format(\n",
    "                pii_text\n",
    "            ),\n",
    "        }\n",
    "    ],\n",
    ")\n",
    "\n",
    "print(response.choices[0].message.content)"
   ]
  },
  {
   "cell_type": "markdown",
   "metadata": {},
   "source": [
    "## 2. Example 6: Generating Synthetic Samples for an Imbalanced Dataset\n"
   ]
  },
  {
   "cell_type": "code",
   "execution_count": null,
   "metadata": {},
   "outputs": [
    {
     "name": "stdout",
     "output_type": "stream",
     "text": [
      "                                          review  sentiment\n",
      "0            This product is amazing! I love it!          1\n",
      "1               Great quality and fast shipping.          1\n",
      "2  Exceeded my expectations. Highly recommended!          1\n",
      "3              Best purchase I've made in years.          1\n",
      "4             Fantastic product, will buy again.          1\n",
      "5                 Disappointed with the quality.          0\n",
      "\n",
      "Class distribution:\n",
      "sentiment\n",
      "1    5\n",
      "0    1\n",
      "Name: count, dtype: int64\n"
     ]
    }
   ],
   "source": [
    "import pandas as pd\n",
    "import numpy as np\n",
    "\n",
    "# Create an unbalanced dataset of product reviews\n",
    "positive_reviews = [\n",
    "    \"This product is amazing! I love it!\",\n",
    "    \"Great quality and fast shipping.\",\n",
    "    \"Exceeded my expectations. Highly recommended!\",\n",
    "    \"Best purchase I've made in years.\",\n",
    "    \"Fantastic product, will buy again.\",\n",
    "]\n",
    "\n",
    "negative_reviews = [\"Disappointed with the quality.\"]\n",
    "\n",
    "reviews = positive_reviews + negative_reviews\n",
    "labels = [1] * len(positive_reviews) + [0] * len(negative_reviews)\n",
    "\n",
    "df = pd.DataFrame({\"review\": reviews, \"sentiment\": labels})\n",
    "print(df)\n",
    "print(f\"\\nClass distribution:\\n{df['sentiment'].value_counts()}\")"
   ]
  },
  {
   "cell_type": "code",
   "execution_count": null,
   "metadata": {},
   "outputs": [
    {
     "name": "stdout",
     "output_type": "stream",
     "text": [
      "                                              review  sentiment\n",
      "0                This product is amazing! I love it!          1\n",
      "1                   Great quality and fast shipping.          1\n",
      "2      Exceeded my expectations. Highly recommended!          1\n",
      "3                  Best purchase I've made in years.          1\n",
      "4                 Fantastic product, will buy again.          1\n",
      "5                     Disappointed with the quality.          0\n",
      "6  I was really let down by the quality of this p...          0\n",
      "7  I was really let down by this product. It just...          0\n",
      "8  I was really let down by the performance of th...          0\n",
      "9  The product did not meet my expectations at al...          0\n",
      "\n",
      "New class distribution:\n",
      "sentiment\n",
      "1    5\n",
      "0    5\n",
      "Name: count, dtype: int64\n"
     ]
    }
   ],
   "source": [
    "# Function to generate negative reviews\n",
    "def generate_negative_review():\n",
    "    response = client.chat.completions.create(\n",
    "        model=\"gpt-4o-mini\",\n",
    "        messages=[\n",
    "            {\n",
    "                \"role\": \"system\",\n",
    "                \"content\": \"You are a helpful assistant that generates product reviews.\",\n",
    "            },\n",
    "            {\n",
    "                \"role\": \"user\",\n",
    "                \"content\": \"Generate a negative product review similar to these negative reviews: {}. Output in JSON form.\".format(\n",
    "                    negative_reviews\n",
    "                ),\n",
    "            },\n",
    "        ],\n",
    "        response_format={\"type\": \"json_object\"},\n",
    "    )\n",
    "    return get_first_value(json.loads(response.choices[0].message.content))\n",
    "\n",
    "\n",
    "# Generate additional negative reviews\n",
    "num_to_generate = len(positive_reviews) - len(negative_reviews)\n",
    "new_negative_reviews = [generate_negative_review() for _ in range(num_to_generate)]\n",
    "\n",
    "# Add new negative reviews to the dataset\n",
    "new_data = pd.DataFrame(\n",
    "    {\"review\": new_negative_reviews, \"sentiment\": [0] * len(new_negative_reviews)}\n",
    ")\n",
    "df_balanced = pd.concat([df, new_data], ignore_index=True)\n",
    "\n",
    "print(df_balanced)\n",
    "print(f\"\\nNew class distribution:\\n{df_balanced['sentiment'].value_counts()}\")"
   ]
  },
  {
   "cell_type": "code",
   "execution_count": null,
   "metadata": {},
   "outputs": [
    {
     "data": {
      "image/png": "[encoded data removed]",
      "text/plain": [
       "<Figure size 1000x500 with 1 Axes>"
      ]
     },
     "metadata": {},
     "output_type": "display_data"
    },
    {
     "name": "stdout",
     "output_type": "stream",
     "text": [
      "Sample of generated negative reviews:\n",
      "5                       Disappointed with the quality.\n",
      "6    I was really let down by the quality of this p...\n",
      "7    I was really let down by this product. It just...\n",
      "8    I was really let down by the performance of th...\n",
      "9    The product did not meet my expectations at al...\n",
      "Name: review, dtype: object\n"
     ]
    }
   ],
   "source": [
    "# Visualize class distribution\n",
    "plt.figure(figsize=(10, 5))\n",
    "df_balanced[\"sentiment\"].value_counts().plot(kind=\"bar\")\n",
    "plt.title(\"Class Distribution in Balanced Dataset\")\n",
    "plt.xlabel(\"Sentiment\")\n",
    "plt.ylabel(\"Count\")\n",
    "plt.xticks([0, 1], [\"Negative\", \"Positive\"])\n",
    "plt.show()\n",
    "\n",
    "# Display some generated negative reviews\n",
    "print(\"Sample of generated negative reviews:\")\n",
    "print(df_balanced[df_balanced[\"sentiment\"] == 0][\"review\"].head())"
   ]
  },
  {
   "cell_type": "markdown",
   "metadata": {},
   "source": [
    "<a id='references'></a>\n",
    "\n",
    "## 3. References and Further Reading\n",
    "\n",
    "1. OpenAI API Documentation: https://platform.openai.com/docs/\n",
    "2. \"Synthetic Data for Deep Learning\" by Sergey I. Nikolenko\n",
    "3. \"The Synthetic Data Vault\" by Neha Patki et al.\n",
    "4. \"Data Augmentation in Time Series Domain\" by Eamonn Keogh and Jessica Lin\n",
    "5. \"Generative AI: A Creative New World\" by McKinsey & Company\n"
   ]
  }
 ],
 "metadata": {
  "kernelspec": {
   "display_name": "venv",
   "language": "python",
   "name": "python3"
  },
  "language_info": {
   "codemirror_mode": {
    "name": "ipython",
    "version": 3
   },
   "file_extension": ".py",
   "mimetype": "text/x-python",
   "name": "python",
   "nbconvert_exporter": "python",
   "pygments_lexer": "ipython3",
   "version": "3.12.10"
  }
 },
 "nbformat": 4,
 "nbformat_minor": 4
}
