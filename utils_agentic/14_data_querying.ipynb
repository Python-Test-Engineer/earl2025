{
 "cells": [
  {
   "cell_type": "markdown",
   "metadata": {},
   "source": [
    "# Data Querying and Analysis\n",
    "\n",
    "## Table of Contents\n",
    "\n",
    "1. Introduction\n",
    "2. Examples\n",
    "3. References and Further Reading\n"
   ]
  },
  {
   "cell_type": "markdown",
   "metadata": {},
   "source": [
    "<a id='2'></a>\n",
    "\n",
    "## 1. Introduction\n",
    "\n",
    "Generative AI can be used in various ways for Natural Language Querying, specifically for converting English to SQL:\n",
    "\n",
    "1. **Direct Translation**: Converting natural language questions into SQL queries.\n",
    "2. **Query Optimization**: Improving existing SQL queries based on natural language descriptions.\n",
    "3. **Schema Understanding**: Interpreting database schemas from natural language descriptions.\n",
    "4. **Error Correction**: Identifying and fixing errors in SQL queries based on natural language feedback.\n",
    "5. 1. Query Translation: Converting natural language questions into formal query languages like SQL.\n",
    "6. Query Generation: Creating complex queries based on high-level descriptions of data needs.\n",
    "7. Result Interpretation: Translating query results into human-readable explanations.\n",
    "8. Schema Understanding: Analyzing database schemas to inform query generation.\n",
    "9. Error Handling: Identifying and explaining errors in queries or results.\n",
    "\n",
    "Using Gen AI for this task offers several benefits:\n",
    "\n",
    "- Increased accessibility for non-technical users\n",
    "- Faster query development\n",
    "- Reduced errors in complex queries\n",
    "- Improved data exploration capabilities\n",
    "\n",
    "**Key Terminology**:\n",
    "\n",
    "- **Natural Language Processing (NLP)**: The branch of AI that deals with the interaction between computers and humans using natural language.\n",
    "- **SQL (Structured Query Language)**: A standard language for managing and manipulating relational databases.\n",
    "- **Schema**: The structure of a database, defining tables, fields, relationships, and constraints.\n"
   ]
  },
  {
   "cell_type": "code",
   "execution_count": 1,
   "metadata": {},
   "outputs": [
    {
     "data": {
      "text/html": [
       "<pre style=\"white-space:pre;overflow-x:auto;line-height:normal;font-family:Menlo,'DejaVu Sans Mono',consolas,'Courier New',monospace\"><span style=\"color: #ff8700; text-decoration-color: #ff8700\">Using OpenAI API key: sk-proj-LRO5</span>\n",
       "</pre>\n"
      ],
      "text/plain": [
       "\u001b[38;5;208mUsing OpenAI API key: sk-proj-LRO5\u001b[0m\n"
      ]
     },
     "metadata": {},
     "output_type": "display_data"
    }
   ],
   "source": [
    "import os\n",
    "from openai import OpenAI\n",
    "from dotenv import load_dotenv, find_dotenv\n",
    "from rich.console import Console\n",
    "import json\n",
    "console = Console()\n",
    "\n",
    "load_dotenv(find_dotenv())\n",
    "OPENAI_API_KEY = os.environ.get(\"OPENAI_API_KEY\")\n",
    "console.print(f\"[dark_orange]Using OpenAI API key: {OPENAI_API_KEY[:12]}[/]\")\n",
    "# Set up OpenAI API key\n",
    "client = OpenAI(api_key=OPENAI_API_KEY)\n",
    "\n"
   ]
  },
  {
   "cell_type": "code",
   "execution_count": 2,
   "metadata": {},
   "outputs": [],
   "source": [
    "def get_first_value(dict_variable):\n",
    "    \"\"\"The function clean takes a dictionary (dict_variable) as input and returns the value of the first key-value pair in the dictionary.\n",
    "\n",
    "    Here's a breakdown:\n",
    "\n",
    "    iter(dict_variable.values()) creates an iterator over the dictionary's values.\n",
    "    next(...) retrieves the first value from the iterator.\n",
    "    So, if you have a dictionary like {'a': 1, 'b': 2, 'c': 3}, calling clean on it would return 1, which is the value associated with the first key 'a'.\n",
    "\n",
    "    Note that this function assumes the dictionary is not empty. If the dictionary is empty, next will raise a StopIteration exception.\n",
    "    \"\"\"\n",
    "    return next(iter(dict_variable.values()))"
   ]
  },
  {
   "cell_type": "markdown",
   "metadata": {},
   "source": [
    "<a id='3'></a>\n",
    "\n",
    "## 2. Example 1: Simple Query Conversion\n"
   ]
  },
  {
   "cell_type": "code",
   "execution_count": 3,
   "metadata": {},
   "outputs": [
    {
     "name": "stdout",
     "output_type": "stream",
     "text": [
      "\n",
      "{\"query\": \"SELECT customer_id, SUM(revenue) AS total_revenue FROM sales GROUP BY customer_id ORDER BY total_revenue DESC LIMIT 5;\"}\n"
     ]
    }
   ],
   "source": [
    "response = client.chat.completions.create(\n",
    "    model=\"gpt-4o-mini\",\n",
    "    messages=[\n",
    "        {\n",
    "            \"role\": \"system\",\n",
    "            \"content\": \"You are a SQL expert. Convert English queries to SQL.\",\n",
    "        },\n",
    "        {\n",
    "            \"role\": \"user\",\n",
    "            \"content\": \"Convert this English query to SQL and output in JSON form: Find top 5 customers by revenue.\",\n",
    "        },\n",
    "    ],\n",
    "    response_format={\"type\": \"json_object\"},\n",
    ")\n",
    "\n",
    "print(response.choices[0].message.content)"
   ]
  },
  {
   "cell_type": "code",
   "execution_count": 4,
   "metadata": {},
   "outputs": [
    {
     "name": "stdout",
     "output_type": "stream",
     "text": [
      "\n",
      "{\"query\": \"SELECT c.customer_name FROM customer c JOIN sales s ON c.customer_code = s.customer_id GROUP BY c.customer_name ORDER BY SUM(s.sales) DESC LIMIT 5;\"}\n"
     ]
    }
   ],
   "source": [
    "schema = \"\"\"\n",
    "\n",
    "sales\n",
    "order_id\n",
    "customer_id\n",
    "sales\n",
    "\n",
    "customer\n",
    "customer_code\n",
    "customer_name\n",
    "\n",
    "\"\"\"\n",
    "\n",
    "\n",
    "response = client.chat.completions.create(\n",
    "    model=\"gpt-4o-mini\",\n",
    "    messages=[\n",
    "        {\n",
    "            \"role\": \"system\",\n",
    "            \"content\": \"You are a SQL expert. Convert English queries to SQL.\",\n",
    "        },\n",
    "        {\n",
    "            \"role\": \"user\",\n",
    "            \"content\": \"Convert this English query to SQL and output in JSON form: Find top 5 customers (customer names) by sales. The schema of this database is: {}\".format(\n",
    "                schema\n",
    "            ),\n",
    "        },\n",
    "    ],\n",
    "    response_format={\"type\": \"json_object\"},\n",
    ")\n",
    "\n",
    "print(response.choices[0].message.content)"
   ]
  },
  {
   "cell_type": "markdown",
   "metadata": {},
   "source": [
    "This example demonstrates how Gen AI can convert a simple English query into SQL. The JSON output makes it easy for data engineers to parse and integrate the result into their workflows.\n"
   ]
  },
  {
   "cell_type": "markdown",
   "metadata": {},
   "source": [
    "<a id='5'></a>\n",
    "\n",
    "## 2. Example 2: Query Optimization and Cleaning\n"
   ]
  },
  {
   "cell_type": "code",
   "execution_count": 5,
   "metadata": {},
   "outputs": [
    {
     "name": "stdout",
     "output_type": "stream",
     "text": [
      "{'optimized_query': {'select': ['o.*'], 'from': 'orders o', 'join': {'type': 'inner', 'table': 'customers c', 'on': 'o.customer_id = c.customer_id'}, 'where': [{'condition': \"o.order_date > '2023-01-01'\"}, {'condition': \"c.country = 'USA'\"}]}, 'indexes': [{'table': 'orders', 'columns': ['order_date']}, {'table': 'customers', 'columns': ['country', 'customer_id']}], 'comments': 'Replaced the IN clause with an INNER JOIN to improve performance on large datasets. Also suggested adding indexes on commonly used columns.'}\n"
     ]
    }
   ],
   "source": [
    "bad_query = \"\"\"\n",
    "SELECT * FROM orders WHERE order_date > '2023-01-01' AND customer_id IN (SELECT customer_id FROM customers WHERE country = 'USA')\n",
    "\"\"\"\n",
    "\n",
    "response = client.chat.completions.create(\n",
    "    model=\"gpt-4o-mini\",\n",
    "    messages=[\n",
    "        {\n",
    "            \"role\": \"system\",\n",
    "            \"content\": \"You are a SQL expert. Optimize SQL queries based on natural language descriptions.\",\n",
    "        },\n",
    "        {\n",
    "            \"role\": \"user\",\n",
    "            \"content\": \"Optimize this SQL query and output in JSON form: {} Optimization goal: Improve performance for a large dataset.\".format(\n",
    "                bad_query\n",
    "            ),\n",
    "        },\n",
    "    ],\n",
    "    response_format={\"type\": \"json_object\"},\n",
    ")\n",
    "\n",
    "print(json.loads(response.choices[0].message.content))"
   ]
  },
  {
   "cell_type": "code",
   "execution_count": 6,
   "metadata": {},
   "outputs": [],
   "source": [
    "bad_query = \"\"\"\n",
    "SELECT *\n",
    "FROM (\n",
    "    SELECT c3.id, c3.date, c3.amt, c3.prod_name, c3.region, e.emp_name\n",
    "    FROM region c3\n",
    "    JOIN employees e ON c3.id = e.id\n",
    "    WHERE e.active = 1\n",
    ") AS subquery\n",
    "JOIN (\n",
    "    SELECT AVG(s.amt) AS avg_amt\n",
    "    FROM sales s\n",
    ") AS subquery2 ON subquery.amt > subquery2.avg_amt;\n",
    "\"\"\"\n",
    "\n",
    "response = client.chat.completions.create(\n",
    "    model=\"gpt-4o-mini\",\n",
    "    messages=[\n",
    "        {\n",
    "            \"role\": \"system\",\n",
    "            \"content\": \"You are a SQL expert. Given a SQL query, make it more readable. You may split the query into multiple steps with temp tables, and add naming conventions / column names. \\\n",
    "            Avoid complex joins and nested CTEs.\",\n",
    "        },\n",
    "        {\n",
    "            \"role\": \"user\",\n",
    "            \"content\": \"make it more readable. You may split the query into multiple steps with temp tables, and add naming conventions / column names. \\\n",
    "            Avoid complex joins and nested CTEs. Output in JSON form: {}\".format(\n",
    "                bad_query\n",
    "            ),\n",
    "        },\n",
    "    ],\n",
    "    response_format={\"type\": \"json_object\"},\n",
    ")\n",
    "\n",
    "good_query = get_first_value(json.loads(response.choices[0].message.content))"
   ]
  },
  {
   "cell_type": "code",
   "execution_count": 7,
   "metadata": {},
   "outputs": [
    {
     "data": {
      "text/plain": [
       "{'Step_1': {'Description': 'Select active employees and their associated region details',\n",
       "  'Query': 'CREATE TEMPORARY TABLE Active_Employees_Regions AS\\nSELECT \\n  c3.id AS region_id,\\n  c3.date AS record_date,\\n  c3.amt AS amount,\\n  c3.prod_name AS product_name,\\n  c3.region AS region_name,\\n  e.emp_name AS employee_name\\nFROM \\n  region c3\\nJOIN \\n  employees e ON c3.id = e.id\\nWHERE \\n  e.active = 1;'},\n",
       " 'Step_2': {'Description': 'Calculate the average amount from the sales table',\n",
       "  'Query': 'CREATE TEMPORARY TABLE Avg_Sales_Amount AS\\nSELECT \\n  AVG(s.amt) AS average_amount\\nFROM \\n  sales s;'},\n",
       " 'Step_3': {'Description': 'Select regions with amounts greater than the average amount from sales',\n",
       "  'Query': 'SELECT \\n  a.region_id,\\n  a.record_date,\\n  a.amount,\\n  a.product_name,\\n  a.region_name,\\n  a.employee_name\\nFROM \\n  Active_Employees_Regions a\\nJOIN \\n  Avg_Sales_Amount av ON a.amount > av.average_amount;'}}"
      ]
     },
     "execution_count": 7,
     "metadata": {},
     "output_type": "execute_result"
    }
   ],
   "source": [
    "good_query"
   ]
  },
  {
   "cell_type": "code",
   "execution_count": 8,
   "metadata": {},
   "outputs": [
    {
     "name": "stdout",
     "output_type": "stream",
     "text": [
      "Step_1\n",
      "----\n",
      "Step_2\n",
      "----\n",
      "Step_3\n",
      "----\n"
     ]
    }
   ],
   "source": [
    "for g in good_query:\n",
    "    print(g)\n",
    "    print(\"----\")"
   ]
  },
  {
   "cell_type": "markdown",
   "metadata": {},
   "source": [
    "## 2. Example 3: Query Result Interpretation\n"
   ]
  },
  {
   "cell_type": "code",
   "execution_count": 9,
   "metadata": {},
   "outputs": [
    {
     "name": "stdout",
     "output_type": "stream",
     "text": [
      "The query result presents sales data for different product categories, showing the total sales amount for each category. Here’s an interpretation of the data along with some insights:\n",
      "\n",
      "### Overview of Sales Performance:\n",
      "\n",
      "1. **Electronics**:\n",
      "   - Total Sales: **$1,500,000**\n",
      "   - Insight: Electronics is the clear leader in sales, significantly outperforming other categories. This suggests a strong demand for electronic products, which may include items like smartphones, laptops, home appliances, etc. It could be beneficial to further analyze the specific types of electronics contributing to this volume.\n",
      "\n",
      "2. **Clothing**:\n",
      "   - Total Sales: **$980,000**\n",
      "   - Insight: Clothing is the second highest category in sales. This indicates a solid market presence, likely driven by seasonal trends, fashion cycles, or promotional activities. It might be worthwhile to investigate sales trends in demographics to optimize stock levels and marketing strategies.\n",
      "\n",
      "3. **Home & Garden**:\n",
      "   - Total Sales: **$750,000**\n",
      "   - Insight: Sales in this category are respectable but much lower than electronics and clothing. This may reflect consumer spending habits or potential market constraints in home improvement or gardening products. Opportunities may lie in targeted marketing campaigns or partnerships with home improvement influencers.\n",
      "\n",
      "4. **Books**:\n",
      "   - Total Sales: **$320,000**\n",
      "   - Insight: Books have the fourth highest sales among the categories, but are trailing significantly behind the leaders. The digital transformation and growing popularity of audiobooks might be influencing this category negatively. Promoting book sales through innovative marketing strategies or bundling with other products may enhance overall performance.\n",
      "\n",
      "5. **Toys**:\n",
      "   - Total Sales: **$280,000**\n",
      "   - Insight: Toys, while a staple category for many retailers, show the lowest sales figures here. This could be seasonally influenced, as toy sales often peak around holiday seasons. To improve sales, consider seasonal promotions, engaging with parent communities, or expanding offerings to include educational toys or tech-related items which are on trend.\n",
      "\n",
      "### Key Takeaways:\n",
      "\n",
      "- **Electronics** is a high-performing category, indicating potential for further investment in inventory or marketing efforts.\n",
      "- **Clothing** has strong sales, and adapting to fashion trends could enhance this further.\n",
      "- **Home & Garden** might require innovative sales strategies to increase engagement.\n",
      "- **Books** may benefit from exploring digital avenues or unique marketing strategies to boost interest and sales.\n",
      "- **Toys** could see improvements through seasonal marketing and diversification into trending segments.\n",
      "\n",
      "### Recommendations for Action:\n",
      "\n",
      "- Consider increasing marketing efforts on electronics and clothing, potentially expanding product lines in high-demand areas.\n",
      "- Launch promotional campaigns in the Home & Garden category to attract more customers and assess market trends.\n",
      "- Explore partnerships with local authors or influencers to boost book sales and innovate marketing strategies.\n",
      "- Examine current toy offerings for alignment with trends in educational or tech formats to incentivize more purchases.\n",
      "\n",
      "These insights and recommendations should help guide strategy and decision-making regarding future sales activities and inventory management across these categories.\n"
     ]
    }
   ],
   "source": [
    "# Simulated query result\n",
    "query_result = \"\"\"\n",
    "| product_category | total_sales |\n",
    "|-------------------|-------------|\n",
    "| Electronics      | 1500000     |\n",
    "| Clothing         | 980000      |\n",
    "| Home & Garden    | 750000      |\n",
    "| Books            | 320000      |\n",
    "| Toys             | 280000      |\n",
    "\"\"\"\n",
    "\n",
    "prompt = f\"Interpret the following query result and provide insights. Here's the result:\\n{query_result}\"\n",
    "\n",
    "response = client.chat.completions.create(\n",
    "    model=\"gpt-4o-mini\", messages=[{\"role\": \"user\", \"content\": prompt}]\n",
    ")\n",
    "\n",
    "print(response.choices[0].message.content)"
   ]
  },
  {
   "cell_type": "markdown",
   "metadata": {},
   "source": [
    "<a id='4'></a>\n",
    "\n",
    "## 2. Example 4: Generating Insights from Query Results\n"
   ]
  },
  {
   "cell_type": "code",
   "execution_count": 10,
   "metadata": {},
   "outputs": [
    {
     "name": "stdout",
     "output_type": "stream",
     "text": [
      "Here are three relevant follow-up questions for further analysis based on the query result:\n",
      "\n",
      "1. **Sales Trends Over Time**: How have the total sales for each category (Electronics, Clothing, Books) varied over the past year? Are there specific months or seasons that show significant sales spikes or declines?\n",
      "\n",
      "2. **Customer Demographics and Preferences**: What are the demographics of customers purchasing items in each category? Are there particular age groups, genders, or geographic locations that show a preference for one category over the others?\n",
      "\n",
      "3. **Product Performance Within Categories**: Which specific products within each category contributed the most to the total sales figures? Are there emerging products or brands within Electronics, Clothing, and Books that are driving growth?\n"
     ]
    }
   ],
   "source": [
    "prompt = \"\"\"Based on the following query result, suggest 3 relevant follow-up questions for further analysis:\n",
    "{\n",
    "  \"category\": [\"Electronics\", \"Clothing\", \"Books\"],\n",
    "  \"total_sales\": [500000, 300000, 100000]\n",
    "}\"\"\"\n",
    "\n",
    "response = client.chat.completions.create(\n",
    "    model=\"gpt-4o-mini\", messages=[{\"role\": \"user\", \"content\": prompt}]\n",
    ")\n",
    "\n",
    "print(response.choices[0].message.content)"
   ]
  },
  {
   "cell_type": "markdown",
   "metadata": {},
   "source": [
    "This example demonstrates how Gen AI can assist in query optimization, a crucial skill for data engineers working with large datasets and complex database structures.\n"
   ]
  },
  {
   "cell_type": "markdown",
   "metadata": {},
   "source": [
    "<a id='7'></a>\n",
    "\n",
    "## 3. References and Further Reading\n",
    "\n",
    "1. OpenAI API Documentation: https://platform.openai.com/docs/\n",
    "2. \"Natural Language to SQL: A Survey\" by Xu et al. (2022): https://arxiv.org/abs/2201.00307\n",
    "3. \"Improving Text-to-SQL Evaluation Methodology\" by Zhong et al. (2020): https://arxiv.org/abs/1806.09029\n",
    "4. SQL Performance Tuning by Peter Gulutzan and Trudy Pelzer\n",
    "5. \"Fundamentals of Database Systems\" by Ramez Elmasri and Shamkant Navathe\n"
   ]
  }
 ],
 "metadata": {
  "kernelspec": {
   "display_name": "venv",
   "language": "python",
   "name": "python3"
  },
  "language_info": {
   "codemirror_mode": {
    "name": "ipython",
    "version": 3
   },
   "file_extension": ".py",
   "mimetype": "text/x-python",
   "name": "python",
   "nbconvert_exporter": "python",
   "pygments_lexer": "ipython3",
   "version": "3.12.1"
  }
 },
 "nbformat": 4,
 "nbformat_minor": 4
}
