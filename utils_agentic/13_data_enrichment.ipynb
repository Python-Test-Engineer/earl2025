{
 "cells": [
  {
   "cell_type": "markdown",
   "metadata": {},
   "source": [
    "# Data Enrichment, Data Normalization and Standardization\n",
    "\n",
    "## Table of Contents\n",
    "\n",
    "1. Introduction\n",
    "2. Examples\n",
    "3. References and Further Reading\n"
   ]
  },
  {
   "cell_type": "markdown",
   "metadata": {},
   "source": [
    "## 1. Introduction\n"
   ]
  },
  {
   "cell_type": "code",
   "execution_count": 1,
   "metadata": {},
   "outputs": [],
   "source": [
    "import os\n",
    "import json\n",
    "import pandas as pd\n",
    "from openai import OpenAI\n",
    "import numpy as np\n",
    "from dotenv import load_dotenv, find_dotenv\n",
    "from rich.console import Console"
   ]
  },
  {
   "cell_type": "code",
   "execution_count": 2,
   "metadata": {},
   "outputs": [
    {
     "data": {
      "text/html": [
       "<pre style=\"white-space:pre;overflow-x:auto;line-height:normal;font-family:Menlo,'DejaVu Sans Mono',consolas,'Courier New',monospace\"><span style=\"color: #ff8700; text-decoration-color: #ff8700\">Using OpenAI API key: sk-proj-LRO5</span>\n",
       "</pre>\n"
      ],
      "text/plain": [
       "\u001b[38;5;208mUsing OpenAI API key: sk-proj-LRO5\u001b[0m\n"
      ]
     },
     "metadata": {},
     "output_type": "display_data"
    }
   ],
   "source": [
    "console = Console()\n",
    "\n",
    "load_dotenv(find_dotenv())\n",
    "OPENAI_API_KEY = os.environ.get(\"OPENAI_API_KEY\")\n",
    "console.print(f\"[dark_orange]Using OpenAI API key: {OPENAI_API_KEY[:12]}[/]\")\n",
    "# Set up OpenAI API key\n",
    "client = OpenAI(api_key=OPENAI_API_KEY)"
   ]
  },
  {
   "cell_type": "code",
   "execution_count": 3,
   "metadata": {},
   "outputs": [],
   "source": [
    "def get_first_value(dict_variable):\n",
    "    \"\"\"The function clean takes a dictionary (dict_variable) as input and returns the value of the first key-value pair in the dictionary.\n",
    "\n",
    "    Here's a breakdown:\n",
    "\n",
    "    iter(dict_variable.values()) creates an iterator over the dictionary's values.\n",
    "    next(...) retrieves the first value from the iterator.\n",
    "    So, if you have a dictionary like {'a': 1, 'b': 2, 'c': 3}, calling clean on it would return 1, which is the value associated with the first key 'a'.\n",
    "\n",
    "    Note that this function assumes the dictionary is not empty. If the dictionary is empty, next will raise a StopIteration exception.\n",
    "    \"\"\"\n",
    "    return next(iter(dict_variable.values()))"
   ]
  },
  {
   "cell_type": "markdown",
   "metadata": {},
   "source": [
    "## 2. Example 1: Analyzing and Classifying News Articles\n"
   ]
  },
  {
   "cell_type": "code",
   "execution_count": 4,
   "metadata": {},
   "outputs": [
    {
     "name": "stdout",
     "output_type": "stream",
     "text": [
      "{\n",
      "  \"articles\": [\n",
      "    {\n",
      "      \"article\": 1,\n",
      "      \"category\": \"Technology\"\n",
      "    },\n",
      "    {\n",
      "      \"article\": 2,\n",
      "      \"category\": \"Sports\"\n",
      "    }\n",
      "  ]\n",
      "}\n"
     ]
    }
   ],
   "source": [
    "# Sample news article\n",
    "news_article = \"\"\"\n",
    "[ARTICLE 1]\n",
    "The stock market saw significant gains today as tech companies reported strong quarterly earnings. \n",
    "Apple, Microsoft, and Amazon all beat analyst expectations, driving the NASDAQ to new highs. \n",
    "Meanwhile, concerns about inflation have eased slightly following the Federal Reserve's latest statement.\n",
    "\n",
    "[ARTICLE 2]\n",
    "Simone Biles fought through pain in her calf on Sunday to post an impressive all-around score and display \n",
    "the qualities which have made one of the greatest gymnasts of all time on her return to the Olympics.\n",
    "\"\"\"\n",
    "\n",
    "# Analyze and classify the article\n",
    "response = client.chat.completions.create(\n",
    "    model=\"gpt-4o-mini\",\n",
    "    messages=[\n",
    "        {\n",
    "            \"role\": \"system\",\n",
    "            \"content\": \"You are a helpful assistant that analyzes and classifies news articles.\",\n",
    "        },\n",
    "        {\n",
    "            \"role\": \"user\",\n",
    "            \"content\": f\"Analyze this news article and classify it into one of these categories: Technology, Sports, Other. Output in JSON form: {news_article}\",\n",
    "        },\n",
    "    ],\n",
    "    response_format={\"type\": \"json_object\"},\n",
    ")\n",
    "\n",
    "print(response.choices[0].message.content)"
   ]
  },
  {
   "cell_type": "markdown",
   "metadata": {},
   "source": [
    "This example demonstrates how Gen AI can analyze a news article, classify it into categories, and provide a summary. This is useful for data engineers working with large collections of news articles, helping to organize and extract key information efficiently.\n"
   ]
  },
  {
   "cell_type": "markdown",
   "metadata": {},
   "source": [
    "## 2. Example 1: Filling Missing Text Data (Text Data Imputation)\n"
   ]
  },
  {
   "cell_type": "code",
   "execution_count": 5,
   "metadata": {},
   "outputs": [
    {
     "name": "stdout",
     "output_type": "stream",
     "text": [
      "Original DataFrame:\n",
      "                   Title               Author      Genre\n",
      "0       The Great Gatsby  F. Scott Fitzgerald      Novel\n",
      "1  To Kill a Mockingbird           Harper Lee    Fiction\n",
      "2                   1984        George Orwell  Dystopian\n",
      "3    Pride and Prejudice                 None    Romance\n"
     ]
    }
   ],
   "source": [
    "# Sample dataset with missing text data\n",
    "data = {\n",
    "    \"Title\": [\n",
    "        \"The Great Gatsby\",\n",
    "        \"To Kill a Mockingbird\",\n",
    "        \"1984\",\n",
    "        \"Pride and Prejudice\",\n",
    "    ],\n",
    "    \"Author\": [\"F. Scott Fitzgerald\", \"Harper Lee\", \"George Orwell\", None],\n",
    "    \"Genre\": [\"Novel\", \"Fiction\", \"Dystopian\", \"Romance\"],\n",
    "}\n",
    "df = pd.DataFrame(data)\n",
    "print(\"Original DataFrame:\")\n",
    "print(df)"
   ]
  },
  {
   "cell_type": "code",
   "execution_count": 6,
   "metadata": {},
   "outputs": [
    {
     "name": "stdout",
     "output_type": "stream",
     "text": [
      "                   Title               Author      Genre\n",
      "0       The Great Gatsby  F. Scott Fitzgerald      Novel\n",
      "1  To Kill a Mockingbird           Harper Lee    Fiction\n",
      "2                   1984        George Orwell  Dystopian\n",
      "3    Pride and Prejudice          Jane Austen    Romance\n"
     ]
    }
   ],
   "source": [
    "# Function to predict missing author\n",
    "\n",
    "for index, row in df.iterrows():\n",
    "    if row[\"Author\"] is None:\n",
    "        prompt = \"Who is the author of this book? Return only the answer. {}\".format(\n",
    "            row[\"Title\"]\n",
    "        )\n",
    "\n",
    "        response = client.chat.completions.create(\n",
    "            model=\"gpt-4o-mini\", messages=[{\"role\": \"user\", \"content\": prompt}]\n",
    "        )\n",
    "\n",
    "        df.at[index, \"Author\"] = response.choices[0].message.content\n",
    "\n",
    "print(df)"
   ]
  },
  {
   "cell_type": "code",
   "execution_count": 7,
   "metadata": {},
   "outputs": [
    {
     "name": "stdout",
     "output_type": "stream",
     "text": [
      "Original DataFrame:\n",
      "              Book Title               Author      Genre\n",
      "0                   None  F. Scott Fitzgerald      Novel\n",
      "1  To Kill a Mockingbird           Harper Lee    Fiction\n",
      "2                   1984        George Orwell  Dystopian\n",
      "3    Pride and Prejudice                 None    Romance\n"
     ]
    }
   ],
   "source": [
    "# Sample dataset with missing text data\n",
    "data = {\n",
    "    \"Book Title\": [None, \"To Kill a Mockingbird\", \"1984\", \"Pride and Prejudice\"],\n",
    "    \"Author\": [\"F. Scott Fitzgerald\", \"Harper Lee\", \"George Orwell\", None],\n",
    "    \"Genre\": [\"Novel\", \"Fiction\", \"Dystopian\", \"Romance\"],\n",
    "}\n",
    "df = pd.DataFrame(data)\n",
    "print(\"Original DataFrame:\")\n",
    "print(df)"
   ]
  },
  {
   "cell_type": "code",
   "execution_count": 8,
   "metadata": {},
   "outputs": [
    {
     "name": "stdout",
     "output_type": "stream",
     "text": [
      "Given this information: [{'Author': 'F. Scott Fitzgerald'}, {'Genre': 'Novel'}]. What is the Book Title? Return only the answer\n",
      "Given this information: [{'Book Title': 'Pride and Prejudice'}, {'Genre': 'Romance'}]. What is the Author? Return only the answer\n",
      "              Book Title               Author      Genre\n",
      "0       The Great Gatsby  F. Scott Fitzgerald      Novel\n",
      "1  To Kill a Mockingbird           Harper Lee    Fiction\n",
      "2                   1984        George Orwell  Dystopian\n",
      "3    Pride and Prejudice          Jane Austen    Romance\n"
     ]
    }
   ],
   "source": [
    "for index, row in df.iterrows():\n",
    "    for col in df.columns:\n",
    "        if row[col] is None:\n",
    "            prompt = \"Given this information: {}. What is the {}? Return only the answer\".format(\n",
    "                [\n",
    "                    {col_loop: row[col_loop]}\n",
    "                    for col_loop in df.columns\n",
    "                    if col_loop != col\n",
    "                ],\n",
    "                col,\n",
    "            )\n",
    "            print(prompt)\n",
    "\n",
    "            response = client.chat.completions.create(\n",
    "                model=\"gpt-4o-mini\", messages=[{\"role\": \"user\", \"content\": prompt}]\n",
    "            )\n",
    "\n",
    "            df.at[index, col] = response.choices[0].message.content\n",
    "\n",
    "print(df)"
   ]
  },
  {
   "cell_type": "markdown",
   "metadata": {},
   "source": [
    "<a id='example2'></a>\n",
    "\n",
    "## 2. Example 2: Filling Missing Numerical Data\n"
   ]
  },
  {
   "cell_type": "code",
   "execution_count": 9,
   "metadata": {},
   "outputs": [
    {
     "name": "stdout",
     "output_type": "stream",
     "text": [
      "Original dataset:\n",
      "  Product  Price  Quantity\n",
      "0       A  10.99     100.0\n",
      "1       B    NaN     150.0\n",
      "2       C  15.50       NaN\n",
      "3       D   8.75     200.0\n",
      "4       E    NaN     175.0\n"
     ]
    }
   ],
   "source": [
    "# Sample dataset with missing numerical data\n",
    "data_num = pd.DataFrame(\n",
    "    {\n",
    "        \"Product\": [\"A\", \"B\", \"C\", \"D\", \"E\"],\n",
    "        \"Price\": [10.99, np.nan, 15.50, 8.75, np.nan],\n",
    "        \"Quantity\": [100, 150, np.nan, 200, 175],\n",
    "    }\n",
    ")\n",
    "\n",
    "print(\"Original dataset:\")\n",
    "print(data_num)"
   ]
  },
  {
   "cell_type": "code",
   "execution_count": 10,
   "metadata": {},
   "outputs": [
    {
     "name": "stdout",
     "output_type": "stream",
     "text": [
      "Dataset with filled missing values:\n",
      "  Product  Price  Quantity\n",
      "0       A  10.99     100.0\n",
      "1       B  29.99     150.0\n",
      "2       C  15.50     100.0\n",
      "3       D   8.75     200.0\n",
      "4       E  29.99     175.0\n"
     ]
    }
   ],
   "source": [
    "# Function to fill missing numerical data\n",
    "def fill_missing_numerical(row):\n",
    "    if pd.isna(row[\"Price\"]) or pd.isna(row[\"Quantity\"]):\n",
    "        prompt = f\"Predict the missing values for this product: Product: {row['Product']}, Price: {row['Price']}, Quantity: {row['Quantity']}. Consider market trends and product characteristics. Output in JSON form.\"\n",
    "\n",
    "        response = client.chat.completions.create(\n",
    "            model=\"gpt-4o-mini\",\n",
    "            messages=[{\"role\": \"user\", \"content\": prompt}],\n",
    "            response_format={\"type\": \"json_object\"},\n",
    "        )\n",
    "\n",
    "        result = json.loads(response.choices[0].message.content)\n",
    "\n",
    "        if pd.isna(row[\"Price\"]):\n",
    "            row[\"Price\"] = float(result.get(\"Price\", row[\"Price\"]))\n",
    "        if pd.isna(row[\"Quantity\"]):\n",
    "            row[\"Quantity\"] = int(result.get(\"Quantity\", row[\"Quantity\"]))\n",
    "\n",
    "    return row\n",
    "\n",
    "\n",
    "# Apply the function to each row\n",
    "data_num_filled = data_num.apply(fill_missing_numerical, axis=1)\n",
    "\n",
    "print(\"Dataset with filled missing values:\")\n",
    "print(data_num_filled)"
   ]
  },
  {
   "cell_type": "code",
   "execution_count": 11,
   "metadata": {},
   "outputs": [
    {
     "name": "stdout",
     "output_type": "stream",
     "text": [
      "Original dataset:\n",
      "     Product  Price  Number of days since release\n",
      "0  iPhone 12  599.0                        1374.0\n",
      "1  iPhone 11  499.0                        1773.0\n",
      "2   iPhone X  399.0                           NaN\n",
      "3   iPhone 7  299.0                        2872.0\n",
      "4  iPhone 14    NaN                         681.0\n"
     ]
    }
   ],
   "source": [
    "# Sample dataset with missing numerical data\n",
    "data_num = pd.DataFrame(\n",
    "    {\n",
    "        \"Product\": [\"iPhone 12\", \"iPhone 11\", \"iPhone X\", \"iPhone 7\", \"iPhone 14\"],\n",
    "        \"Price\": [599, 499, 399, 299, np.nan],\n",
    "        \"Number of days since release\": [1374, 1773, np.nan, 2872, 681],\n",
    "    }\n",
    ")\n",
    "\n",
    "print(\"Original dataset:\")\n",
    "print(data_num)"
   ]
  },
  {
   "cell_type": "code",
   "execution_count": 12,
   "metadata": {},
   "outputs": [
    {
     "name": "stdout",
     "output_type": "stream",
     "text": [
      "Dataset with filled missing values:\n",
      "     Product   Price Number of days since release\n",
      "0  iPhone 12   599.0                       1374.0\n",
      "1  iPhone 11   499.0                       1773.0\n",
      "2   iPhone X   399.0                         2500\n",
      "3   iPhone 7   299.0                       2872.0\n",
      "4  iPhone 14  999.99                        681.0\n"
     ]
    }
   ],
   "source": [
    "# Function to fill missing numerical data\n",
    "def fill_missing_numerical(row):\n",
    "    if pd.isna(row[\"Price\"]) or pd.isna(row[\"Number of days since release\"]):\n",
    "        prompt = f\"Predict the missing values for this product: Product: {row['Product']}, Price: {row['Price']}, Quantity: {row['Number of days since release']}. Consider market trends and product characteristics. You must provide a value. Only return the value, nothing else\"\n",
    "\n",
    "        response = client.chat.completions.create(\n",
    "            model=\"gpt-4o-mini\", messages=[{\"role\": \"user\", \"content\": prompt}]\n",
    "        )\n",
    "\n",
    "        result = response.choices[0].message.content\n",
    "\n",
    "        if pd.isna(row[\"Price\"]):\n",
    "            row[\"Price\"] = result\n",
    "        if pd.isna(row[\"Number of days since release\"]):\n",
    "            row[\"Number of days since release\"] = result\n",
    "\n",
    "    return row\n",
    "\n",
    "\n",
    "# Apply the function to each row\n",
    "data_num_filled = data_num.apply(fill_missing_numerical, axis=1)\n",
    "\n",
    "print(\"Dataset with filled missing values:\")\n",
    "print(data_num_filled)"
   ]
  },
  {
   "cell_type": "markdown",
   "metadata": {},
   "source": [
    "<a id='example3'></a>\n",
    "\n",
    "## 2. Example 3: Filling Missing Time Series Data\n"
   ]
  },
  {
   "cell_type": "code",
   "execution_count": 13,
   "metadata": {},
   "outputs": [
    {
     "name": "stdout",
     "output_type": "stream",
     "text": [
      "Original dataset:\n",
      "        Date  Temperature\n",
      "0 2023-01-01         20.0\n",
      "1 2023-01-02         22.0\n",
      "2 2023-01-03          NaN\n",
      "3 2023-01-04         19.0\n",
      "4 2023-01-05         18.0\n",
      "5 2023-01-06          NaN\n",
      "6 2023-01-07         23.0\n",
      "7 2023-01-08         25.0\n",
      "8 2023-01-09         24.0\n",
      "9 2023-01-10          NaN\n"
     ]
    }
   ],
   "source": [
    "# Sample time series dataset with missing values\n",
    "dates = pd.date_range(start=\"2023-01-01\", end=\"2023-01-10\", freq=\"D\")\n",
    "data_ts = pd.DataFrame(\n",
    "    {\"Date\": dates, \"Temperature\": [20, 22, np.nan, 19, 18, np.nan, 23, 25, 24, np.nan]}\n",
    ")\n",
    "\n",
    "print(\"Original dataset:\")\n",
    "print(data_ts)"
   ]
  },
  {
   "cell_type": "code",
   "execution_count": 14,
   "metadata": {},
   "outputs": [
    {
     "name": "stdout",
     "output_type": "stream",
     "text": [
      "Fill in the missing temperature values in this time series data. Consider trends and patterns. Data: [{\"Date\":\"2023-01-01T00:00:00.000\",\"Temperature\":20.0},{\"Date\":\"2023-01-02T00:00:00.000\",\"Temperature\":22.0},{\"Date\":\"2023-01-03T00:00:00.000\",\"Temperature\":null},{\"Date\":\"2023-01-04T00:00:00.000\",\"Temperature\":19.0},{\"Date\":\"2023-01-05T00:00:00.000\",\"Temperature\":18.0},{\"Date\":\"2023-01-06T00:00:00.000\",\"Temperature\":null},{\"Date\":\"2023-01-07T00:00:00.000\",\"Temperature\":23.0},{\"Date\":\"2023-01-08T00:00:00.000\",\"Temperature\":25.0},{\"Date\":\"2023-01-09T00:00:00.000\",\"Temperature\":24.0},{\"Date\":\"2023-01-10T00:00:00.000\",\"Temperature\":null}]. Output in JSON form.\n",
      "Dataset with filled missing values:\n",
      "        Date  Temperature\n",
      "0 2023-01-01         20.0\n",
      "1 2023-01-02         22.0\n",
      "2 2023-01-03         21.0\n",
      "3 2023-01-04         19.0\n",
      "4 2023-01-05         18.0\n",
      "5 2023-01-06         20.5\n",
      "6 2023-01-07         23.0\n",
      "7 2023-01-08         25.0\n",
      "8 2023-01-09         24.0\n",
      "9 2023-01-10         22.0\n"
     ]
    }
   ],
   "source": [
    "# Function to fill missing time series data\n",
    "def fill_missing_timeseries(data):\n",
    "    context = data.to_json(orient=\"records\", date_format=\"iso\")\n",
    "    prompt = f\"Fill in the missing temperature values in this time series data. Consider trends and patterns. Data: {context}. Output in JSON form.\"\n",
    "\n",
    "    print(prompt)\n",
    "\n",
    "    response = client.chat.completions.create(\n",
    "        model=\"gpt-4o-mini\",\n",
    "        messages=[{\"role\": \"user\", \"content\": prompt}],\n",
    "        response_format={\"type\": \"json_object\"},\n",
    "    )\n",
    "\n",
    "    result = json.loads(response.choices[0].message.content)\n",
    "    filled_data = pd.DataFrame(get_first_value(result))\n",
    "    filled_data[\"Date\"] = pd.to_datetime(filled_data[\"Date\"])\n",
    "\n",
    "    return filled_data\n",
    "\n",
    "\n",
    "# Apply the function to the dataset\n",
    "data_ts_filled = fill_missing_timeseries(data_ts)\n",
    "\n",
    "print(\"Dataset with filled missing values:\")\n",
    "print(data_ts_filled)"
   ]
  },
  {
   "cell_type": "code",
   "execution_count": 15,
   "metadata": {},
   "outputs": [
    {
     "data": {
      "image/png": "[encoded data removed]",
      "text/plain": [
       "<Figure size 1000x600 with 1 Axes>"
      ]
     },
     "metadata": {},
     "output_type": "display_data"
    },
    {
     "data": {
      "image/png": "[encoded data removed]",
      "text/plain": [
       "<Figure size 1000x600 with 1 Axes>"
      ]
     },
     "metadata": {},
     "output_type": "display_data"
    }
   ],
   "source": [
    "import matplotlib.pyplot as plt\n",
    "\n",
    "# Plotting the data\n",
    "plt.figure(figsize=(10, 6))\n",
    "plt.plot(data_ts[\"Date\"], data_ts[\"Temperature\"], marker=\"o\")\n",
    "plt.title(\"Temperature Over Time\")\n",
    "plt.xlabel(\"Date\")\n",
    "plt.ylabel(\"Temperature\")\n",
    "plt.grid(True)\n",
    "plt.show()\n",
    "\n",
    "# Plotting the data\n",
    "plt.figure(figsize=(10, 6))\n",
    "plt.plot(data_ts_filled[\"Date\"], data_ts_filled[\"Temperature\"], marker=\"o\")\n",
    "plt.title(\"Temperature Over Time\")\n",
    "plt.xlabel(\"Date\")\n",
    "plt.ylabel(\"Temperature\")\n",
    "plt.grid(True)\n",
    "plt.show()"
   ]
  },
  {
   "cell_type": "markdown",
   "metadata": {},
   "source": [
    "## 2. Example 4: Converting Data Types\n"
   ]
  },
  {
   "cell_type": "code",
   "execution_count": 16,
   "metadata": {},
   "outputs": [
    {
     "name": "stdout",
     "output_type": "stream",
     "text": [
      "Original data:\n",
      "      ID       Value           Date\n",
      "0    001        10.5     2023-01-01\n",
      "1    002          15     01/15/2023\n",
      "2    003      twenty  March 1, 2023\n",
      "3  00006  thirty-one    Dec 4,, '94\n"
     ]
    }
   ],
   "source": [
    "# Sample data with mixed data types\n",
    "data = {\n",
    "    \"ID\": [\"001\", \"002\", \"003\", \"00006\"],\n",
    "    \"Value\": [\"10.5\", \"15\", \"twenty\", \"thirty-one\"],\n",
    "    \"Date\": [\"2023-01-01\", \"01/15/2023\", \"March 1, 2023\", \"Dec 4,, '94\"],\n",
    "}\n",
    "df = pd.DataFrame(data)\n",
    "print(\"Original data:\")\n",
    "print(df)"
   ]
  },
  {
   "cell_type": "code",
   "execution_count": 17,
   "metadata": {},
   "outputs": [
    {
     "name": "stdout",
     "output_type": "stream",
     "text": [
      "\n",
      "Converted data:\n",
      "{\n",
      "  \"ID\": [\n",
      "    1,\n",
      "    2,\n",
      "    3,\n",
      "    6\n",
      "  ],\n",
      "  \"Value\": [\n",
      "    10.5,\n",
      "    15.0,\n",
      "    20.0,\n",
      "    31.0\n",
      "  ],\n",
      "  \"Date\": [\n",
      "    \"2023-01-01\",\n",
      "    \"2023-01-15\",\n",
      "    \"2023-03-01\",\n",
      "    \"1994-12-04\"\n",
      "  ]\n",
      "}\n"
     ]
    }
   ],
   "source": [
    "# Using Gen AI to convert data types\n",
    "prompt = f\"Convert the following data to appropriate data types. ID should be integer, Value should be float (convert 'twenty' to 20.0), and Date should be in ISO format (YYYY-MM-DD). Output in JSON form:\\n{df.to_json()}\"\n",
    "\n",
    "response = client.chat.completions.create(\n",
    "    model=\"gpt-4o-mini\",\n",
    "    messages=[{\"role\": \"user\", \"content\": prompt}],\n",
    "    response_format={\"type\": \"json_object\"},\n",
    ")\n",
    "\n",
    "converted_data = json.loads(response.choices[0].message.content)\n",
    "print(\"\\nConverted data:\")\n",
    "print(json.dumps(converted_data, indent=2))"
   ]
  },
  {
   "cell_type": "code",
   "execution_count": 18,
   "metadata": {},
   "outputs": [
    {
     "name": "stdout",
     "output_type": "stream",
     "text": [
      "\n",
      "Final converted DataFrame:\n",
      "   ID  Value       Date\n",
      "0   1   10.5 2023-01-01\n",
      "1   2   15.0 2023-01-15\n",
      "2   3   20.0 2023-03-01\n",
      "3   6   31.0 1994-12-04\n",
      "\n",
      "Data types:\n",
      "ID                int64\n",
      "Value           float64\n",
      "Date     datetime64[ns]\n",
      "dtype: object\n"
     ]
    }
   ],
   "source": [
    "# Create a new DataFrame with converted values\n",
    "df_converted = pd.DataFrame(converted_data)\n",
    "df_converted[\"ID\"] = df_converted[\"ID\"].astype(int)\n",
    "df_converted[\"Value\"] = df_converted[\"Value\"].astype(float)\n",
    "df_converted[\"Date\"] = pd.to_datetime(df_converted[\"Date\"])\n",
    "print(\"\\nFinal converted DataFrame:\")\n",
    "print(df_converted)\n",
    "print(\"\\nData types:\")\n",
    "print(df_converted.dtypes)"
   ]
  },
  {
   "cell_type": "code",
   "execution_count": 19,
   "metadata": {},
   "outputs": [
    {
     "name": "stdout",
     "output_type": "stream",
     "text": [
      "{\n",
      "  \"addresses\": [\n",
      "    {\n",
      "      \"street\": \"123 Main St, Apt 4\",\n",
      "      \"city\": \"New York\",\n",
      "      \"state\": \"NY\",\n",
      "      \"zip\": \"10001\"\n",
      "    },\n",
      "    {\n",
      "      \"street\": \"456 Elm Avenue\",\n",
      "      \"city\": \"Chicago\",\n",
      "      \"state\": \"IL\",\n",
      "      \"zip\": \"60601\"\n",
      "    },\n",
      "    {\n",
      "      \"street\": \"789 Oak Rd Suite 100\",\n",
      "      \"city\": \"Los Angeles\",\n",
      "      \"state\": \"CA\",\n",
      "      \"zip\": \"90001\"\n",
      "    }\n",
      "  ]\n",
      "}\n"
     ]
    }
   ],
   "source": [
    "addresses = [\n",
    "    \"123 Main St, Apt 4, New York, NY 10001\",\n",
    "    \"60601 456 Elm Avenue, Chicago\",\n",
    "    \"Los Angeles 789 Oak Rd Suite 100 Cali 90001\",\n",
    "]\n",
    "\n",
    "prompt = f\"Normalize these addresses to a standard format: {addresses}. Output in JSON form with keys: street, city, state, zip.\"\n",
    "\n",
    "response = client.chat.completions.create(\n",
    "    model=\"gpt-4o-mini\",\n",
    "    messages=[{\"role\": \"user\", \"content\": prompt}],\n",
    "    response_format={\"type\": \"json_object\"},\n",
    ")\n",
    "\n",
    "print(response.choices[0].message.content)"
   ]
  },
  {
   "cell_type": "code",
   "execution_count": 20,
   "metadata": {},
   "outputs": [
    {
     "data": {
      "application/vnd.microsoft.datawrangler.viewer.v0+json": {
       "columns": [
        {
         "name": "index",
         "rawType": "int64",
         "type": "integer"
        },
        {
         "name": "street",
         "rawType": "object",
         "type": "string"
        },
        {
         "name": "city",
         "rawType": "object",
         "type": "string"
        },
        {
         "name": "state",
         "rawType": "object",
         "type": "string"
        },
        {
         "name": "zip",
         "rawType": "object",
         "type": "string"
        }
       ],
       "ref": "0f329cae-f439-44ee-9c8f-3168b2435dc1",
       "rows": [
        [
         "0",
         "123 Main St, Apt 4",
         "New York",
         "NY",
         "10001"
        ],
        [
         "1",
         "456 Elm Avenue",
         "Chicago",
         "IL",
         "60601"
        ],
        [
         "2",
         "789 Oak Rd Suite 100",
         "Los Angeles",
         "CA",
         "90001"
        ]
       ],
       "shape": {
        "columns": 4,
        "rows": 3
       }
      },
      "text/html": [
       "<div>\n",
       "<style scoped>\n",
       "    .dataframe tbody tr th:only-of-type {\n",
       "        vertical-align: middle;\n",
       "    }\n",
       "\n",
       "    .dataframe tbody tr th {\n",
       "        vertical-align: top;\n",
       "    }\n",
       "\n",
       "    .dataframe thead th {\n",
       "        text-align: right;\n",
       "    }\n",
       "</style>\n",
       "<table border=\"1\" class=\"dataframe\">\n",
       "  <thead>\n",
       "    <tr style=\"text-align: right;\">\n",
       "      <th></th>\n",
       "      <th>street</th>\n",
       "      <th>city</th>\n",
       "      <th>state</th>\n",
       "      <th>zip</th>\n",
       "    </tr>\n",
       "  </thead>\n",
       "  <tbody>\n",
       "    <tr>\n",
       "      <th>0</th>\n",
       "      <td>123 Main St, Apt 4</td>\n",
       "      <td>New York</td>\n",
       "      <td>NY</td>\n",
       "      <td>10001</td>\n",
       "    </tr>\n",
       "    <tr>\n",
       "      <th>1</th>\n",
       "      <td>456 Elm Avenue</td>\n",
       "      <td>Chicago</td>\n",
       "      <td>IL</td>\n",
       "      <td>60601</td>\n",
       "    </tr>\n",
       "    <tr>\n",
       "      <th>2</th>\n",
       "      <td>789 Oak Rd Suite 100</td>\n",
       "      <td>Los Angeles</td>\n",
       "      <td>CA</td>\n",
       "      <td>90001</td>\n",
       "    </tr>\n",
       "  </tbody>\n",
       "</table>\n",
       "</div>"
      ],
      "text/plain": [
       "                 street         city state    zip\n",
       "0    123 Main St, Apt 4     New York    NY  10001\n",
       "1        456 Elm Avenue      Chicago    IL  60601\n",
       "2  789 Oak Rd Suite 100  Los Angeles    CA  90001"
      ]
     },
     "execution_count": 20,
     "metadata": {},
     "output_type": "execute_result"
    }
   ],
   "source": [
    "pd.DataFrame(get_first_value(json.loads(response.choices[0].message.content)))"
   ]
  },
  {
   "cell_type": "markdown",
   "metadata": {},
   "source": [
    "<a id='example2'></a>\n",
    "\n",
    "## 2. Example 5: Normalizing Text Data\n"
   ]
  },
  {
   "cell_type": "code",
   "execution_count": 21,
   "metadata": {},
   "outputs": [
    {
     "name": "stdout",
     "output_type": "stream",
     "text": [
      "Original data:\n",
      "    descriptions\n",
      "0      RED apple\n",
      "1   Green BANANA\n",
      "2   yellow Lemon\n",
      "3  ORANGE orange\n"
     ]
    }
   ],
   "source": [
    "# Sample data with inconsistent text formatting\n",
    "data = {\"descriptions\": [\"RED apple\", \"Green BANANA\", \"yellow Lemon\", \"ORANGE orange\"]}\n",
    "df = pd.DataFrame(data)\n",
    "print(\"Original data:\")\n",
    "print(df)"
   ]
  },
  {
   "cell_type": "code",
   "execution_count": 22,
   "metadata": {},
   "outputs": [
    {
     "name": "stdout",
     "output_type": "stream",
     "text": [
      "Normalized descriptions:\n",
      "['Red Apple', 'Green Banana', 'Yellow Lemon', 'Orange Orange']\n"
     ]
    }
   ],
   "source": [
    "# Use Gen AI to normalize text data\n",
    "prompt = f\"Normalize these fruit descriptions by capitalizing only the first letter of each word: {df['descriptions'].tolist()}. Output in JSON form\"\n",
    "\n",
    "response = client.chat.completions.create(\n",
    "    model=\"gpt-4o-mini\",\n",
    "    messages=[{\"role\": \"user\", \"content\": prompt}],\n",
    "    response_format={\"type\": \"json_object\"},\n",
    ")\n",
    "\n",
    "normalized_descriptions = json.loads(response.choices[0].message.content)\n",
    "print(\"Normalized descriptions:\")\n",
    "print(get_first_value(normalized_descriptions))"
   ]
  },
  {
   "cell_type": "code",
   "execution_count": 23,
   "metadata": {},
   "outputs": [
    {
     "name": "stdout",
     "output_type": "stream",
     "text": [
      "Updated DataFrame:\n",
      "    descriptions normalized_descriptions\n",
      "0      RED apple               Red Apple\n",
      "1   Green BANANA            Green Banana\n",
      "2   yellow Lemon            Yellow Lemon\n",
      "3  ORANGE orange           Orange Orange\n"
     ]
    }
   ],
   "source": [
    "# Update the DataFrame with normalized descriptions\n",
    "df[\"normalized_descriptions\"] = get_first_value(normalized_descriptions)\n",
    "print(\"Updated DataFrame:\")\n",
    "print(df)"
   ]
  },
  {
   "cell_type": "markdown",
   "metadata": {},
   "source": [
    "<a id='example3'></a>\n",
    "\n",
    "## 2. Example 6: Standardizing Categorical Data\n"
   ]
  },
  {
   "cell_type": "code",
   "execution_count": 24,
   "metadata": {},
   "outputs": [
    {
     "name": "stdout",
     "output_type": "stream",
     "text": [
      "Original data:\n",
      "               categories\n",
      "0                      IT\n",
      "1  Information Technology\n",
      "2                    Tech\n",
      "3                    I.T.\n",
      "4        Information Tech\n",
      "5                   Cyber\n",
      "6            Cyberscryity\n",
      "7           Cybersecurity\n"
     ]
    }
   ],
   "source": [
    "# Sample data with inconsistent categorical values\n",
    "data = {\n",
    "    \"categories\": [\n",
    "        \"IT\",\n",
    "        \"Information Technology\",\n",
    "        \"Tech\",\n",
    "        \"I.T.\",\n",
    "        \"Information Tech\",\n",
    "        \"Cyber\",\n",
    "        \"Cyberscryity\",\n",
    "        \"Cybersecurity\",\n",
    "    ]\n",
    "}\n",
    "df = pd.DataFrame(data)\n",
    "print(\"Original data:\")\n",
    "print(df)"
   ]
  },
  {
   "cell_type": "code",
   "execution_count": 25,
   "metadata": {},
   "outputs": [
    {
     "name": "stdout",
     "output_type": "stream",
     "text": [
      "Standardized categories:\n",
      "{'standardized_categories': ['IT', 'IT', 'IT', 'IT', 'IT', 'Cybersecurity', 'Cybersecurity', 'Cybersecurity']}\n"
     ]
    }
   ],
   "source": [
    "# Use Gen AI to standardize categorical data\n",
    "prompt = f\"Standardize these category names to a single consistent format (either 'IT' or 'Cybersecurity'): {df['categories'].tolist()}. Output in JSON form\"\n",
    "\n",
    "response = client.chat.completions.create(\n",
    "    model=\"gpt-4o-mini\",\n",
    "    messages=[{\"role\": \"user\", \"content\": prompt}],\n",
    "    response_format={\"type\": \"json_object\"},\n",
    ")\n",
    "\n",
    "standardized_categories = json.loads(response.choices[0].message.content)\n",
    "print(\"Standardized categories:\")\n",
    "print(standardized_categories)"
   ]
  },
  {
   "cell_type": "code",
   "execution_count": 26,
   "metadata": {},
   "outputs": [
    {
     "name": "stdout",
     "output_type": "stream",
     "text": [
      "Updated DataFrame:\n",
      "               categories standardized_categories\n",
      "0                      IT                      IT\n",
      "1  Information Technology                      IT\n",
      "2                    Tech                      IT\n",
      "3                    I.T.                      IT\n",
      "4        Information Tech                      IT\n",
      "5                   Cyber           Cybersecurity\n",
      "6            Cyberscryity           Cybersecurity\n",
      "7           Cybersecurity           Cybersecurity\n"
     ]
    }
   ],
   "source": [
    "# Update the DataFrame with standardized categories\n",
    "df[\"standardized_categories\"] = get_first_value(standardized_categories)\n",
    "print(\"Updated DataFrame:\")\n",
    "print(df)"
   ]
  },
  {
   "cell_type": "markdown",
   "metadata": {},
   "source": [
    "## 2. Example 7: Standardizing\n"
   ]
  },
  {
   "cell_type": "code",
   "execution_count": 27,
   "metadata": {},
   "outputs": [
    {
     "name": "stdout",
     "output_type": "stream",
     "text": [
      "Original: iPhone 12 Pro Max 256GB\n",
      "Standardized: Apple iPhone 12 Pro Max 256GB\n",
      "\n",
      "Original: Apple iphone 12 pro max (256 gb)\n",
      "Standardized: Apple iPhone 12 Pro Max 256GB\n",
      "\n",
      "Original: 12 Pro Max iPhone - 256GB\n",
      "Standardized: Apple iPhone 12 Pro Max 256GB\n",
      "\n"
     ]
    }
   ],
   "source": [
    "# Sample product names\n",
    "product_names = [\n",
    "    \"iPhone 12 Pro Max 256GB\",\n",
    "    \"Apple iphone 12 pro max (256 gb)\",\n",
    "    \"12 Pro Max iPhone - 256GB\",\n",
    "]\n",
    "\n",
    "\n",
    "# Function to standardize product name\n",
    "def standardize_product_name(name):\n",
    "    response = client.chat.completions.create(\n",
    "        model=\"gpt-4o-mini\",\n",
    "        messages=[\n",
    "            {\n",
    "                \"role\": \"system\",\n",
    "                \"content\": \"You are a product name standardization assistant.\",\n",
    "            },\n",
    "            {\n",
    "                \"role\": \"user\",\n",
    "                \"content\": f\"Standardize this product name to the format 'Brand Model Storage'. Product name: {name}. Output in JSON form.\",\n",
    "            },\n",
    "        ],\n",
    "        response_format={\"type\": \"json_object\"},\n",
    "    )\n",
    "    return json.loads(response.choices[0].message.content)\n",
    "\n",
    "\n",
    "# Standardize product names\n",
    "standardized_names = [standardize_product_name(name) for name in product_names]\n",
    "\n",
    "# Display results\n",
    "for original, standardized in zip(product_names, standardized_names):\n",
    "    print(f\"Original: {original}\")\n",
    "    print(f\"Standardized: {get_first_value(standardized)}\\n\")"
   ]
  },
  {
   "cell_type": "code",
   "execution_count": 28,
   "metadata": {},
   "outputs": [
    {
     "name": "stdout",
     "output_type": "stream",
     "text": [
      "Customer: John Doe, 35 years old, buys electronics frequently\n",
      "Category: Tech Enthusiast\n",
      "\n",
      "Customer: Jane Smith, 28 years old, purchases cosmetics monthly\n",
      "Category: Beauty Lover\n",
      "\n",
      "Customer: Bob Johnson, 50 years old, buys gardening supplies occasionally\n",
      "Category: Home & Garden\n",
      "\n"
     ]
    }
   ],
   "source": [
    "# Sample customer data\n",
    "customers = [\n",
    "    \"John Doe, 35 years old, buys electronics frequently\",\n",
    "    \"Jane Smith, 28 years old, purchases cosmetics monthly\",\n",
    "    \"Bob Johnson, 50 years old, buys gardening supplies occasionally\",\n",
    "]\n",
    "\n",
    "\n",
    "# Function to categorize customer\n",
    "def categorize_customer(description):\n",
    "    response = client.chat.completions.create(\n",
    "        model=\"gpt-4o-mini\",\n",
    "        messages=[\n",
    "            {\"role\": \"system\", \"content\": \"You are a data categorization assistant.\"},\n",
    "            {\n",
    "                \"role\": \"user\",\n",
    "                \"content\": f\"Categorize this customer into one of these categories: Tech Enthusiast, Beauty Lover, Home & Garden. Customer description: {description}. Output in JSON form.\",\n",
    "            },\n",
    "        ],\n",
    "        response_format={\"type\": \"json_object\"},\n",
    "    )\n",
    "    return json.loads(response.choices[0].message.content)\n",
    "\n",
    "\n",
    "# Categorize customers\n",
    "categorized_customers = [categorize_customer(customer) for customer in customers]\n",
    "\n",
    "# Display results\n",
    "for customer, category in zip(customers, categorized_customers):\n",
    "    print(f\"Customer: {customer}\")\n",
    "    print(f\"Category: {category['category']}\\n\")"
   ]
  },
  {
   "cell_type": "code",
   "execution_count": 29,
   "metadata": {},
   "outputs": [
    {
     "name": "stdout",
     "output_type": "stream",
     "text": [
      "Original: New York, NY\n",
      "Normalized: {'city': 'New York', 'state': 'New York', 'country': 'United States'}\n",
      "\n",
      "Original: Los Angeles, California\n",
      "Normalized: {'city': 'Los Angeles', 'state': 'California', 'country': 'United States'}\n",
      "\n",
      "Original: Chicago, IL, USA\n",
      "Normalized: {'city': 'Chicago', 'state': 'Illinois', 'country': 'United States'}\n",
      "\n",
      "Original: San Fran\n",
      "Normalized: {'city': 'San Francisco', 'state': 'California', 'country': 'United States'}\n",
      "\n"
     ]
    }
   ],
   "source": [
    "# Sample location data\n",
    "locations = [\"New York, NY\", \"Los Angeles, California\", \"Chicago, IL, USA\", \"San Fran\"]\n",
    "\n",
    "\n",
    "# Function to normalize location data\n",
    "def normalize_location(location):\n",
    "    response = client.chat.completions.create(\n",
    "        model=\"gpt-4o-mini\",\n",
    "        messages=[\n",
    "            {\n",
    "                \"role\": \"system\",\n",
    "                \"content\": \"You are a location data normalization assistant.\",\n",
    "            },\n",
    "            {\n",
    "                \"role\": \"user\",\n",
    "                \"content\": f\"Normalize this location: {location}. Output in JSON form with city, state, and country.\",\n",
    "            },\n",
    "        ],\n",
    "        response_format={\"type\": \"json_object\"},\n",
    "    )\n",
    "    return json.loads(response.choices[0].message.content)\n",
    "\n",
    "\n",
    "# Normalize locations\n",
    "normalized_locations = [normalize_location(loc) for loc in locations]\n",
    "\n",
    "# Display results\n",
    "for original, normalized in zip(locations, normalized_locations):\n",
    "    print(f\"Original: {original}\")\n",
    "    print(f\"Normalized: {normalized}\\n\")"
   ]
  },
  {
   "cell_type": "markdown",
   "metadata": {},
   "source": [
    "## 3. References and Further Reading\n",
    "\n",
    "1. OpenAI API Documentation: https://platform.openai.com/docs/\n",
    "2. \"Natural Language Processing with Transformers\" by Lewis Tunstall, Leandro von Werra, and Thomas Wolf\n",
    "3. \"Speech and Language Processing\" by Dan Jurafsky and James H. Martin\n",
    "4. \"Text Mining with R\" by Julia Silge and David Robinson\n",
    "5. \"Applied Text Analysis with Python\" by Benjamin Bengfort, Rebecca Bilbro, and Tony Ojeda\n"
   ]
  },
  {
   "cell_type": "code",
   "execution_count": null,
   "metadata": {},
   "outputs": [],
   "source": []
  }
 ],
 "metadata": {
  "kernelspec": {
   "display_name": "venv",
   "language": "python",
   "name": "python3"
  },
  "language_info": {
   "codemirror_mode": {
    "name": "ipython",
    "version": 3
   },
   "file_extension": ".py",
   "mimetype": "text/x-python",
   "name": "python",
   "nbconvert_exporter": "python",
   "pygments_lexer": "ipython3",
   "version": "3.12.10"
  }
 },
 "nbformat": 4,
 "nbformat_minor": 4
}
