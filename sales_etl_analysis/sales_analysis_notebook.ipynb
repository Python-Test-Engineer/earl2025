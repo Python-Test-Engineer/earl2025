{
 "cells": [
  {
   "cell_type": "markdown",
   "metadata": {},
   "source": [
    "# Sales ETL and Data Analysis Notebook\n",
    "\n",
    "This notebook demonstrates the Sales ETL and Data Analysis program with interactive visualizations.\n"
   ]
  },
  {
   "cell_type": "markdown",
   "metadata": {},
   "source": [
    "## 1. Import Libraries and Initialize"
   ]
  },
  {
   "cell_type": "code",
   "execution_count": null,
   "metadata": {},
   "outputs": [],
   "source": [
    "# Import the ETL analyzer\n",
    "from sales_etl_analyzer import SalesETLAnalyzer\n",
    "import pandas as pd\n",
    "import matplotlib.pyplot as plt\n",
    "import seaborn as sns\n",
    "\n",
    "# Enable inline plotting\n",
    "%matplotlib inline\n",
    "\n",
    "# Set style\n",
    "plt.style.use('seaborn-v0_8')\n",
    "sns.set_palette(\"husl\")\n",
    "\n",
    "print(\"📊 Sales ETL and Data Analysis Notebook\")\n",
    "print(\"=\"*50)"
   ]
  },
  {
   "cell_type": "markdown",
   "metadata": {},
   "source": [
    "## 2. Initialize the Analyzer"
   ]
  },
  {
   "cell_type": "code",
   "execution_count": null,
   "metadata": {},
   "outputs": [],
   "source": [
    "# Initialize the analyzer\n",
    "analyzer = SalesETLAnalyzer()\n",
    "print(\"✅ Analyzer initialized\")"
   ]
  },
  {
   "cell_type": "markdown",
   "metadata": {},
   "source": [
    "## 3. Extract Data"
   ]
  },
  {
   "cell_type": "code",
   "execution_count": null,
   "metadata": {},
   "outputs": [],
   "source": [
    "# Extract data from CSV\n",
    "raw_data = analyzer.extract_data('sample_sales_data.csv')\n",
    "\n",
    "# Display first few rows\n",
    "print(\"\\n📋 First 5 rows of raw data:\")\n",
    "display(raw_data.head())\n",
    "\n",
    "print(f\"\\n📊 Data shape: {raw_data.shape}\")\n",
    "print(f\"📋 Columns: {list(raw_data.columns)}\")"
   ]
  },
  {
   "cell_type": "markdown",
   "metadata": {},
   "source": [
    "## 4. Transform Data"
   ]
  },
  {
   "cell_type": "code",
   "execution_count": null,
   "metadata": {},
   "outputs": [],
   "source": [
    "# Transform and clean data\n",
    "clean_data = analyzer.transform_data()\n",
    "\n",
    "# Display transformed data info\n",
    "print(\"\\n📋 Transformed data info:\")\n",
    "print(clean_data.info())\n",
    "\n",
    "print(\"\\n📊 First 5 rows of clean data:\")\n",
    "display(clean_data.head())"
   ]
  },
  {
   "cell_type": "markdown",
   "metadata": {},
   "source": [
    "## 5. Data Analysis"
   ]
  },
  {
   "cell_type": "code",
   "execution_count": null,
   "metadata": {},
   "outputs": [],
   "source": [
    "# Perform analysis\n",
    "results = analyzer.analyze_data()\n",
    "\n",
    "# Display basic statistics\n",
    "print(\"📈 BASIC STATISTICS\")\n",
    "print(\"=\"*30)\n",
    "stats = results['basic_stats']\n",
    "print(f\"Total Records: {stats['total_records']:,}\")\n",
    "print(f\"Total Revenue: ${stats['total_revenue']:,.2f}\")\n",
    "print(f\"Average Order Value: ${stats['average_order_value']:,.2f}\")\n",
    "print(f\"Total Quantity Sold: {stats['total_quantity_sold']:,}\")\n",
    "print(f\"Date Range: {stats['date_range']['start'].strftime('%Y-%m-%d')} to {stats['date_range']['end'].strftime('%Y-%m-%d')}\")"
   ]
  },
  {
   "cell_type": "markdown",
   "metadata": {},
   "source": [
    "## 6. Interactive Visualizations"
   ]
  },
  {
   "cell_type": "code",
   "execution_count": null,
   "metadata": {},
   "outputs": [],
   "source": [
    "# Sales by Category\n",
    "plt.figure(figsize=(10, 6))\n",
    "category_sales = clean_data.groupby('category')['total_sales'].sum().sort_values(ascending=True)\n",
    "category_sales.plot(kind='barh', color='skyblue', edgecolor='black')\n",
    "plt.title('Total Sales by Category', fontsize=16, fontweight='bold')\n",
    "plt.xlabel('Total Sales ($)', fontsize=12)\n",
    "plt.ylabel('Category', fontsize=12)\n",
    "plt.grid(axis='x', alpha=0.3)\n",
    "plt.tight_layout()\n",
    "plt.show()"
   ]
  },
  {
   "cell_type": "code",
   "execution_count": null,
   "metadata": {},
   "outputs": [],
   "source": [
    "# Sales by Region (Pie Chart)\n",
    "plt.figure(figsize=(10, 8))\n",
    "region_sales = clean_data.groupby('region')['total_sales'].sum()\n",
    "plt.pie(region_sales.values, labels=region_sales.index, autopct='%1.1f%%', startangle=90)\n",
    "plt.title('Sales Distribution by Region', fontsize=16, fontweight='bold')\n",
    "plt.axis('equal')\n",
    "plt.tight_layout()\n",
    "plt.show()"
   ]
  },
  {
   "cell_type": "code",
   "execution_count": null,
   "metadata": {},
   "outputs": [],
   "source": [
    "# Daily Sales Trend\n",
    "plt.figure(figsize=(14, 6))\n",
    "daily_sales = clean_data.groupby('date')['total_sales'].sum()\n",
    "plt.plot(daily_sales.index, daily_sales.values, marker='o', linewidth=2, markersize=4)\n",
    "plt.title('Daily Sales Trend', fontsize=16, fontweight='bold')\n",
    "plt.xlabel('Date', fontsize=12)\n",
    "plt.ylabel('Total Sales ($)', fontsize=12)\n",
    "plt.grid(True, alpha=0.3)\n",
    "plt.xticks(rotation=45)\n",
    "plt.tight_layout()\n",
    "plt.show()"
   ]
  },
  {
   "cell_type": "code",
   "execution_count": null,
   "metadata": {},
   "outputs": [],
   "source": [
    "# Top 10 Products\n",
    "plt.figure(figsize=(12, 8))\n",
    "top_products = clean_data.groupby('product_name')['total_sales'].sum().sort_values(ascending=True).tail(10)\n",
    "top_products.plot(kind='barh', color='lightcoral', edgecolor='black')\n",
    "plt.title('Top 10 Products by Sales', fontsize=16, fontweight='bold')\n",
    "plt.xlabel('Total Sales ($)', fontsize=12)\n",
    "plt.ylabel('Product', fontsize=12)\n",
    "plt.grid(axis='x', alpha=0.3)\n",
    "plt.tight_layout()\n",
    "plt.show()"
   ]
  },
  {
   "cell_type": "code",
   "execution_count": null,
   "metadata": {},
   "outputs": [],
   "source": [
    "# Sales Heatmap\n",
    "plt.figure(figsize=(10, 6))\n",
    "heatmap_data = clean_data.pivot_table(\n",
    "    values='total_sales', \n",
    "    index='category', \n",
    "    columns='region', \n",
    "    aggfunc='sum',\n",
    "    fill_value=0\n",
    ")\n",
    "sns.heatmap(heatmap_data, annot=True, fmt='.0f', cmap='YlOrRd', cbar_kws={'label': 'Total Sales ($)'})\n",
    "plt.title('Sales Heatmap: Category vs Region', fontsize=16, fontweight='bold')\n",
    "plt.tight_layout()\n",
    "plt.show()"
   ]
  },
  {
   "cell_type": "markdown",
   "metadata": {},
   "source": [
    "## 7. Detailed Analysis Tables"
   ]
  },
  {
   "cell_type": "code",
   "execution_count": null,
   "metadata": {},
   "outputs": [],
   "source": [
    "# Sales by Category Table\n",
    "print(\"📊 SALES BY CATEGORY\")\n",
    "print(\"=\"*40)\n",
    "display(results['sales_by_category'])"
   ]
  },
  {
   "cell_type": "code",
   "execution_count": null,
   "metadata": {},
   "outputs": [],
   "source": [
    "# Sales by Region Table\n",
    "print(\"🌍 SALES BY REGION\")\n",
    "print(\"=\"*40)\n",
    "display(results['sales_by_region'])"
   ]
  },
  {
   "cell_type": "code",
   "execution_count": null,
   "metadata": {},
   "outputs": [],
   "source": [
    "# Top Products Table\n",
    "print(\"🏆 TOP 10 PRODUCTS\")\n",
    "print(\"=\"*40)\n",
    "display(results['top_products'])"
   ]
  },
  {
   "cell_type": "markdown",
   "metadata": {},
   "source": [
    "## 8. Custom Analysis"
   ]
  },
  {
   "cell_type": "code",
   "execution_count": null,
   "metadata": {},
   "outputs": [],
   "source": [
    "# Custom analysis - Sales performance by weekday\n",
    "weekday_sales = clean_data.groupby('weekday')['total_sales'].agg(['sum', 'mean', 'count']).round(2)\n",
    "weekday_sales.columns = ['Total Sales', 'Average Sales', 'Number of Transactions']\n",
    "\n",
    "print(\"📅 SALES BY WEEKDAY\")\n",
    "print(\"=\"*40)\n",
    "display(weekday_sales)\n",
    "\n",
    "# Plot weekday sales\n",
    "plt.figure(figsize=(10, 6))\n",
    "weekday_order = ['Monday', 'Tuesday', 'Wednesday', 'Thursday', 'Friday', 'Saturday', 'Sunday']\n",
    "weekday_sales_ordered = clean_data.groupby('weekday')['total_sales'].sum().reindex(weekday_order, fill_value=0)\n",
    "weekday_sales_ordered.plot(kind='bar', color='lightgreen', edgecolor='black')\n",
    "plt.title('Sales by Weekday', fontsize=16, fontweight='bold')\n",
    "plt.xlabel('Weekday', fontsize=12)\n",
    "plt.ylabel('Total Sales ($)', fontsize=12)\n",
    "plt.xticks(rotation=45)\n",
    "plt.grid(axis='y', alpha=0.3)\n",
    "plt.tight_layout()\n",
    "plt.show()"
   ]
  },
  {
   "cell_type": "markdown",
   "metadata": {},
   "source": [
    "## 9. Export Results"
   ]
  },
  {
   "cell_type": "code",
   "execution_count": null,
   "metadata": {},
   "outputs": [],
   "source": [
    "# Save cleaned data\n",
    "analyzer.load_data()\n",
    "\n",
    "# Generate comprehensive report\n",
    "analyzer.generate_report()\n",
    "\n",
    "# Create all visualizations\n",
    "analyzer.create_visualizations()\n",
    "\n",
    "print(\"✅ All results exported!\")\n",
    "print(\"📁 Check the 'output' directory for:\")\n",
    "print(\"   📊 Plots: output/plots/\")\n",
    "print(\"   📋 Reports: output/reports/\")\n",
    "print(\"   💾 Data: output/\")"
   ]
  },
  {
   "cell_type": "markdown",
   "metadata": {},
   "source": [
    "## 10. Summary"
   ]
  },
  {
   "cell_type": "code",
   "execution_count": null,
   "metadata": {},
   "outputs": [],
   "source": [
    "# Display final summary\n",
    "analyzer.display_summary()"
   ]
  }
 ],
 "metadata": {
  "kernelspec": {
   "display_name": "Python 3",
   "language": "python",
   "name": "python3"
  },
  "language_info": {
   "codemirror_mode": {
    "name": "ipython",
    "version": 3
   },
   "file_extension": ".py",
   "mimetype": "text/x-python",
   "name": "python",
   "nbconvert_exporter": "python",
   "pygments_lexer": "ipython3",
   "version": "3.8.5"
  }
 },
 "nbformat": 4,
 "nbformat_minor": 4
}
