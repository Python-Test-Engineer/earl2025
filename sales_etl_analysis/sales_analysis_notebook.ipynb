{
 "cells": [
  {
   "cell_type": "markdown",
   "metadata": {},
   "source": [
    "# Sales ETL and Data Analysis Notebook\n",
    "\n",
    "This notebook demonstrates the Sales ETL and Data Analysis program with interactive visualizations.\n"
   ]
  },
  {
   "cell_type": "markdown",
   "metadata": {},
   "source": [
    "## 1. Import Libraries and Initialize"
   ]
  },
  {
   "cell_type": "code",
   "execution_count": 1,
   "metadata": {},
   "outputs": [
    {
     "name": "stdout",
     "output_type": "stream",
     "text": [
      "📊 Sales ETL and Data Analysis Notebook\n",
      "==================================================\n"
     ]
    }
   ],
   "source": [
    "# Import the ETL analyzer\n",
    "from sales_etl_analyzer import SalesETLAnalyzer\n",
    "import pandas as pd\n",
    "import matplotlib.pyplot as plt\n",
    "import seaborn as sns\n",
    "\n",
    "# Enable inline plotting\n",
    "%matplotlib inline\n",
    "\n",
    "# Set style\n",
    "plt.style.use('seaborn-v0_8')\n",
    "sns.set_palette(\"husl\")\n",
    "\n",
    "print(\"📊 Sales ETL and Data Analysis Notebook\")\n",
    "print(\"=\"*50)"
   ]
  },
  {
   "cell_type": "markdown",
   "metadata": {},
   "source": [
    "## 2. Initialize the Analyzer"
   ]
  },
  {
   "cell_type": "code",
   "execution_count": 2,
   "metadata": {},
   "outputs": [
    {
     "name": "stdout",
     "output_type": "stream",
     "text": [
      "✅ Analyzer initialized\n"
     ]
    }
   ],
   "source": [
    "# Initialize the analyzer\n",
    "analyzer = SalesETLAnalyzer()\n",
    "print(\"✅ Analyzer initialized\")"
   ]
  },
  {
   "cell_type": "markdown",
   "metadata": {},
   "source": [
    "## 3. Extract Data"
   ]
  },
  {
   "cell_type": "code",
   "execution_count": 4,
   "metadata": {},
   "outputs": [
    {
     "name": "stdout",
     "output_type": "stream",
     "text": [
      "📊 Extracting data from: sample_sales_data.csv\n",
      "✅ Successfully extracted 40 records\n",
      "📋 Columns: ['date', 'product_id', 'product_name', 'category', 'quantity', 'unit_price', 'customer_id', 'customer_name', 'region', 'sales_rep']\n",
      "\n",
      "📋 First 5 rows of raw data:\n"
     ]
    },
    {
     "data": {
      "application/vnd.microsoft.datawrangler.viewer.v0+json": {
       "columns": [
        {
         "name": "index",
         "rawType": "int64",
         "type": "integer"
        },
        {
         "name": "date",
         "rawType": "object",
         "type": "string"
        },
        {
         "name": "product_id",
         "rawType": "object",
         "type": "string"
        },
        {
         "name": "product_name",
         "rawType": "object",
         "type": "string"
        },
        {
         "name": "category",
         "rawType": "object",
         "type": "string"
        },
        {
         "name": "quantity",
         "rawType": "int64",
         "type": "integer"
        },
        {
         "name": "unit_price",
         "rawType": "float64",
         "type": "float"
        },
        {
         "name": "customer_id",
         "rawType": "object",
         "type": "string"
        },
        {
         "name": "customer_name",
         "rawType": "object",
         "type": "string"
        },
        {
         "name": "region",
         "rawType": "object",
         "type": "string"
        },
        {
         "name": "sales_rep",
         "rawType": "object",
         "type": "string"
        }
       ],
       "ref": "1fc2625a-c272-41a8-834d-fb7f31cc8f97",
       "rows": [
        [
         "0",
         "2024-01-15",
         "P001",
         "Laptop Pro 15",
         "Electronics",
         "2",
         "1299.99",
         "C001",
         "Tech Solutions Inc",
         "North",
         "John Smith"
        ],
        [
         "1",
         "2024-01-15",
         "P002",
         "Wireless Mouse",
         "Electronics",
         "5",
         "29.99",
         "C002",
         "Office Supplies Co",
         "South",
         "Sarah Johnson"
        ],
        [
         "2",
         "2024-01-16",
         "P003",
         "Office Chair",
         "Furniture",
         "1",
         "249.99",
         "C003",
         "Corporate Furniture Ltd",
         "East",
         "Mike Davis"
        ],
        [
         "3",
         "2024-01-16",
         "P001",
         "Laptop Pro 15",
         "Electronics",
         "1",
         "1299.99",
         "C004",
         "StartUp Tech",
         "West",
         "John Smith"
        ],
        [
         "4",
         "2024-01-17",
         "P004",
         "Desk Lamp",
         "Furniture",
         "3",
         "79.99",
         "C005",
         "Home Office Store",
         "North",
         "Lisa Wilson"
        ]
       ],
       "shape": {
        "columns": 10,
        "rows": 5
       }
      },
      "text/html": [
       "<div>\n",
       "<style scoped>\n",
       "    .dataframe tbody tr th:only-of-type {\n",
       "        vertical-align: middle;\n",
       "    }\n",
       "\n",
       "    .dataframe tbody tr th {\n",
       "        vertical-align: top;\n",
       "    }\n",
       "\n",
       "    .dataframe thead th {\n",
       "        text-align: right;\n",
       "    }\n",
       "</style>\n",
       "<table border=\"1\" class=\"dataframe\">\n",
       "  <thead>\n",
       "    <tr style=\"text-align: right;\">\n",
       "      <th></th>\n",
       "      <th>date</th>\n",
       "      <th>product_id</th>\n",
       "      <th>product_name</th>\n",
       "      <th>category</th>\n",
       "      <th>quantity</th>\n",
       "      <th>unit_price</th>\n",
       "      <th>customer_id</th>\n",
       "      <th>customer_name</th>\n",
       "      <th>region</th>\n",
       "      <th>sales_rep</th>\n",
       "    </tr>\n",
       "  </thead>\n",
       "  <tbody>\n",
       "    <tr>\n",
       "      <th>0</th>\n",
       "      <td>2024-01-15</td>\n",
       "      <td>P001</td>\n",
       "      <td>Laptop Pro 15</td>\n",
       "      <td>Electronics</td>\n",
       "      <td>2</td>\n",
       "      <td>1299.99</td>\n",
       "      <td>C001</td>\n",
       "      <td>Tech Solutions Inc</td>\n",
       "      <td>North</td>\n",
       "      <td>John Smith</td>\n",
       "    </tr>\n",
       "    <tr>\n",
       "      <th>1</th>\n",
       "      <td>2024-01-15</td>\n",
       "      <td>P002</td>\n",
       "      <td>Wireless Mouse</td>\n",
       "      <td>Electronics</td>\n",
       "      <td>5</td>\n",
       "      <td>29.99</td>\n",
       "      <td>C002</td>\n",
       "      <td>Office Supplies Co</td>\n",
       "      <td>South</td>\n",
       "      <td>Sarah Johnson</td>\n",
       "    </tr>\n",
       "    <tr>\n",
       "      <th>2</th>\n",
       "      <td>2024-01-16</td>\n",
       "      <td>P003</td>\n",
       "      <td>Office Chair</td>\n",
       "      <td>Furniture</td>\n",
       "      <td>1</td>\n",
       "      <td>249.99</td>\n",
       "      <td>C003</td>\n",
       "      <td>Corporate Furniture Ltd</td>\n",
       "      <td>East</td>\n",
       "      <td>Mike Davis</td>\n",
       "    </tr>\n",
       "    <tr>\n",
       "      <th>3</th>\n",
       "      <td>2024-01-16</td>\n",
       "      <td>P001</td>\n",
       "      <td>Laptop Pro 15</td>\n",
       "      <td>Electronics</td>\n",
       "      <td>1</td>\n",
       "      <td>1299.99</td>\n",
       "      <td>C004</td>\n",
       "      <td>StartUp Tech</td>\n",
       "      <td>West</td>\n",
       "      <td>John Smith</td>\n",
       "    </tr>\n",
       "    <tr>\n",
       "      <th>4</th>\n",
       "      <td>2024-01-17</td>\n",
       "      <td>P004</td>\n",
       "      <td>Desk Lamp</td>\n",
       "      <td>Furniture</td>\n",
       "      <td>3</td>\n",
       "      <td>79.99</td>\n",
       "      <td>C005</td>\n",
       "      <td>Home Office Store</td>\n",
       "      <td>North</td>\n",
       "      <td>Lisa Wilson</td>\n",
       "    </tr>\n",
       "  </tbody>\n",
       "</table>\n",
       "</div>"
      ],
      "text/plain": [
       "         date product_id    product_name     category  quantity  unit_price  \\\n",
       "0  2024-01-15       P001   Laptop Pro 15  Electronics         2     1299.99   \n",
       "1  2024-01-15       P002  Wireless Mouse  Electronics         5       29.99   \n",
       "2  2024-01-16       P003    Office Chair    Furniture         1      249.99   \n",
       "3  2024-01-16       P001   Laptop Pro 15  Electronics         1     1299.99   \n",
       "4  2024-01-17       P004       Desk Lamp    Furniture         3       79.99   \n",
       "\n",
       "  customer_id            customer_name region      sales_rep  \n",
       "0        C001       Tech Solutions Inc  North     John Smith  \n",
       "1        C002       Office Supplies Co  South  Sarah Johnson  \n",
       "2        C003  Corporate Furniture Ltd   East     Mike Davis  \n",
       "3        C004             StartUp Tech   West     John Smith  \n",
       "4        C005        Home Office Store  North    Lisa Wilson  "
      ]
     },
     "metadata": {},
     "output_type": "display_data"
    },
    {
     "name": "stdout",
     "output_type": "stream",
     "text": [
      "\n",
      "📊 Data shape: (40, 10)\n",
      "📋 Columns: ['date', 'product_id', 'product_name', 'category', 'quantity', 'unit_price', 'customer_id', 'customer_name', 'region', 'sales_rep']\n"
     ]
    }
   ],
   "source": [
    "# Extract data from CSV\n",
    "raw_data = analyzer.extract_data(\"sample_sales_data.csv\")\n",
    "\n",
    "# Display first few rows\n",
    "print(\"\\n📋 First 5 rows of raw data:\")\n",
    "display(raw_data.head())\n",
    "\n",
    "print(f\"\\n📊 Data shape: {raw_data.shape}\")\n",
    "print(f\"📋 Columns: {list(raw_data.columns)}\")"
   ]
  },
  {
   "cell_type": "markdown",
   "metadata": {},
   "source": [
    "## 4. Transform Data"
   ]
  },
  {
   "cell_type": "code",
   "execution_count": null,
   "metadata": {},
   "outputs": [],
   "source": [
    "# Transform and clean data\n",
    "clean_data = analyzer.transform_data()\n",
    "\n",
    "# Display transformed data info\n",
    "print(\"\\n📋 Transformed data info:\")\n",
    "print(clean_data.info())\n",
    "\n",
    "print(\"\\n📊 First 5 rows of clean data:\")\n",
    "display(clean_data.head())"
   ]
  },
  {
   "cell_type": "markdown",
   "metadata": {},
   "source": [
    "## 5. Data Analysis"
   ]
  },
  {
   "cell_type": "code",
   "execution_count": null,
   "metadata": {},
   "outputs": [],
   "source": [
    "# Perform analysis\n",
    "results = analyzer.analyze_data()\n",
    "\n",
    "# Display basic statistics\n",
    "print(\"📈 BASIC STATISTICS\")\n",
    "print(\"=\" * 30)\n",
    "stats = results[\"basic_stats\"]\n",
    "print(f\"Total Records: {stats['total_records']:,}\")\n",
    "print(f\"Total Revenue: ${stats['total_revenue']:,.2f}\")\n",
    "print(f\"Average Order Value: ${stats['average_order_value']:,.2f}\")\n",
    "print(f\"Total Quantity Sold: {stats['total_quantity_sold']:,}\")\n",
    "print(\n",
    "    f\"Date Range: {stats['date_range']['start'].strftime('%Y-%m-%d')} to {stats['date_range']['end'].strftime('%Y-%m-%d')}\"\n",
    ")"
   ]
  },
  {
   "cell_type": "markdown",
   "metadata": {},
   "source": [
    "## 6. Interactive Visualizations"
   ]
  },
  {
   "cell_type": "code",
   "execution_count": null,
   "metadata": {},
   "outputs": [],
   "source": [
    "# Sales by Category\n",
    "plt.figure(figsize=(10, 6))\n",
    "category_sales = (\n",
    "    clean_data.groupby(\"category\")[\"total_sales\"].sum().sort_values(ascending=True)\n",
    ")\n",
    "category_sales.plot(kind=\"barh\", color=\"skyblue\", edgecolor=\"black\")\n",
    "plt.title(\"Total Sales by Category\", fontsize=16, fontweight=\"bold\")\n",
    "plt.xlabel(\"Total Sales ($)\", fontsize=12)\n",
    "plt.ylabel(\"Category\", fontsize=12)\n",
    "plt.grid(axis=\"x\", alpha=0.3)\n",
    "plt.tight_layout()\n",
    "plt.show()"
   ]
  },
  {
   "cell_type": "code",
   "execution_count": null,
   "metadata": {},
   "outputs": [],
   "source": [
    "# Sales by Region (Pie Chart)\n",
    "plt.figure(figsize=(10, 8))\n",
    "region_sales = clean_data.groupby(\"region\")[\"total_sales\"].sum()\n",
    "plt.pie(\n",
    "    region_sales.values, labels=region_sales.index, autopct=\"%1.1f%%\", startangle=90\n",
    ")\n",
    "plt.title(\"Sales Distribution by Region\", fontsize=16, fontweight=\"bold\")\n",
    "plt.axis(\"equal\")\n",
    "plt.tight_layout()\n",
    "plt.show()"
   ]
  },
  {
   "cell_type": "code",
   "execution_count": null,
   "metadata": {},
   "outputs": [],
   "source": [
    "# Daily Sales Trend\n",
    "plt.figure(figsize=(14, 6))\n",
    "daily_sales = clean_data.groupby(\"date\")[\"total_sales\"].sum()\n",
    "plt.plot(daily_sales.index, daily_sales.values, marker=\"o\", linewidth=2, markersize=4)\n",
    "plt.title(\"Daily Sales Trend\", fontsize=16, fontweight=\"bold\")\n",
    "plt.xlabel(\"Date\", fontsize=12)\n",
    "plt.ylabel(\"Total Sales ($)\", fontsize=12)\n",
    "plt.grid(True, alpha=0.3)\n",
    "plt.xticks(rotation=45)\n",
    "plt.tight_layout()\n",
    "plt.show()"
   ]
  },
  {
   "cell_type": "code",
   "execution_count": null,
   "metadata": {},
   "outputs": [],
   "source": [
    "# Top 10 Products\n",
    "plt.figure(figsize=(12, 8))\n",
    "top_products = (\n",
    "    clean_data.groupby(\"product_name\")[\"total_sales\"]\n",
    "    .sum()\n",
    "    .sort_values(ascending=True)\n",
    "    .tail(10)\n",
    ")\n",
    "top_products.plot(kind=\"barh\", color=\"lightcoral\", edgecolor=\"black\")\n",
    "plt.title(\"Top 10 Products by Sales\", fontsize=16, fontweight=\"bold\")\n",
    "plt.xlabel(\"Total Sales ($)\", fontsize=12)\n",
    "plt.ylabel(\"Product\", fontsize=12)\n",
    "plt.grid(axis=\"x\", alpha=0.3)\n",
    "plt.tight_layout()\n",
    "plt.show()"
   ]
  },
  {
   "cell_type": "code",
   "execution_count": null,
   "metadata": {},
   "outputs": [],
   "source": [
    "# Sales Heatmap\n",
    "plt.figure(figsize=(10, 6))\n",
    "heatmap_data = clean_data.pivot_table(\n",
    "    values=\"total_sales\",\n",
    "    index=\"category\",\n",
    "    columns=\"region\",\n",
    "    aggfunc=\"sum\",\n",
    "    fill_value=0,\n",
    ")\n",
    "sns.heatmap(\n",
    "    heatmap_data,\n",
    "    annot=True,\n",
    "    fmt=\".0f\",\n",
    "    cmap=\"YlOrRd\",\n",
    "    cbar_kws={\"label\": \"Total Sales ($)\"},\n",
    ")\n",
    "plt.title(\"Sales Heatmap: Category vs Region\", fontsize=16, fontweight=\"bold\")\n",
    "plt.tight_layout()\n",
    "plt.show()"
   ]
  },
  {
   "cell_type": "markdown",
   "metadata": {},
   "source": [
    "## 7. Detailed Analysis Tables"
   ]
  },
  {
   "cell_type": "code",
   "execution_count": null,
   "metadata": {},
   "outputs": [],
   "source": [
    "# Sales by Category Table\n",
    "print(\"📊 SALES BY CATEGORY\")\n",
    "print(\"=\" * 40)\n",
    "display(results[\"sales_by_category\"])"
   ]
  },
  {
   "cell_type": "code",
   "execution_count": null,
   "metadata": {},
   "outputs": [],
   "source": [
    "# Sales by Region Table\n",
    "print(\"🌍 SALES BY REGION\")\n",
    "print(\"=\" * 40)\n",
    "display(results[\"sales_by_region\"])"
   ]
  },
  {
   "cell_type": "code",
   "execution_count": null,
   "metadata": {},
   "outputs": [],
   "source": [
    "# Top Products Table\n",
    "print(\"🏆 TOP 10 PRODUCTS\")\n",
    "print(\"=\" * 40)\n",
    "display(results[\"top_products\"])"
   ]
  },
  {
   "cell_type": "markdown",
   "metadata": {},
   "source": [
    "## 8. Custom Analysis"
   ]
  },
  {
   "cell_type": "code",
   "execution_count": null,
   "metadata": {},
   "outputs": [],
   "source": [
    "# Custom analysis - Sales performance by weekday\n",
    "weekday_sales = (\n",
    "    clean_data.groupby(\"weekday\")[\"total_sales\"].agg([\"sum\", \"mean\", \"count\"]).round(2)\n",
    ")\n",
    "weekday_sales.columns = [\"Total Sales\", \"Average Sales\", \"Number of Transactions\"]\n",
    "\n",
    "print(\"📅 SALES BY WEEKDAY\")\n",
    "print(\"=\" * 40)\n",
    "display(weekday_sales)\n",
    "\n",
    "# Plot weekday sales\n",
    "plt.figure(figsize=(10, 6))\n",
    "weekday_order = [\n",
    "    \"Monday\",\n",
    "    \"Tuesday\",\n",
    "    \"Wednesday\",\n",
    "    \"Thursday\",\n",
    "    \"Friday\",\n",
    "    \"Saturday\",\n",
    "    \"Sunday\",\n",
    "]\n",
    "weekday_sales_ordered = (\n",
    "    clean_data.groupby(\"weekday\")[\"total_sales\"]\n",
    "    .sum()\n",
    "    .reindex(weekday_order, fill_value=0)\n",
    ")\n",
    "weekday_sales_ordered.plot(kind=\"bar\", color=\"lightgreen\", edgecolor=\"black\")\n",
    "plt.title(\"Sales by Weekday\", fontsize=16, fontweight=\"bold\")\n",
    "plt.xlabel(\"Weekday\", fontsize=12)\n",
    "plt.ylabel(\"Total Sales ($)\", fontsize=12)\n",
    "plt.xticks(rotation=45)\n",
    "plt.grid(axis=\"y\", alpha=0.3)\n",
    "plt.tight_layout()\n",
    "plt.show()"
   ]
  },
  {
   "cell_type": "markdown",
   "metadata": {},
   "source": [
    "## 9. Export Results"
   ]
  },
  {
   "cell_type": "code",
   "execution_count": null,
   "metadata": {},
   "outputs": [],
   "source": [
    "# Save cleaned data\n",
    "analyzer.load_data()\n",
    "\n",
    "# Generate comprehensive report\n",
    "analyzer.generate_report()\n",
    "\n",
    "# Create all visualizations\n",
    "analyzer.create_visualizations()\n",
    "\n",
    "print(\"✅ All results exported!\")\n",
    "print(\"📁 Check the 'output' directory for:\")\n",
    "print(\"   📊 Plots: output/plots/\")\n",
    "print(\"   📋 Reports: output/reports/\")\n",
    "print(\"   💾 Data: output/\")"
   ]
  },
  {
   "cell_type": "markdown",
   "metadata": {},
   "source": [
    "## 10. Summary"
   ]
  },
  {
   "cell_type": "code",
   "execution_count": null,
   "metadata": {},
   "outputs": [],
   "source": [
    "# Display final summary\n",
    "analyzer.display_summary()"
   ]
  }
 ],
 "metadata": {
  "kernelspec": {
   "display_name": "earl2025",
   "language": "python",
   "name": "python3"
  },
  "language_info": {
   "codemirror_mode": {
    "name": "ipython",
    "version": 3
   },
   "file_extension": ".py",
   "mimetype": "text/x-python",
   "name": "python",
   "nbconvert_exporter": "python",
   "pygments_lexer": "ipython3",
   "version": "3.13.4"
  }
 },
 "nbformat": 4,
 "nbformat_minor": 4
}
