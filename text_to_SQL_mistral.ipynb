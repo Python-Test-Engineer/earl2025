{
  "cells": [
    {
      "cell_type": "markdown",
      "id": "7686a24e-8fc8-430c-b67a-5597fc25280a",
      "metadata": {
        "id": "7686a24e-8fc8-430c-b67a-5597fc25280a"
      },
      "source": [
        "# Text to SQL on multi-tables database\n",
        "\n",
        "\n",
        "![image.png](./images/text_to_sql1.png)"
      ]
    },
    {
      "cell_type": "markdown",
      "id": "808cde16",
      "metadata": {
        "id": "808cde16"
      },
      "source": [
        "In this cookbook we will show you how to :\n",
        "\n",
        "- Use the function calling capabilities of Mistral models\n",
        "- Build a text2SQL architecture that scales more efficiently than a naive approach where all schemas are integrally injected in the system prompt  \n",
        "- Evaluate your system with Mistral models and leveraging the DeepEval framework"
      ]
    },
    {
      "cell_type": "markdown",
      "id": "250338e1-703c-4460-bacb-f78314c51ee6",
      "metadata": {
        "id": "250338e1-703c-4460-bacb-f78314c51ee6"
      },
      "source": [
        "# Imports"
      ]
    },
    {
      "cell_type": "code",
      "execution_count": 1,
      "id": "1a68d946-aa0e-48f7-8a38-ab00cc0e7d6c",
      "metadata": {
        "colab": {
          "base_uri": "https://localhost:8080/"
        },
        "id": "1a68d946-aa0e-48f7-8a38-ab00cc0e7d6c",
        "outputId": "d899f28f-c58d-494c-8257-cfd3be1a2121"
      },
      "outputs": [],
      "source": [
        "# !pip install mistralai langchain deepeval"
      ]
    },
    {
      "cell_type": "code",
      "execution_count": 2,
      "id": "a6edc4c6",
      "metadata": {},
      "outputs": [
        {
          "name": "stdout",
          "output_type": "stream",
          "text": [
            "MISTRAL_API_KEY: DiqDVOpeSbb5Rl\n"
          ]
        }
      ],
      "source": [
        "from dotenv import load_dotenv, find_dotenv\n",
        "import os\n",
        "from openai import OpenAI\n",
        "\n",
        "load_dotenv(find_dotenv())\n",
        "MISTRAL_API_KEY = os.getenv(\"MISTRAL_API_KEY\")\n",
        "print(\"MISTRAL_API_KEY:\", MISTRAL_API_KEY[:14])\n",
        "if not MISTRAL_API_KEY:\n",
        "    raise ValueError(\n",
        "        \"Pfrom openai import OpenAIlease set the MISTRAL_API_KEY environment variable.\"\n",
        "    )"
      ]
    },
    {
      "cell_type": "code",
      "execution_count": 3,
      "id": "2fa8e4d3",
      "metadata": {},
      "outputs": [],
      "source": [
        "def get_llm_client(llm_choice):\n",
        "    if llm_choice == \"GROQ\":\n",
        "        client = OpenAI(\n",
        "            base_url=\"https://api.groq.com/openai/v1\",\n",
        "            api_key=os.environ.get(\"GROQ_API_KEY\"),\n",
        "        )\n",
        "        return client\n",
        "    elif llm_choice == \"OPENAI\":\n",
        "        load_dotenv()  # load environment variables from .env fil\n",
        "        client = OpenAI(api_key=os.environ.get(\"OPENAI_API_KEY\"))\n",
        "        return client\n",
        "    else:\n",
        "        raise ValueError(\"Invalid LLM choice. Please choose 'GROQ' or 'OPENAI'.\")"
      ]
    },
    {
      "cell_type": "code",
      "execution_count": 4,
      "id": "dc5564ea",
      "metadata": {},
      "outputs": [
        {
          "data": {
            "text/plain": [
              "True"
            ]
          },
          "execution_count": 4,
          "metadata": {},
          "output_type": "execute_result"
        }
      ],
      "source": [
        "# Load environment variables in a file called .env\n",
        "# Print the key prefixes to help with any debugging\n",
        "load_dotenv()\n",
        "\n",
        "# OPENAI_API_KEY = os.getenv(\"OPENAI_API_KEY\")\n",
        "# GROQ_API_KEY = os.getenv(\"GROQ_API_KEY\")\n",
        "\n",
        "# LLM_CHOICE = \"OPENAI\"\n",
        "# # LLM_CHOICE = \"GROQ\"\n",
        "\n",
        "# if OPENAI_API_KEY:\n",
        "#     print(f\"OPENAI_API_KEY exists and begins {OPENAI_API_KEY[:14]}...\")\n",
        "# else:\n",
        "#     print(\"OPENAI_API_KEY not set\")\n",
        "\n",
        "# if GROQ_API_KEY:\n",
        "#     print(f\"GROQ_API_KEY exists and begins {GROQ_API_KEY[:14]}...\")\n",
        "# else:\n",
        "#     print(\"GROQ_API_KEY not set\")\n",
        "\n",
        "\n",
        "# client = get_llm_client(LLM_CHOICE)\n",
        "# if LLM_CHOICE == \"GROQ\":\n",
        "#     MODEL = \"llama-3.3-70b-versatile\"\n",
        "# else:\n",
        "#     MODEL = \"gpt-4o-mini\"\n",
        "\n",
        "# print(f\"LLM_CHOICE: {LLM_CHOICE} - MODEL: {MODEL}\")"
      ]
    },
    {
      "cell_type": "code",
      "execution_count": 5,
      "id": "43a1ca17-0d28-4ecf-97f3-358be21059bd",
      "metadata": {
        "id": "43a1ca17-0d28-4ecf-97f3-358be21059bd"
      },
      "outputs": [],
      "source": [
        "from mistralai import Mistral\n",
        "\n",
        "\n",
        "# To interract with the SQL database\n",
        "from langchain_community.utilities import SQLDatabase\n",
        "\n",
        "# To evaluate text2SQL performances\n",
        "from deepeval.models import DeepEvalBaseLLM\n",
        "from deepeval.test_case import LLMTestCase, LLMTestCaseParams\n",
        "from deepeval.dataset import EvaluationDataset\n",
        "from deepeval.metrics import GEval\n",
        "\n",
        "import json"
      ]
    },
    {
      "cell_type": "markdown",
      "id": "03483390-4866-48ce-bb3e-a0684042ebd6",
      "metadata": {
        "id": "03483390-4866-48ce-bb3e-a0684042ebd6"
      },
      "source": [
        "# Load the Chinook database\n",
        "\n",
        "\"Chinook is a sample database available for SQL Server, Oracle, MySQL, etc. It can be created by running a single SQL script. Chinook database is an alternative to the Northwind database, being ideal for demos and testing ORM tools targeting single and multiple database servers.\"\n",
        "\n",
        "To run this notebook you will need to download the Chinook datase. You will find more information about this database by clicking on this [github link](https://github.com/lerocha/chinook-database).\n",
        "\n",
        "To create the `Chinook.db` in the same directory as this notebook you have several options :\n",
        "\n",
        "- You can download and build the database via the command line :\n",
        "\n",
        "```\n",
        "curl -s https://raw.githubusercontent.com/lerocha/chinook-database/master/ChinookDatabase/DataSources/Chinook_Sqlite.sql | sqlite3 Chinook.db\n",
        "```\n",
        "\n",
        "- Another strategy consists in running the following script `https://raw.githubusercontent.com/lerocha/chinook-database/master/ChinookDatabase/DataSources/Chinook_Sqlite.sql`.\n",
        "\n",
        "Firstly save the script to a folder/directory on your computer. Then create a database called Chinook with `sqlite3 Chinook.db`. Ultimately run the script with the command `.read Chinook_Sqlite.sql`\n",
        "\n",
        "![image.png](./images/text_to_sql2.png)"
      ]
    },
    {
      "cell_type": "code",
      "execution_count": null,
      "id": "7c864a59",
      "metadata": {},
      "outputs": [],
      "source": []
    },
    {
      "cell_type": "code",
      "execution_count": 6,
      "id": "qYt91HG198Qs",
      "metadata": {
        "colab": {
          "base_uri": "https://localhost:8080/"
        },
        "id": "qYt91HG198Qs",
        "outputId": "ca176c43-2daa-467c-c58c-18b3394adee7"
      },
      "outputs": [],
      "source": [
        "# !sqlite3 Chinook.db"
      ]
    },
    {
      "cell_type": "markdown",
      "id": "16f66a1b-02eb-4c34-b6cc-460af14b8ef3",
      "metadata": {
        "id": "16f66a1b-02eb-4c34-b6cc-460af14b8ef3"
      },
      "source": [
        " # Set up clients"
      ]
    },
    {
      "cell_type": "code",
      "execution_count": 7,
      "id": "1768f764-3bac-4e15-b090-fc4e04d94c2c",
      "metadata": {
        "colab": {
          "base_uri": "https://localhost:8080/"
        },
        "id": "1768f764-3bac-4e15-b090-fc4e04d94c2c",
        "outputId": "88c23196-2587-4f67-fe95-4d23828d7207"
      },
      "outputs": [],
      "source": [
        "api_key = MISTRAL_API_KEY\n",
        "client = Mistral(api_key=api_key)\n",
        "uri = \"sqlite:///chinook.db\""
      ]
    },
    {
      "cell_type": "markdown",
      "id": "5dba2bd9-5ce4-4c75-98ef-520297927b5f",
      "metadata": {
        "id": "5dba2bd9-5ce4-4c75-98ef-520297927b5f"
      },
      "source": [
        "# Interract with the Chinook database\n",
        "\n",
        "We are defining two functions :\n",
        "- run_sql_query that runs sql code on Chinook\n",
        "- get_sql_schema_of_table that returns the schema of a table specified as input"
      ]
    },
    {
      "cell_type": "code",
      "execution_count": 8,
      "id": "2a186021-474d-4754-b585-0688f2d4bf38",
      "metadata": {
        "colab": {
          "base_uri": "https://localhost:8080/",
          "height": 53
        },
        "id": "2a186021-474d-4754-b585-0688f2d4bf38",
        "outputId": "d0841348-aa89-43f8-d3e8-ad50ec53f1d2"
      },
      "outputs": [
        {
          "data": {
            "text/plain": [
              "\"[(1, 'AC/DC'), (2, 'Accept'), (3, 'Aerosmith'), (4, 'Alanis Morissette'), (5, 'Alice In Chains'), (6, 'Antônio Carlos Jobim'), (7, 'Apocalyptica'), (8, 'Audioslave'), (9, 'BackBeat'), (10, 'Billy Cobham')]\""
            ]
          },
          "execution_count": 8,
          "metadata": {},
          "output_type": "execute_result"
        }
      ],
      "source": [
        "def run_sql_query(sql_code):\n",
        "    \"\"\"\n",
        "    Executes the given SQL query against the database and returns the results.\n",
        "\n",
        "    Args:\n",
        "        sql_code (str): The SQL query to be executed.\n",
        "\n",
        "    Returns:\n",
        "        result: The results of the SQL query.\n",
        "    \"\"\"\n",
        "    db = SQLDatabase.from_uri(\"sqlite:///Chinook.db\")\n",
        "    return db.run(sql_code)\n",
        "\n",
        "\n",
        "run_sql_query(\"SELECT * FROM Artists LIMIT 10;\")"
      ]
    },
    {
      "cell_type": "code",
      "execution_count": 9,
      "id": "ddb4ead0-b222-43f8-b89d-437e4e199f96",
      "metadata": {
        "id": "ddb4ead0-b222-43f8-b89d-437e4e199f96"
      },
      "outputs": [],
      "source": [
        "def get_sql_schema_of_table(table):\n",
        "    \"\"\"\n",
        "    Returns the schema of a table.\n",
        "\n",
        "    Args:\n",
        "        table (str): Name of the table to be described\n",
        "\n",
        "    Returns:\n",
        "        result: Column names and types of the table\n",
        "    \"\"\"\n",
        "    if table == \"Album\":\n",
        "        return \"\"\" The table Album was created with the following code :\n",
        "\n",
        "CREATE TABLE [Album]\n",
        "(\n",
        "    [AlbumId] INTEGER  NOT NULL,\n",
        "    [Title] NVARCHAR(160)  NOT NULL,\n",
        "    [ArtistId] INTEGER  NOT NULL,\n",
        "    CONSTRAINT [PK_Album] PRIMARY KEY  ([AlbumId]),\n",
        "    FOREIGN KEY ([ArtistId]) REFERENCES [Artist] ([ArtistId])\n",
        "\t\tON DELETE NO ACTION ON UPDATE NO ACTION\n",
        ");\n",
        "        \"\"\"\n",
        "\n",
        "    if table == \"Artist\":\n",
        "        return \"\"\" The table Artist was created with the following code :\n",
        "\n",
        "CREATE TABLE [Artists]\n",
        "(\n",
        "    [ArtistId] INTEGER  NOT NULL,\n",
        "    [Name] NVARCHAR(120),\n",
        "    CONSTRAINT [PK_Artist] PRIMARY KEY  ([ArtistId])\n",
        ");\n",
        "        \"\"\"\n",
        "\n",
        "    if table == \"Customer\":\n",
        "        return \"\"\" The table Customer was created with the following code :\n",
        "\n",
        "CREATE TABLE [Customer]\n",
        "(\n",
        "    [CustomerId] INTEGER  NOT NULL,\n",
        "    [FirstName] NVARCHAR(40)  NOT NULL,\n",
        "    [LastName] NVARCHAR(20)  NOT NULL,\n",
        "    [Company] NVARCHAR(80),\n",
        "    [Address] NVARCHAR(70),\n",
        "    [City] NVARCHAR(40),\n",
        "    [State] NVARCHAR(40),\n",
        "    [Country] NVARCHAR(40),\n",
        "    [PostalCode] NVARCHAR(10),\n",
        "    [Phone] NVARCHAR(24),\n",
        "    [Fax] NVARCHAR(24),\n",
        "    [Email] NVARCHAR(60)  NOT NULL,\n",
        "    [SupportRepId] INTEGER,\n",
        "    CONSTRAINT [PK_Customer] PRIMARY KEY  ([CustomerId]),\n",
        "    FOREIGN KEY ([SupportRepId]) REFERENCES [Employee] ([EmployeeId])\n",
        "\t\tON DELETE NO ACTION ON UPDATE NO ACTION\n",
        ");\n",
        "        \"\"\"\n",
        "\n",
        "    if table == \"Employee\":\n",
        "        return \"\"\" The table Employee was created with the following code :\n",
        "\n",
        "CREATE TABLE [Employee]\n",
        "(\n",
        "    [EmployeeId] INTEGER  NOT NULL,\n",
        "    [LastName] NVARCHAR(20)  NOT NULL,\n",
        "    [FirstName] NVARCHAR(20)  NOT NULL,\n",
        "    [Title] NVARCHAR(30),\n",
        "    [ReportsTo] INTEGER,\n",
        "    [BirthDate] DATETIME,\n",
        "    [HireDate] DATETIME,\n",
        "    [Address] NVARCHAR(70),\n",
        "    [City] NVARCHAR(40),\n",
        "    [State] NVARCHAR(40),\n",
        "    [Country] NVARCHAR(40),\n",
        "    [PostalCode] NVARCHAR(10),\n",
        "    [Phone] NVARCHAR(24),\n",
        "    [Fax] NVARCHAR(24),\n",
        "    [Email] NVARCHAR(60),\n",
        "    CONSTRAINT [PK_Employee] PRIMARY KEY  ([EmployeeId]),\n",
        "    FOREIGN KEY ([ReportsTo]) REFERENCES [Employee] ([EmployeeId])\n",
        "\t\tON DELETE NO ACTION ON UPDATE NO ACTION\n",
        ");\n",
        "        \"\"\"\n",
        "\n",
        "    if table == \"Genre\":\n",
        "        return \"\"\" The table Genre was created with the following code :\n",
        "\n",
        " CREATE TABLE [Genres]\n",
        "(\n",
        "    [GenreId] INTEGER  NOT NULL,\n",
        "    [Name] NVARCHAR(120),\n",
        "    CONSTRAINT [PK_Genre] PRIMARY KEY  ([GenreId])\n",
        ");\n",
        "        \"\"\"\n",
        "\n",
        "    if table == \"Invoice\":\n",
        "        return \"\"\" The table Invoice was created with the following code :\n",
        "\n",
        "CREATE TABLE [Invoice]\n",
        "(\n",
        "    [InvoiceId] INTEGER  NOT NULL,\n",
        "    [CustomerId] INTEGER  NOT NULL,\n",
        "    [InvoiceDate] DATETIME  NOT NULL,\n",
        "    [BillingAddress] NVARCHAR(70),\n",
        "    [BillingCity] NVARCHAR(40),\n",
        "    [BillingState] NVARCHAR(40),\n",
        "    [BillingCountry] NVARCHAR(40),\n",
        "    [BillingPostalCode] NVARCHAR(10),\n",
        "    [Total] NUMERIC(10,2)  NOT NULL,\n",
        "    CONSTRAINT [PK_Invoice] PRIMARY KEY  ([InvoiceId]),\n",
        "    FOREIGN KEY ([CustomerId]) REFERENCES [Customer] ([CustomerId])\n",
        "\t\tON DELETE NO ACTION ON UPDATE NO ACTION\n",
        ");\n",
        "        \"\"\"\n",
        "\n",
        "    if table == \"InvoiceLine\":\n",
        "        return \"\"\" The table InvoiceLine was created with the following code :\n",
        "\n",
        "CREATE TABLE [InvoiceLine]\n",
        "(\n",
        "    [InvoiceLineId] INTEGER  NOT NULL,\n",
        "    [InvoiceId] INTEGER  NOT NULL,\n",
        "    [TrackId] INTEGER  NOT NULL,\n",
        "    [UnitPrice] NUMERIC(10,2)  NOT NULL,\n",
        "    [Quantity] INTEGER  NOT NULL,\n",
        "    CONSTRAINT [PK_InvoiceLine] PRIMARY KEY  ([InvoiceLineId]),\n",
        "    FOREIGN KEY ([InvoiceId]) REFERENCES [Invoice] ([InvoiceId])\n",
        "\t\tON DELETE NO ACTION ON UPDATE NO ACTION,\n",
        "    FOREIGN KEY ([TrackId]) REFERENCES [Track] ([TrackId])\n",
        "\t\tON DELETE NO ACTION ON UPDATE NO ACTION\n",
        ");\n",
        "        \"\"\"\n",
        "\n",
        "    if table == \"MediaType\":\n",
        "        return \"\"\" The table MediaType was created with the following code :\n",
        "\n",
        "CREATE TABLE [MediaType]\n",
        "(\n",
        "    [MediaTypeId] INTEGER  NOT NULL,\n",
        "    [Name] NVARCHAR(120),\n",
        "    CONSTRAINT [PK_MediaType] PRIMARY KEY  ([MediaTypeId])\n",
        ");\n",
        "        \"\"\"\n",
        "\n",
        "    if table == \"Playlist\":\n",
        "        return \"\"\" The table Playlist was created with the following code :\n",
        "\n",
        "CREATE TABLE [Playlist]\n",
        "(\n",
        "    [PlaylistId] INTEGER  NOT NULL,\n",
        "    [Name] NVARCHAR(120),\n",
        "    CONSTRAINT [PK_Playlist] PRIMARY KEY  ([PlaylistId])\n",
        ");\n",
        "        \"\"\"\n",
        "\n",
        "    if table == \"PlaylistTrack\":\n",
        "        return \"\"\" The table PlaylistTrack was created with the following code :\n",
        "\n",
        "CREATE TABLE [PlaylistTrack]\n",
        "(\n",
        "    [PlaylistId] INTEGER  NOT NULL,\n",
        "    [TrackId] INTEGER  NOT NULL,\n",
        "    CONSTRAINT [PK_PlaylistTrack] PRIMARY KEY  ([PlaylistId], [TrackId]),\n",
        "    FOREIGN KEY ([PlaylistId]) REFERENCES [Playlist] ([PlaylistId])\n",
        "\t\tON DELETE NO ACTION ON UPDATE NO ACTION,\n",
        "    FOREIGN KEY ([TrackId]) REFERENCES [Track] ([TrackId])\n",
        "\t\tON DELETE NO ACTION ON UPDATE NO ACTION\n",
        ");\n",
        "        \"\"\"\n",
        "\n",
        "    if table == \"Track\":\n",
        "        return \"\"\" The table Track was created with the following code :\n",
        "\n",
        "CREATE TABLE [Track]\n",
        "(\n",
        "    [TrackId] INTEGER  NOT NULL,\n",
        "    [Name] NVARCHAR(200)  NOT NULL,\n",
        "    [AlbumId] INTEGER,\n",
        "    [MediaTypeId] INTEGER  NOT NULL,\n",
        "    [GenreId] INTEGER,\n",
        "    [Composer] NVARCHAR(220),\n",
        "    [Milliseconds] INTEGER  NOT NULL,\n",
        "    [Bytes] INTEGER,\n",
        "    [UnitPrice] NUMERIC(10,2)  NOT NULL,\n",
        "    CONSTRAINT [PK_Track] PRIMARY KEY  ([TrackId]),\n",
        "    FOREIGN KEY ([AlbumId]) REFERENCES [Album] ([AlbumId])\n",
        "\t\tON DELETE NO ACTION ON UPDATE NO ACTION,\n",
        "    FOREIGN KEY ([GenreId]) REFERENCES [Genre] ([GenreId])\n",
        "\t\tON DELETE NO ACTION ON UPDATE NO ACTION,\n",
        "    FOREIGN KEY ([MediaTypeId]) REFERENCES [MediaType] ([MediaTypeId])\n",
        "\t\tON DELETE NO ACTION ON UPDATE NO ACTION\n",
        ");\n",
        "        \"\"\"\n",
        "\n",
        "    return f\"The table {table} does not exist in the Chinook database\""
      ]
    },
    {
      "cell_type": "markdown",
      "id": "06eb23c7-e5c6-433e-8ab3-45444911eab0",
      "metadata": {
        "id": "06eb23c7-e5c6-433e-8ab3-45444911eab0"
      },
      "source": [
        "# Build agent"
      ]
    },
    {
      "cell_type": "code",
      "execution_count": 10,
      "id": "cc76a90f-83d8-4d77-8713-6460afcdfd62",
      "metadata": {
        "id": "cc76a90f-83d8-4d77-8713-6460afcdfd62"
      },
      "outputs": [],
      "source": [
        "def get_response(question, verbose=True):\n",
        "    \"\"\"\n",
        "    Answer question about the Chinook database.\n",
        "\n",
        "    Args:\n",
        "        question (str): The question asked by the user.\n",
        "        verbose (bool): If True, prints intermediate steps and results.\n",
        "\n",
        "    Returns:\n",
        "        str: The response to the user's question.\n",
        "    \"\"\"\n",
        "\n",
        "    # Define the tools available for the AI assistant\n",
        "    tools = [\n",
        "        {\n",
        "            \"type\": \"function\",\n",
        "            \"function\": {\n",
        "                \"name\": \"get_sql_schema_of_table\",\n",
        "                \"description\": \"Get the schema of a table in the Chinook database\",\n",
        "                \"parameters\": {\n",
        "                    \"type\": \"object\",\n",
        "                    \"properties\": {\n",
        "                        \"table\": {\n",
        "                            \"type\": \"string\",\n",
        "                            \"enum\": [\n",
        "                                \"Album\",\n",
        "                                \"Artist\",\n",
        "                                \"Customer\",\n",
        "                                \"Employee\",\n",
        "                                \"Genre\",\n",
        "                                \"Invoice\",\n",
        "                                \"InvoiceLine\",\n",
        "                                \"MediaType\",\n",
        "                                \"Playlist\",\n",
        "                                \"PlaylistTrack\",\n",
        "                                \"Track\",\n",
        "                            ],\n",
        "                            \"description\": \"The question asked by the user\",\n",
        "                        },\n",
        "                    },\n",
        "                    \"required\": [\"table\"],\n",
        "                },\n",
        "            },\n",
        "        },\n",
        "        {\n",
        "            \"type\": \"function\",\n",
        "            \"function\": {\n",
        "                \"name\": \"run_sql_query\",\n",
        "                \"description\": \"Run an SQL query on the Chinook database\",\n",
        "                \"parameters\": {\n",
        "                    \"type\": \"object\",\n",
        "                    \"properties\": {\n",
        "                        \"sql_code\": {\n",
        "                            \"type\": \"string\",\n",
        "                            \"description\": \"SQL code to be run\",\n",
        "                        },\n",
        "                    },\n",
        "                    \"required\": [\"sql_code\"],\n",
        "                },\n",
        "            },\n",
        "        },\n",
        "    ]\n",
        "\n",
        "    # System prompt for the AI assistant\n",
        "    system_prompt = \"\"\"\n",
        "    You are an AI assistant.\n",
        "    Your job is to reply to questions related to the Chinook database.\n",
        "    The Chinook data model represents a digital media store, including tables for artists, albums, media tracks, invoices, and customers.\n",
        "\n",
        "    To answer user questions, you have two tools at your disposal.\n",
        "\n",
        "    Firstly, a function called \"get_sql_schema_of_table\" which has a single parameter named \"table\" whose value is an element\n",
        "    of the following list: [\"Album\", \"Artist\", \"Customer\", \"Employee\", \"Genre\", \"Invoice\", \"InvoiceLine\", \"MediaType\", \"Playlist\", \"PlaylistTrack\", \"Track\"].\n",
        "\n",
        "    Secondly, a function called \"run_sql_query\" which has a single parameter named \"sql_code\".\n",
        "    It will run SQL code on the Chinook database. The SQL dialect is SQLite.\n",
        "\n",
        "    For a given question, your job is to:\n",
        "    1. Get the schemas of the tables that might help you answer the question using the \"get_sql_schema_of_table\" function.\n",
        "    2. Run a SQLite query on the relevant tables using the \"run_sql_query\" function.\n",
        "    3. Answer the user based on the result of the SQL query.\n",
        "\n",
        "    You will always remain factual, you will not hallucinate, and you will say that you don't know if you don't know.\n",
        "    You will politely ask the user to shoot another question if the question is not related to the Chinook database.\n",
        "    \"\"\"\n",
        "\n",
        "    # Initialize chat history with system prompt and user question\n",
        "    chat_history = [\n",
        "        {\"role\": \"system\", \"content\": system_prompt},\n",
        "        {\"role\": \"user\", \"content\": question},\n",
        "    ]\n",
        "\n",
        "    if verbose:\n",
        "        print(f\"User: {question}\\n\")\n",
        "\n",
        "    used_run_sql = False\n",
        "    used_get_sql_schema_of_table = False\n",
        "\n",
        "    # Function to determine tool choice based on usage\n",
        "    def tool_choice(used_run_sql, used_get_sql_schema_of_table):\n",
        "        # If the question is out of topic the agent is not expected to run a tool call\n",
        "        if not used_get_sql_schema_of_table:\n",
        "            return \"auto\"\n",
        "        # The agent is expected to run \"used_run_sql\" after getting the specifications of the tables of interest\n",
        "        if used_get_sql_schema_of_table and not used_run_sql:\n",
        "            return \"any\"\n",
        "        # The agent is not expected to run a tool call after querying the SQL table\n",
        "        if used_run_sql and used_get_sql_schema_of_table:\n",
        "            return \"none\"\n",
        "        return \"auto\"\n",
        "\n",
        "    iteration = 0\n",
        "    max_iteration = 10\n",
        "\n",
        "    # Main loop to process the question\n",
        "    while iteration < max_iteration:\n",
        "        inference = client.chat.complete(\n",
        "            model=\"mistral-large-latest\",\n",
        "            temperature=0.3,\n",
        "            messages=chat_history,\n",
        "            tools=tools,\n",
        "            tool_choice=tool_choice(used_run_sql, used_get_sql_schema_of_table),\n",
        "        )\n",
        "\n",
        "        chat_history.append(inference.choices[0].message)\n",
        "\n",
        "        tool_calls = inference.choices[0].message.tool_calls\n",
        "\n",
        "        if not tool_calls:\n",
        "            if verbose:\n",
        "                print(f\"Assistant: {inference.choices[0].message.content}\\n\")\n",
        "            return inference.choices[0].message.content\n",
        "\n",
        "        for tool_call in tool_calls:\n",
        "            function_name = tool_call.function.name\n",
        "            function_params = json.loads(tool_call.function.arguments)\n",
        "\n",
        "            if function_name == \"get_sql_schema_of_table\":\n",
        "                function_result = get_sql_schema_of_table(function_params[\"table\"])\n",
        "                if verbose:\n",
        "                    print(\n",
        "                        f\"Tool: Getting SQL schema of table {function_params['table']}\\n\"\n",
        "                    )\n",
        "                used_get_sql_schema_of_table = True\n",
        "\n",
        "            if function_name == \"run_sql_query\":\n",
        "                function_result = run_sql_query(function_params[\"sql_code\"])\n",
        "                if verbose:\n",
        "                    print(f\"Tool: Running code {function_params['sql_code']}\\n\")\n",
        "                used_run_sql = True\n",
        "\n",
        "            chat_history.append(\n",
        "                {\n",
        "                    \"role\": \"tool\",\n",
        "                    \"name\": function_name,\n",
        "                    \"content\": function_result,\n",
        "                    \"tool_call_id\": tool_call.id,\n",
        "                }\n",
        "            )\n",
        "\n",
        "        iteration += 1\n",
        "    return"
      ]
    },
    {
      "cell_type": "markdown",
      "id": "e63c99a7-7dd0-4b94-87d0-b61b0436bba0",
      "metadata": {
        "id": "e63c99a7-7dd0-4b94-87d0-b61b0436bba0"
      },
      "source": [
        "# Test the agent\n",
        "\n",
        "Let's test the agent and ask a few random questions of increasing complexity"
      ]
    },
    {
      "cell_type": "code",
      "execution_count": null,
      "id": "7441fad2-88e8-43cb-8e9a-0a90722ca2ab",
      "metadata": {
        "colab": {
          "base_uri": "https://localhost:8080/"
        },
        "id": "7441fad2-88e8-43cb-8e9a-0a90722ca2ab",
        "outputId": "8983dd7c-dbec-4a5a-fe6f-d9a9a04f0023"
      },
      "outputs": [
        {
          "name": "stdout",
          "output_type": "stream",
          "text": [
            "User: What is the oldest player in the NBA?\n",
            "\n"
          ]
        }
      ],
      "source": [
        "# Lets start by checking how the model reacts with out of topic questions!\n",
        "response = get_response(\"What is the oldest player in the NBA?\")"
      ]
    },
    {
      "cell_type": "code",
      "execution_count": null,
      "id": "c871ab51-f08b-4fe4-83ce-5636fba29935",
      "metadata": {
        "colab": {
          "base_uri": "https://localhost:8080/"
        },
        "id": "c871ab51-f08b-4fe4-83ce-5636fba29935",
        "outputId": "c32400d3-81a9-4587-9a3c-1646e375b904"
      },
      "outputs": [],
      "source": [
        "response = get_response(\"What are the genre in the store?\")"
      ]
    },
    {
      "cell_type": "code",
      "execution_count": null,
      "id": "c7c9d0e3-4728-48d2-9bc1-0c9d879aaa61",
      "metadata": {
        "colab": {
          "base_uri": "https://localhost:8080/"
        },
        "id": "c7c9d0e3-4728-48d2-9bc1-0c9d879aaa61",
        "outputId": "88fe718d-4d63-49d1-8aa5-28f19b825583"
      },
      "outputs": [],
      "source": [
        "response = get_response(\"What are the albums of the rock band U2?\")"
      ]
    },
    {
      "cell_type": "code",
      "execution_count": null,
      "id": "7da7d15c-0a93-42ac-8159-9eac3e33dc85",
      "metadata": {
        "colab": {
          "base_uri": "https://localhost:8080/"
        },
        "id": "7da7d15c-0a93-42ac-8159-9eac3e33dc85",
        "outputId": "8faffab2-3a91-4946-9c97-4b4c2f9aa274"
      },
      "outputs": [],
      "source": [
        "response = get_response(\n",
        "    \"What is the shortest song that the rock band U2 ever composed?\"\n",
        ")"
      ]
    },
    {
      "cell_type": "code",
      "execution_count": null,
      "id": "13ea678c-e262-420d-9725-e6573a9d5720",
      "metadata": {
        "colab": {
          "base_uri": "https://localhost:8080/"
        },
        "id": "13ea678c-e262-420d-9725-e6573a9d5720",
        "outputId": "b1201719-4c3f-46de-f7ba-9c9ff5ca14bb"
      },
      "outputs": [],
      "source": [
        "response = get_response(\"Which track from U2 is the most sold?\")"
      ]
    },
    {
      "cell_type": "code",
      "execution_count": null,
      "id": "b8f08dc7-2157-4ad6-82c5-6e80a8babdcc",
      "metadata": {
        "colab": {
          "base_uri": "https://localhost:8080/"
        },
        "id": "b8f08dc7-2157-4ad6-82c5-6e80a8babdcc",
        "outputId": "d4acb20a-5a88-4cd5-e59f-7ffb56fa78a2"
      },
      "outputs": [],
      "source": [
        "response = get_response(\"Which consumer bought the biggest amound of U2 songs?\")"
      ]
    },
    {
      "cell_type": "code",
      "execution_count": null,
      "id": "b09892eb-aedf-4dd5-8ada-99a111c13e38",
      "metadata": {
        "colab": {
          "base_uri": "https://localhost:8080/"
        },
        "id": "b09892eb-aedf-4dd5-8ada-99a111c13e38",
        "outputId": "3a280ded-7373-4a6a-fe8d-2962eed6b85c"
      },
      "outputs": [],
      "source": [
        "response = get_response(\"List all artist that have a color in their name\")"
      ]
    },
    {
      "cell_type": "code",
      "execution_count": null,
      "id": "4f4dfb26-24cb-4f42-a7af-4fa2c65759ef",
      "metadata": {
        "colab": {
          "base_uri": "https://localhost:8080/"
        },
        "id": "4f4dfb26-24cb-4f42-a7af-4fa2c65759ef",
        "outputId": "ad293500-8589-4605-b20d-c2de42f8cad1"
      },
      "outputs": [],
      "source": [
        "response = get_response(\"Who are our top Customers according to Invoices?\")"
      ]
    },
    {
      "cell_type": "markdown",
      "id": "bcfd160d",
      "metadata": {},
      "source": [
        "![image.png](./images/text_to_sql1.png)\n",
        "![image.png](./images/text_to_sql2.png)"
      ]
    },
    {
      "cell_type": "markdown",
      "id": "09a1f14e-3eb8-4366-835b-cca497204c63",
      "metadata": {
        "id": "09a1f14e-3eb8-4366-835b-cca497204c63"
      },
      "source": [
        "# Evaluating\n",
        "\n",
        "Let's try to evaluate the agent in a more formal way.\n",
        "\n",
        "We will build a test set based on the questions from this Medium article [Chinook question/answers](https://medium.com/@raufrukayat/chinook-database-querying-a-digital-music-store-database-8c98cf0f8611)\n",
        "\n",
        "We will evaluate answers via LLM as a judge through the framework [DeepEval](https://docs.confident-ai.com/) from which the image here below is taken.\n",
        "\n",
        "![image.png](./images/text_to_sql3.png)"
      ]
    },
    {
      "cell_type": "code",
      "execution_count": null,
      "id": "115559d3-5a08-453e-a313-8e12958120a4",
      "metadata": {
        "id": "115559d3-5a08-453e-a313-8e12958120a4"
      },
      "outputs": [],
      "source": [
        "class CustomMistralLarge(DeepEvalBaseLLM):\n",
        "    def __init__(self, api_key):\n",
        "        self.client = Mistral(api_key=api_key)\n",
        "        self.model_name = \"mistral-large-latest\"\n",
        "\n",
        "    def get_model_name(self):\n",
        "        return \"Mistral-large-latest\"\n",
        "\n",
        "    def load_model(self):\n",
        "        # Since we are using the Mistral API, we don't need to load a model object.\n",
        "        return self.client\n",
        "\n",
        "    def generate(self, prompt: str) -> str:\n",
        "        chat_response = self.client.chat.complete(\n",
        "            model=self.model_name,\n",
        "            messages=[\n",
        "                {\n",
        "                    \"role\": \"user\",\n",
        "                    \"content\": prompt,\n",
        "                },\n",
        "            ],\n",
        "        )\n",
        "        return chat_response.choices[0].message.content\n",
        "\n",
        "    async def a_generate(self, prompt: str) -> str:\n",
        "        # Reusing the synchronous generate method for simplicity.\n",
        "        return self.generate(prompt)"
      ]
    },
    {
      "cell_type": "code",
      "execution_count": null,
      "id": "8bed9b48-ff27-44bb-85e7-12aec3ead6fb",
      "metadata": {
        "colab": {
          "base_uri": "https://localhost:8080/",
          "height": 1000
        },
        "id": "8bed9b48-ff27-44bb-85e7-12aec3ead6fb",
        "outputId": "ca11ed4f-5d28-47fe-b681-f19e995a4f16"
      },
      "outputs": [],
      "source": [
        "# Specify questions\n",
        "questions = [\n",
        "    \"Which Employee has the Highest Total Number of Customers?\",\n",
        "    \"Who are our top Customers according to Invoices?\",\n",
        "    \"How many Rock music listeners are there?\",\n",
        "    \"What artists have written most rock music songs?\",\n",
        "    \"Which artist has earned the most according to the Invoice Lines? How much is it?\",\n",
        "    \"How many tracks have a song length greater than the average song length?\",\n",
        "    \"What is the most popular genre for Australia?\",\n",
        "]\n",
        "\n",
        "# Specify associated answers\n",
        "golden_answers = [\n",
        "    \"Peacock Jane has the most customers (she has 21 customers)\",\n",
        "    \"Helena Holy, Richard Cunningham, Luis Rojas, Ladislav Kovacs, and Hugh O’Reilly are the top five customers who have spent the highest amount of money according to the invoice\",\n",
        "    \"We found out that all 59 customers in the database have listened to Rock Music.\",\n",
        "    \"Led Zeppelin tops the list of Artists who have written the most Rock Music with 114 songs followed Closely by U2 with 112 music.\",\n",
        "    \"The Artist who has earned the most according to the invoice lines is Iron Maiden with a total of $138.6.\",\n",
        "    \"Out of 3503 songs in the database, we found out that 494 of these songs have length more than the average music length of 393,599.21 milliseconds.\",\n",
        "    \"Rock is the most popular song for Australia\",\n",
        "]\n",
        "\n",
        "# Build evaluation dataset\n",
        "test_cases = [\n",
        "    LLMTestCase(\n",
        "        input=question,\n",
        "        actual_output=get_response(question, verbose=False),\n",
        "        expected_output=golden,\n",
        "    )\n",
        "    for question, golden in zip(questions, golden_answers)\n",
        "]\n",
        "dataset = EvaluationDataset(test_cases=test_cases)\n",
        "\n",
        "# Specify evaluation metric\n",
        "correctness_metric = GEval(\n",
        "    name=\"Correctness\",\n",
        "    criteria=\"Determine whether the actual output is factually correct based on the expected output.\",\n",
        "    # NOTE: you can only provide either criteria or evaluation_steps, and not both\n",
        "    evaluation_steps=[\n",
        "        \"Check whether the facts in 'actual output' contradicts any facts in 'expected output\",\n",
        "        \"You should also heavily penalize situations where the actual output does not answers the question\",\n",
        "    ],\n",
        "    evaluation_params=[\n",
        "        LLMTestCaseParams.INPUT,\n",
        "        LLMTestCaseParams.ACTUAL_OUTPUT,\n",
        "        LLMTestCaseParams.EXPECTED_OUTPUT,\n",
        "    ],\n",
        "    model=CustomMistralLarge(api_key),\n",
        ")\n",
        "\n",
        "# Evaluate agent\n",
        "dataset.evaluate([correctness_metric])"
      ]
    },
    {
      "cell_type": "code",
      "execution_count": null,
      "id": "o4YUNyrKBKwJ",
      "metadata": {
        "id": "o4YUNyrKBKwJ"
      },
      "outputs": [],
      "source": []
    }
  ],
  "metadata": {
    "colab": {
      "provenance": []
    },
    "kernelspec": {
      "display_name": "venv",
      "language": "python",
      "name": "python3"
    },
    "language_info": {
      "codemirror_mode": {
        "name": "ipython",
        "version": 3
      },
      "file_extension": ".py",
      "mimetype": "text/x-python",
      "name": "python",
      "nbconvert_exporter": "python",
      "pygments_lexer": "ipython3",
      "version": "3.12.1"
    }
  },
  "nbformat": 4,
  "nbformat_minor": 5
}
