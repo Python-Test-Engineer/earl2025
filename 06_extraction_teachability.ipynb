{
 "cells": [
  {
   "cell_type": "markdown",
   "id": "02c35b68",
   "metadata": {},
   "source": [
    "I came across a YT video about 'Make your Agents teachable!'.\n",
    "\n",
    "I thought I had missed something...\n",
    "\n",
    "In reality, it was extracting data from a response and then storing it in a DB so that it could be retrieved as needed in the future.\n",
    "\n",
    "Again, traditional Python not some new programming structure.\n"
   ]
  },
  {
   "cell_type": "markdown",
   "id": "2ecf5783",
   "metadata": {},
   "source": [
    "We saw in 05 that tool calling can not just give us the function we need to run but also the arguments. \n",
    "\n",
    "This example is more extensive in data extraction."
   ]
  },
  {
   "cell_type": "code",
   "execution_count": 1,
   "id": "de23bb9e-37c5-4377-9a82-d7b6c648eeb6",
   "metadata": {},
   "outputs": [],
   "source": [
    "import os\n",
    "import json\n",
    "from openai import OpenAI\n",
    "from dotenv import load_dotenv\n",
    "from pprint import pprint"
   ]
  },
  {
   "cell_type": "code",
   "execution_count": 2,
   "id": "4bc8ef8b",
   "metadata": {},
   "outputs": [],
   "source": [
    "def get_llm_client(llm_choice):\n",
    "    if llm_choice == \"GROQ\":\n",
    "        client = OpenAI(\n",
    "            base_url=\"https://api.groq.com/openai/v1\",\n",
    "            api_key=os.environ.get(\"GROQ_API_KEY\"),\n",
    "        )\n",
    "        return client\n",
    "    elif llm_choice == \"OPENAI\":\n",
    "        load_dotenv()  # load environment variables from .env fil\n",
    "        client = OpenAI(api_key=os.environ.get(\"OPENAI_API_KEY\"))\n",
    "        return client\n",
    "    else:\n",
    "        raise ValueError(\"Invalid LLM choice. Please choose 'GROQ' or 'OPENAI'.\")"
   ]
  },
  {
   "cell_type": "code",
   "execution_count": 3,
   "id": "5c97f09d",
   "metadata": {},
   "outputs": [
    {
     "name": "stdout",
     "output_type": "stream",
     "text": [
      "OPENAI_API_KEY exists and begins sk-proj-1WUVgv...\n",
      "GROQ_API_KEY exists and begins gsk_11hFN1EMfj...\n",
      "LLM_CHOICE: GROQ - MODEL: llama-3.3-70b-versatile\n"
     ]
    }
   ],
   "source": [
    "# Load environment variables in a file called .env\n",
    "# Print the key prefixes to help with any debugging\n",
    "load_dotenv()\n",
    "\n",
    "OPENAI_API_KEY = os.getenv(\"OPENAI_API_KEY\")\n",
    "GROQ_API_KEY = os.getenv(\"GROQ_API_KEY\")\n",
    "\n",
    "LLM_CHOICE = \"OPENAI\"\n",
    "LLM_CHOICE = \"GROQ\"\n",
    "\n",
    "if OPENAI_API_KEY:\n",
    "    print(f\"OPENAI_API_KEY exists and begins {OPENAI_API_KEY[:14]}...\")\n",
    "else:\n",
    "    print(\"OPENAI_API_KEY not set\")\n",
    "\n",
    "if GROQ_API_KEY:\n",
    "    print(f\"GROQ_API_KEY exists and begins {GROQ_API_KEY[:14]}...\")\n",
    "else:\n",
    "    print(\"GROQ_API_KEY not set\")\n",
    "\n",
    "\n",
    "client = get_llm_client(LLM_CHOICE)\n",
    "if LLM_CHOICE == \"GROQ\":\n",
    "    MODEL = \"llama-3.3-70b-versatile\"\n",
    "else:\n",
    "    MODEL = \"gpt-4o-mini\"\n",
    "\n",
    "print(f\"LLM_CHOICE: {LLM_CHOICE} - MODEL: {MODEL}\")"
   ]
  },
  {
   "cell_type": "markdown",
   "id": "4bf42837",
   "metadata": {},
   "source": [
    "Here we instruct the Agent to extract data from the response and also use some XML type tags as part of our prompt. Many LLMs use this feature in their responses.\n"
   ]
  },
  {
   "cell_type": "markdown",
   "id": "1687a70f",
   "metadata": {},
   "source": [
    "I am going to use some different syntax just to show that we can create our own output formats. We can use CAPS and Markdown styling to emphasise important points.\n"
   ]
  },
  {
   "cell_type": "markdown",
   "id": "7a01bdb0",
   "metadata": {},
   "source": [
    "Remember, can we as humans/developers understand what the prompt requires. If so, the LLM will be able to understand it too as it has been trained on many similar examples sufficient to predict what to do."
   ]
  },
  {
   "cell_type": "code",
   "execution_count": 4,
   "id": "378a0296-59a2-45c6-82eb-941344d3eeff",
   "metadata": {},
   "outputs": [],
   "source": [
    "system_message = \"\"\"\n",
    "You are a teachability agent. You examine a conversation listed between <conv> and </conv> and output a list of pertinent facts,\n",
    "as well as a concise summary. \n",
    "The OUTPUT FORMAT *must have* in the following JSON FORMAT:\n",
    "\n",
    "{\n",
    "    \"summary\": <SUMMARY>,\n",
    "    \"number_of_facts\": <NUMBER_OF_FACTS>,\n",
    "    \"facts\": [<FACTS>]\n",
    "}\n",
    "\n",
    "A fact is a dictionary with the following keys: \"fact\" and \"catgerory\".\n",
    "\n",
    "Here are some examples of facts:\n",
    "\n",
    "{\"fact\": \"Charles is a vegan and won't eat any meat.\", \"category\": \"personal\"}\n",
    "{\"fact\": \"Charles works in Brighton\", \"category\": \"work\"}\n",
    "{\"fact\": \"They have four dogs\", \"category\": \"pets\"}\n",
    "\n",
    "## NOT A FACT\n",
    "This is not a fact as it does not refer to a person:\n",
    "\"London is a city and the capital of England\"\n",
    "\n",
    "## NUMBER_OF_FACTS\n",
    "<NUMBER_OF_FACTS> stores the number of facts in the \"facts\" list\n",
    "*Be as specific as you can about the categories*\n",
    "\"\"\""
   ]
  },
  {
   "cell_type": "code",
   "execution_count": 5,
   "id": "5ada182c",
   "metadata": {},
   "outputs": [],
   "source": [
    "data = \"\"\"Paul is a vegan and won't eat any meat. He has been a vegan for over five years when he met his current wife Angela. They have two dogs, Roxy and Petra, and they both eat meat.\n",
    "\n",
    "They both work in London but live in Brighton near Seven Dials.\n",
    "\n",
    "Their jopb description is Django Developers.\n",
    "\n",
    "They travel a lot and have visited the following countries in the last year - Italy, France and Germany.\n",
    "\n",
    "They have an active YouTube channel where they post videos about their travels.\n",
    "\n",
    "They have a cat named Marmalade.\n",
    "\n",
    "Brighton is based on the South Coast of England and is known for its beaches and nightlife.\"\"\""
   ]
  },
  {
   "cell_type": "code",
   "execution_count": 6,
   "id": "7a35028c",
   "metadata": {},
   "outputs": [],
   "source": [
    "system_message += \"<conv>\" + data + \"</conv>\""
   ]
  },
  {
   "cell_type": "code",
   "execution_count": 7,
   "id": "f4d56a0f-2a3d-484d-9344-0efa6862aff4",
   "metadata": {},
   "outputs": [],
   "source": [
    "prompts = [\n",
    "    {\"role\": \"system\", \"content\": system_message},\n",
    "    {\"role\": \"user\", \"content\": \"\"},\n",
    "]"
   ]
  },
  {
   "cell_type": "code",
   "execution_count": 8,
   "id": "3b3879b6-9a55-4fed-a18c-1ea2edfaf397",
   "metadata": {},
   "outputs": [],
   "source": [
    "response = client.chat.completions.create(model=MODEL, messages=prompts, temperature=0)\n",
    "res = response.choices[0].message.content.replace(\"\\n\", \"\")"
   ]
  },
  {
   "cell_type": "code",
   "execution_count": 9,
   "id": "7365da99",
   "metadata": {},
   "outputs": [],
   "source": [
    "output = json.loads(res)"
   ]
  },
  {
   "cell_type": "markdown",
   "id": "61dbc784",
   "metadata": {},
   "source": [
    "Having extracted information, we can store this in 'short term memory' - app level cache - or long term memory - stored in a DB for example\n",
    "and retrieved as needed and added to the SYSTEM MESSAGE.\n"
   ]
  },
  {
   "cell_type": "code",
   "execution_count": 10,
   "id": "8442dc5d",
   "metadata": {},
   "outputs": [
    {
     "name": "stdout",
     "output_type": "stream",
     "text": [
      "{'facts': [{'category': 'personal',\n",
      "            'fact': \"Paul is a vegan and won't eat any meat.\"},\n",
      "           {'category': 'personal',\n",
      "            'fact': 'Paul has been a vegan for over five years'},\n",
      "           {'category': 'personal', 'fact': 'Paul is married to Angela'},\n",
      "           {'category': 'pets', 'fact': 'They have two dogs, Roxy and Petra'},\n",
      "           {'category': 'pets', 'fact': 'They have a cat named Marmalade'},\n",
      "           {'category': 'work',\n",
      "            'fact': 'Paul and Angela work in London as Django Developers'},\n",
      "           {'category': 'residence',\n",
      "            'fact': 'Paul and Angela live in Brighton'}],\n",
      " 'number_of_facts': 7,\n",
      " 'summary': 'Paul is a vegan who works as a Django Developer in London, lives '\n",
      "            'in Brighton with his wife Angela, and has pets including two dogs '\n",
      "            'and a cat. They enjoy traveling and have a YouTube channel '\n",
      "            'documenting their adventures.'}\n"
     ]
    }
   ],
   "source": [
    "pprint(output)"
   ]
  },
  {
   "cell_type": "code",
   "execution_count": 11,
   "id": "26b0b273",
   "metadata": {},
   "outputs": [
    {
     "name": "stdout",
     "output_type": "stream",
     "text": [
      "SUMMARY\n",
      "('Paul is a vegan who works as a Django Developer in London, lives in Brighton '\n",
      " 'with his wife Angela, and has pets including two dogs and a cat. They enjoy '\n",
      " 'traveling and have a YouTube channel documenting their adventures.')\n",
      "FACTS\n",
      "[{'category': 'personal', 'fact': \"Paul is a vegan and won't eat any meat.\"},\n",
      " {'category': 'personal', 'fact': 'Paul has been a vegan for over five years'},\n",
      " {'category': 'personal', 'fact': 'Paul is married to Angela'},\n",
      " {'category': 'pets', 'fact': 'They have two dogs, Roxy and Petra'},\n",
      " {'category': 'pets', 'fact': 'They have a cat named Marmalade'},\n",
      " {'category': 'work',\n",
      "  'fact': 'Paul and Angela work in London as Django Developers'},\n",
      " {'category': 'residence', 'fact': 'Paul and Angela live in Brighton'}]\n"
     ]
    }
   ],
   "source": [
    "\n",
    "print(\"SUMMARY\")\n",
    "pprint(output[\"summary\"])\n",
    "print(\"FACTS\")\n",
    "pprint(output[\"facts\"])"
   ]
  },
  {
   "cell_type": "markdown",
   "id": "5872e952",
   "metadata": {},
   "source": [
    "We could store this in a DB with the user id and this would give more personalisation the next time the user logs in."
   ]
  }
 ],
 "metadata": {
  "kernelspec": {
   "display_name": "venv",
   "language": "python",
   "name": "python3"
  },
  "language_info": {
   "codemirror_mode": {
    "name": "ipython",
    "version": 3
   },
   "file_extension": ".py",
   "mimetype": "text/x-python",
   "name": "python",
   "nbconvert_exporter": "python",
   "pygments_lexer": "ipython3",
   "version": "3.12.5"
  }
 },
 "nbformat": 4,
 "nbformat_minor": 5
}
